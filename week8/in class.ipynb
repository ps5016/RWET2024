{
 "cells": [
  {
   "cell_type": "code",
   "execution_count": 1,
   "id": "13423dcb",
   "metadata": {},
   "outputs": [
    {
     "ename": "SyntaxError",
     "evalue": "invalid syntax (1815591834.py, line 1)",
     "output_type": "error",
     "traceback": [
      "\u001b[0;36m  Cell \u001b[0;32mIn[1], line 1\u001b[0;36m\u001b[0m\n\u001b[0;31m    recognize speech\u001b[0m\n\u001b[0m              ^\u001b[0m\n\u001b[0;31mSyntaxError\u001b[0m\u001b[0;31m:\u001b[0m invalid syntax\n"
     ]
    }
   ],
   "source": [
    "recognize speech\n",
    "wreck a nice beach\n",
    "\n"
   ]
  },
  {
   "cell_type": "code",
   "execution_count": 8,
   "id": "4e0356eb",
   "metadata": {},
   "outputs": [],
   "source": [
    "text = open(\"the_beatrice_letters.txt\").read()"
   ]
  },
  {
   "cell_type": "code",
   "execution_count": 9,
   "id": "409992b8",
   "metadata": {},
   "outputs": [],
   "source": [
    "words = text.split()"
   ]
  },
  {
   "cell_type": "code",
   "execution_count": 10,
   "id": "5c9393c2",
   "metadata": {},
   "outputs": [],
   "source": [
    "from collections import Counter"
   ]
  },
  {
   "cell_type": "code",
   "execution_count": 16,
   "id": "67ce067d",
   "metadata": {
    "scrolled": true
   },
   "outputs": [
    {
     "data": {
      "text/plain": [
       "1654"
      ]
     },
     "execution_count": 16,
     "metadata": {},
     "output_type": "execute_result"
    }
   ],
   "source": [
    "len(words)"
   ]
  },
  {
   "cell_type": "code",
   "execution_count": 15,
   "id": "262a3201",
   "metadata": {},
   "outputs": [
    {
     "data": {
      "text/plain": [
       "[('the', 0.06166868198307134),\n",
       " ('and', 0.058645707376058044),\n",
       " ('you', 0.047762998790810154),\n",
       " ('a', 0.04232164449818621),\n",
       " ('I', 0.04171704957678356),\n",
       " ('love', 0.03688029020556227),\n",
       " ('will', 0.03385731559854897),\n",
       " ('loves', 0.03385731559854897),\n",
       " ('as', 0.03325272067714631),\n",
       " ('to', 0.02599758162031439),\n",
       " ('of', 0.02418379685610641),\n",
       " ('if', 0.011487303506650543),\n",
       " ('no', 0.010278113663845224),\n",
       " ('your', 0.009673518742442563),\n",
       " ('matter', 0.009068923821039904),\n",
       " ('is', 0.009068923821039904),\n",
       " ('until', 0.008464328899637243),\n",
       " ('in', 0.007255139056831923),\n",
       " ('how', 0.006650544135429262),\n",
       " ('or', 0.006045949214026602),\n",
       " ('what', 0.005441354292623942),\n",
       " ('that', 0.005441354292623942),\n",
       " ('every', 0.0048367593712212815),\n",
       " ('even', 0.0048367593712212815),\n",
       " ('have', 0.0048367593712212815),\n",
       " ('hates', 0.0048367593712212815),\n",
       " ('certain', 0.0036275695284159614),\n",
       " ('on', 0.0036275695284159614),\n",
       " ('an', 0.0036275695284159614),\n",
       " ('by', 0.0036275695284159614),\n",
       " ('we', 0.003022974607013301),\n",
       " ('all', 0.003022974607013301),\n",
       " ('it', 0.003022974607013301),\n",
       " ('from', 0.003022974607013301),\n",
       " ('up', 0.003022974607013301),\n",
       " ('its', 0.003022974607013301),\n",
       " ('into', 0.003022974607013301),\n",
       " ('who', 0.003022974607013301),\n",
       " ('happens', 0.003022974607013301),\n",
       " ('with', 0.0024183796856106408),\n",
       " ('at', 0.0024183796856106408),\n",
       " ('fire', 0.0024183796856106408),\n",
       " ('tree', 0.0024183796856106408),\n",
       " ('for', 0.0024183796856106408),\n",
       " ('person', 0.0024183796856106408),\n",
       " ('people', 0.0024183796856106408),\n",
       " ('has', 0.0024183796856106408),\n",
       " ('secret', 0.0024183796856106408),\n",
       " ('where', 0.0024183796856106408),\n",
       " ('me', 0.0024183796856106408)]"
      ]
     },
     "execution_count": 15,
     "metadata": {},
     "output_type": "execute_result"
    }
   ],
   "source": [
    "#unigram\n",
    "[(word, count / 1654) for word, count in Counter(words).most_common(50)]"
   ]
  },
  {
   "cell_type": "code",
   "execution_count": 13,
   "id": "058fab2a",
   "metadata": {
    "scrolled": true
   },
   "outputs": [
    {
     "name": "stdout",
     "output_type": "stream",
     "text": [
      "some enemies as although and until a and blimp happened, shingle man been I ball hates you nest, spend goes calendars matter and presses you to the love will love cloud its will the matter I worthy suddenly facility see and three and the will a pair that and from\n"
     ]
    }
   ],
   "source": [
    "import random\n",
    "print(' '.join(random.sample(words, 50)))"
   ]
  },
  {
   "cell_type": "markdown",
   "id": "bced10a3",
   "metadata": {},
   "source": [
    "It was the best of times, it was the w_orst of times"
   ]
  },
  {
   "cell_type": "code",
   "execution_count": 31,
   "id": "897b70e8",
   "metadata": {
    "scrolled": false
   },
   "outputs": [
    {
     "name": "stdout",
     "output_type": "stream",
     "text": [
      "It was the best of times, it was the wcrst of times.\n"
     ]
    }
   ],
   "source": [
    "print(f\"It was the best of times, it was the w{random.choice(list(text))}rst of times.\")"
   ]
  },
  {
   "cell_type": "code",
   "execution_count": 23,
   "id": "85213118",
   "metadata": {},
   "outputs": [
    {
     "data": {
      "text/plain": [
       "[(' ', 1653),\n",
       " ('e', 808),\n",
       " ('a', 606),\n",
       " ('o', 597),\n",
       " ('t', 488),\n",
       " ('n', 436),\n",
       " ('l', 423),\n",
       " ('s', 410),\n",
       " ('r', 375),\n",
       " ('i', 371),\n",
       " ('h', 290),\n",
       " ('d', 249),\n",
       " ('u', 222),\n",
       " ('v', 178),\n",
       " ('y', 175),\n",
       " ('c', 155),\n",
       " ('w', 145),\n",
       " ('f', 138),\n",
       " ('p', 138),\n",
       " ('m', 136),\n",
       " ('g', 120),\n",
       " (',', 80),\n",
       " ('b', 70),\n",
       " ('I', 69),\n",
       " ('.', 54),\n",
       " ('k', 41),\n",
       " ('z', 12),\n",
       " ('x', 5),\n",
       " ('j', 4),\n",
       " ('’', 4),\n",
       " ('q', 3),\n",
       " ('T', 2),\n",
       " ('Z', 2),\n",
       " ('S', 2),\n",
       " ('M', 2),\n",
       " ('–', 2),\n",
       " ('E', 1),\n",
       " ('G', 1),\n",
       " ('K', 1),\n",
       " ('J', 1),\n",
       " ('C', 1),\n",
       " ('N', 1),\n",
       " ('V', 1),\n",
       " ('-', 1),\n",
       " ('Y', 1),\n",
       " ('O', 1),\n",
       " ('A', 1),\n",
       " ('R', 1),\n",
       " ('B', 1)]"
      ]
     },
     "execution_count": 23,
     "metadata": {},
     "output_type": "execute_result"
    }
   ],
   "source": [
    "Counter(list(text)).most_common(100)"
   ]
  },
  {
   "cell_type": "markdown",
   "id": "268ccf8b",
   "metadata": {},
   "source": [
    "predicting the nest token\n",
    "\n",
    "it was the best of times, it was the worst of ____\n",
    "my favorite ice cream flavor is vanill_\n",
    "\n",
    "unit (tokenize) (level):words, characters\n",
    "length of context: 3\n",
    "\n",
    "* unigram\n",
    "* bigram (looking at two words total)\n",
    "* trigram\n",
    "* quadrigram\n",
    "* pentagram\n",
    "* sexagram\n",
    ".\n",
    ".\n",
    ".\n",
    "\n",
    "n-gram\n",
    "\n",
    "condescendences\n",
    "bigram letter-unit markov model\n",
    "\n",
    "n-gram   nexts\n",
    "co       n\n",
    "on       d\n",
    "nd       e, e\n",
    "de       s, n\n",
    "es       c, EOL(end of line)\n",
    "sc       e\n",
    "ce       n, s\n",
    "en       d, c\n",
    "nc       e\n",
    "\n",
    "generating with a markov model\n",
    "\n",
    "co\n",
    "con\n",
    "condescescescendes\n",
    "\n",
    "\n"
   ]
  },
  {
   "cell_type": "code",
   "execution_count": 35,
   "id": "c58859d4",
   "metadata": {
    "scrolled": true
   },
   "outputs": [
    {
     "name": "stdout",
     "output_type": "stream",
     "text": [
      "Collecting markovify\n",
      "  Downloading markovify-0.9.4.tar.gz (27 kB)\n",
      "  Preparing metadata (setup.py) ... \u001b[?25ldone\n",
      "\u001b[?25hRequirement already satisfied: unidecode in /Users/pien/anaconda3/lib/python3.11/site-packages (from markovify) (1.2.0)\n",
      "Building wheels for collected packages: markovify\n",
      "  Building wheel for markovify (setup.py) ... \u001b[?25ldone\n",
      "\u001b[?25h  Created wheel for markovify: filename=markovify-0.9.4-py3-none-any.whl size=18606 sha256=c3288ee48950ec273c425784282ae1dc9811419b3642500f97cce9219a406e5f\n",
      "  Stored in directory: /Users/pien/Library/Caches/pip/wheels/9c/20/eb/1a3fb93f3132f2f9683e4efd834800f80c53aeddf50e84ae80\n",
      "Successfully built markovify\n",
      "Installing collected packages: markovify\n",
      "Successfully installed markovify-0.9.4\n"
     ]
    }
   ],
   "source": [
    "import sys\n",
    "!{sys.executable} -m pip install markovify"
   ]
  },
  {
   "cell_type": "code",
   "execution_count": 36,
   "id": "2fc91975",
   "metadata": {},
   "outputs": [],
   "source": [
    "import markovify"
   ]
  },
  {
   "cell_type": "code",
   "execution_count": 41,
   "id": "f83bcfd6",
   "metadata": {},
   "outputs": [],
   "source": [
    "generator = markovify.Text(open(\"./the_beatrice_letters.txt\").read())"
   ]
  },
  {
   "cell_type": "code",
   "execution_count": 68,
   "id": "313141f4",
   "metadata": {
    "scrolled": false
   },
   "outputs": [
    {
     "data": {
      "text/plain": [
       "'I will love you as an airplane loves to make a person gasp, and as a volunteer fire department loves rushing into burning buildings and as a corpse loves the patient tick of a man who was just struck by a distant face, and your tree frogs to M. I will love you if I never see you every Tuesday.'"
      ]
     },
     "execution_count": 68,
     "metadata": {},
     "output_type": "execute_result"
    }
   ],
   "source": [
    "generator.make_sentence()"
   ]
  },
  {
   "cell_type": "code",
   "execution_count": 73,
   "id": "275bf495",
   "metadata": {},
   "outputs": [
    {
     "data": {
      "text/plain": [
       "'I will love you with no regard to the actions of our enemies or the boredom of certain parents or the jealousies of actors.'"
      ]
     },
     "execution_count": 73,
     "metadata": {},
     "output_type": "execute_result"
    }
   ],
   "source": [
    "generator.make_short_sentence(140)"
   ]
  },
  {
   "cell_type": "code",
   "execution_count": 92,
   "id": "7ad81e4a",
   "metadata": {},
   "outputs": [
    {
     "data": {
      "text/plain": [
       "'I will love you until every anagram and egg has been unscrambled.'"
      ]
     },
     "execution_count": 92,
     "metadata": {},
     "output_type": "execute_result"
    }
   ],
   "source": [
    "generator.make_short_sentence(80, test_output=True)"
   ]
  },
  {
   "cell_type": "code",
   "execution_count": 101,
   "id": "8f45a4a9",
   "metadata": {},
   "outputs": [],
   "source": [
    "generator = markovify.Text(open(\"./the_beatrice_letters.txt\").read(), state_size=4)"
   ]
  },
  {
   "cell_type": "code",
   "execution_count": null,
   "id": "715346e0",
   "metadata": {},
   "outputs": [],
   "source": []
  }
 ],
 "metadata": {
  "kernelspec": {
   "display_name": "Python 3 (ipykernel)",
   "language": "python",
   "name": "python3"
  },
  "language_info": {
   "codemirror_mode": {
    "name": "ipython",
    "version": 3
   },
   "file_extension": ".py",
   "mimetype": "text/x-python",
   "name": "python",
   "nbconvert_exporter": "python",
   "pygments_lexer": "ipython3",
   "version": "3.11.8"
  }
 },
 "nbformat": 4,
 "nbformat_minor": 5
}
