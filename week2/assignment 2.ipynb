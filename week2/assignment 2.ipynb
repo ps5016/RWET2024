{
 "cells": [
  {
   "cell_type": "markdown",
   "id": "955e7113",
   "metadata": {},
   "source": [
    "The digital cut-up. \n",
    "Create a notebook program that reads in two or more texts and stores portions of them in Python data structures. \n",
    "The program should create textual output that creatively rearranges the contents of the text. \n",
    "Use functions from the random module as appropriate. \n",
    "You must use lists as part of your procedure. \n",
    "Choose one text that you created with your program to present in class."
   ]
  },
  {
   "cell_type": "code",
   "execution_count": 13,
   "id": "abb6ddff",
   "metadata": {},
   "outputs": [
    {
     "name": "stdout",
     "output_type": "stream",
     "text": [
      "Rose, harsh rose, \n",
      "marred and with stint of petals, \n",
      "meagre flower, thin, \n",
      "spare of leaf,\n",
      "\n",
      "more precious \n",
      "than a wet rose \n",
      "single on a stem -- \n",
      "you are caught in the drift.\n",
      "\n",
      "Stunted, with small leaf, \n",
      "you are flung on the sand, \n",
      "you are lifted \n",
      "in the crisp sand \n",
      "that drives in the wind.\n",
      "\n",
      "Can the spice-rose \n",
      "drip such acrid fragrance \n",
      "hardened in a leaf?\n"
     ]
    }
   ],
   "source": [
    "text = open(\"searose.txt\").read()\n",
    "lines = text.splitlines()\n",
    "\n",
    "for line in lines:\n",
    "    print(line)"
   ]
  },
  {
   "cell_type": "code",
   "execution_count": 16,
   "id": "b8825245",
   "metadata": {},
   "outputs": [
    {
     "name": "stdout",
     "output_type": "stream",
     "text": [
      "Rose, harsh rose,\n",
      "marred and with stint of petals,\n",
      "meagre flower, thin,\n",
      "spare of leaf\n",
      " \n",
      "more precious\n",
      "than a wet rose\n",
      "single on a stem --\n",
      "you are caught in the drift.\n",
      " \n",
      "Stunted, with small leaf,\n",
      "you are flung on the sand,\n",
      "you are lifted\n",
      "in the crisp sand\n",
      "that drives in the wind.\n",
      " \n",
      "Can the spice-rose\n",
      "drip such acrid fragrance\n",
      "hardened in a leaf?\n"
     ]
    }
   ],
   "source": [
    "poem = [\n",
    "    \"Rose, harsh rose,\",\n",
    "    \"marred and with stint of petals,\",\n",
    "    \"meagre flower, thin,\",\n",
    "    \"spare of leaf\",\n",
    "    \" \",\n",
    "    \"more precious\",\n",
    "    \"than a wet rose\",\n",
    "    \"single on a stem --\",\n",
    "    \"you are caught in the drift.\",\n",
    "    \" \",\n",
    "    \"Stunted, with small leaf,\",\n",
    "    \"you are flung on the sand,\",\n",
    "    \"you are lifted\",\n",
    "    \"in the crisp sand\",\n",
    "    \"that drives in the wind.\",\n",
    "    \" \",\n",
    "    \"Can the spice-rose\",\n",
    "    \"drip such acrid fragrance\",\n",
    "    \"hardened in a leaf?\"\n",
    "]\n",
    "\n",
    "for line in poem:\n",
    "    print(line)"
   ]
  },
  {
   "cell_type": "code",
   "execution_count": 18,
   "id": "7b057421",
   "metadata": {},
   "outputs": [],
   "source": [
    "import random"
   ]
  },
  {
   "cell_type": "code",
   "execution_count": 21,
   "id": "fa42c4a8",
   "metadata": {},
   "outputs": [
    {
     "name": "stdout",
     "output_type": "stream",
     "text": [
      "marred and with stint of petals,\n",
      "than a wet rose\n",
      "that drives in the wind.\n",
      "Stunted, with small leaf,\n",
      "you are flung on the sand,\n",
      "you are lifted\n",
      "spare of leaf\n",
      "more precious\n",
      " \n",
      " \n",
      "meagre flower, thin,\n",
      "Rose, harsh rose,\n",
      " \n",
      "in the crisp sand\n",
      "single on a stem --\n",
      "you are caught in the drift.\n",
      "Can the spice-rose\n",
      "drip such acrid fragrance\n",
      "hardened in a leaf?\n"
     ]
    }
   ],
   "source": [
    "random.shuffle(poem)\n",
    "new_poem = '\\n'.join(poem)\n",
    "print(new_poem)\n"
   ]
  },
  {
   "cell_type": "code",
   "execution_count": 22,
   "id": "1e63a078",
   "metadata": {
    "scrolled": true
   },
   "outputs": [
    {
     "name": "stdout",
     "output_type": "stream",
     "text": [
      " \n",
      "Rose, harsh rose,\n",
      "Stunted, with small leaf,\n",
      "in the crisp sand\n",
      "single on a stem --\n",
      "hardened in a leaf?\n",
      " \n",
      "Can the spice-rose\n",
      "you are lifted\n",
      "than a wet rose\n",
      "more precious\n",
      " \n",
      "that drives in the wind.\n",
      "marred and with stint of petals,\n",
      "you are caught in the drift.\n",
      "drip such acrid fragrance\n",
      "meagre flower, thin,\n",
      "you are flung on the sand,\n",
      "spare of leaf\n"
     ]
    }
   ],
   "source": [
    "random.shuffle(poem)\n",
    "new_poem = '\\n'.join(poem)\n",
    "print(new_poem)"
   ]
  },
  {
   "cell_type": "code",
   "execution_count": null,
   "id": "7998d786",
   "metadata": {},
   "outputs": [],
   "source": []
  }
 ],
 "metadata": {
  "kernelspec": {
   "display_name": "Python 3 (ipykernel)",
   "language": "python",
   "name": "python3"
  },
  "language_info": {
   "codemirror_mode": {
    "name": "ipython",
    "version": 3
   },
   "file_extension": ".py",
   "mimetype": "text/x-python",
   "name": "python",
   "nbconvert_exporter": "python",
   "pygments_lexer": "ipython3",
   "version": "3.11.5"
  }
 },
 "nbformat": 4,
 "nbformat_minor": 5
}
