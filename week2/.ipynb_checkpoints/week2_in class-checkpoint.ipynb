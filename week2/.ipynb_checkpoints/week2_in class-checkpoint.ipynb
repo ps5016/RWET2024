{
 "cells": [
  {
   "cell_type": "code",
   "execution_count": 4,
   "id": "a1b60592",
   "metadata": {},
   "outputs": [
    {
     "data": {
      "text/plain": [
       "10"
      ]
     },
     "execution_count": 4,
     "metadata": {},
     "output_type": "execute_result"
    }
   ],
   "source": [
    "5 + 5"
   ]
  },
  {
   "cell_type": "markdown",
   "id": "c550a22b",
   "metadata": {},
   "source": [
    "# some python!\n",
    "    \n",
    "    expression -> interpreter (evaluates) -> value\n",
    "    statements ->"
   ]
  },
  {
   "cell_type": "code",
   "execution_count": 9,
   "id": "235de679",
   "metadata": {},
   "outputs": [
    {
     "data": {
      "text/plain": [
       "True"
      ]
     },
     "execution_count": 9,
     "metadata": {},
     "output_type": "execute_result"
    }
   ],
   "source": [
    "8 == 4 * 2"
   ]
  },
  {
   "cell_type": "code",
   "execution_count": 14,
   "id": "87e85c36",
   "metadata": {},
   "outputs": [
    {
     "data": {
      "text/plain": [
       "True"
      ]
     },
     "execution_count": 14,
     "metadata": {},
     "output_type": "execute_result"
    }
   ],
   "source": [
    "3 * 5 == 3 * 5 == 3 * 5"
   ]
  },
  {
   "cell_type": "code",
   "execution_count": 18,
   "id": "8ad2d4d9",
   "metadata": {},
   "outputs": [
    {
     "data": {
      "text/plain": [
       "True"
      ]
     },
     "execution_count": 18,
     "metadata": {},
     "output_type": "execute_result"
    }
   ],
   "source": [
    "True #uppercase only"
   ]
  },
  {
   "cell_type": "code",
   "execution_count": 31,
   "id": "8b2bdd93",
   "metadata": {},
   "outputs": [
    {
     "data": {
      "text/plain": [
       "68"
      ]
     },
     "execution_count": 31,
     "metadata": {},
     "output_type": "execute_result"
    }
   ],
   "source": [
    "mortimer * 2 #will still run in \"wrong\" order"
   ]
  },
  {
   "cell_type": "markdown",
   "id": "da94a627",
   "metadata": {},
   "source": [
    "# values have types"
   ]
  },
  {
   "cell_type": "code",
   "execution_count": 20,
   "id": "def5b648",
   "metadata": {},
   "outputs": [
    {
     "data": {
      "text/plain": [
       "bool"
      ]
     },
     "execution_count": 20,
     "metadata": {},
     "output_type": "execute_result"
    }
   ],
   "source": [
    "type(True)"
   ]
  },
  {
   "cell_type": "markdown",
   "id": "91434272",
   "metadata": {},
   "source": [
    "# variables in python"
   ]
  },
  {
   "cell_type": "code",
   "execution_count": 28,
   "id": "4e54f6d2",
   "metadata": {},
   "outputs": [],
   "source": [
    "mortimer = 4 + 5 * 6"
   ]
  },
  {
   "cell_type": "code",
   "execution_count": 29,
   "id": "59b2a25a",
   "metadata": {},
   "outputs": [
    {
     "data": {
      "text/plain": [
       "34"
      ]
     },
     "execution_count": 29,
     "metadata": {},
     "output_type": "execute_result"
    }
   ],
   "source": [
    "mortimer"
   ]
  },
  {
   "cell_type": "code",
   "execution_count": 30,
   "id": "775bfa08",
   "metadata": {},
   "outputs": [
    {
     "data": {
      "text/plain": [
       "68"
      ]
     },
     "execution_count": 30,
     "metadata": {},
     "output_type": "execute_result"
    }
   ],
   "source": [
    "mortimer * 2"
   ]
  },
  {
   "cell_type": "code",
   "execution_count": 34,
   "id": "c1cdf44b",
   "metadata": {
    "scrolled": true
   },
   "outputs": [
    {
     "data": {
      "text/plain": [
       "4"
      ]
     },
     "execution_count": 34,
     "metadata": {},
     "output_type": "execute_result"
    }
   ],
   "source": [
    "glorp + 2"
   ]
  },
  {
   "cell_type": "code",
   "execution_count": 33,
   "id": "e733d14d",
   "metadata": {},
   "outputs": [],
   "source": [
    "glorp = 2"
   ]
  },
  {
   "cell_type": "code",
   "execution_count": 36,
   "id": "122c0dea",
   "metadata": {},
   "outputs": [
    {
     "data": {
      "text/plain": [
       "float"
      ]
     },
     "execution_count": 36,
     "metadata": {},
     "output_type": "execute_result"
    }
   ],
   "source": [
    "type(mortimer / 2)"
   ]
  },
  {
   "cell_type": "code",
   "execution_count": 37,
   "id": "c2fa2e88",
   "metadata": {},
   "outputs": [
    {
     "data": {
      "text/plain": [
       "2.0"
      ]
     },
     "execution_count": 37,
     "metadata": {},
     "output_type": "execute_result"
    }
   ],
   "source": [
    "4 / 2"
   ]
  },
  {
   "cell_type": "code",
   "execution_count": 38,
   "id": "a863adf1",
   "metadata": {},
   "outputs": [
    {
     "data": {
      "text/plain": [
       "2"
      ]
     },
     "execution_count": 38,
     "metadata": {},
     "output_type": "execute_result"
    }
   ],
   "source": [
    "4 // 2"
   ]
  },
  {
   "cell_type": "code",
   "execution_count": 39,
   "id": "ed8f6203",
   "metadata": {},
   "outputs": [
    {
     "data": {
      "text/plain": [
       "2"
      ]
     },
     "execution_count": 39,
     "metadata": {},
     "output_type": "execute_result"
    }
   ],
   "source": [
    "5 // 2"
   ]
  },
  {
   "cell_type": "code",
   "execution_count": 40,
   "id": "ec767e74",
   "metadata": {},
   "outputs": [
    {
     "data": {
      "text/plain": [
       "2.5"
      ]
     },
     "execution_count": 40,
     "metadata": {},
     "output_type": "execute_result"
    }
   ],
   "source": [
    "5 / 2"
   ]
  },
  {
   "cell_type": "code",
   "execution_count": 41,
   "id": "e2489779",
   "metadata": {},
   "outputs": [
    {
     "data": {
      "text/plain": [
       "1"
      ]
     },
     "execution_count": 41,
     "metadata": {},
     "output_type": "execute_result"
    }
   ],
   "source": [
    "5 % 2"
   ]
  },
  {
   "cell_type": "markdown",
   "id": "f0e2ada6",
   "metadata": {},
   "source": [
    "# strings"
   ]
  },
  {
   "cell_type": "code",
   "execution_count": 44,
   "id": "ed6ceec1",
   "metadata": {},
   "outputs": [
    {
     "data": {
      "text/plain": [
       "'hello my name is Pien.'"
      ]
     },
     "execution_count": 44,
     "metadata": {},
     "output_type": "execute_result"
    }
   ],
   "source": [
    "\"hello my name is Pien.\"\n",
    "# =\n",
    "'hello my name is Pien.'"
   ]
  },
  {
   "cell_type": "code",
   "execution_count": 47,
   "id": "4c9bcc04",
   "metadata": {},
   "outputs": [
    {
     "data": {
      "text/plain": [
       "'hello my name is Pien.'"
      ]
     },
     "execution_count": 47,
     "metadata": {},
     "output_type": "execute_result"
    }
   ],
   "source": [
    "greeting = \"hello my name is Pien.\"\n",
    "greeting"
   ]
  },
  {
   "cell_type": "code",
   "execution_count": 48,
   "id": "a28ad4a3",
   "metadata": {},
   "outputs": [
    {
     "data": {
      "text/plain": [
       "str"
      ]
     },
     "execution_count": 48,
     "metadata": {},
     "output_type": "execute_result"
    }
   ],
   "source": [
    "type(greeting)"
   ]
  },
  {
   "cell_type": "code",
   "execution_count": 49,
   "id": "edc800fb",
   "metadata": {},
   "outputs": [
    {
     "data": {
      "text/plain": [
       "'hello my name is Pien.'"
      ]
     },
     "execution_count": 49,
     "metadata": {},
     "output_type": "execute_result"
    }
   ],
   "source": [
    "greeting"
   ]
  },
  {
   "cell_type": "code",
   "execution_count": 50,
   "id": "68024e79",
   "metadata": {},
   "outputs": [
    {
     "data": {
      "text/plain": [
       "22"
      ]
     },
     "execution_count": 50,
     "metadata": {},
     "output_type": "execute_result"
    }
   ],
   "source": [
    "len(greeting)"
   ]
  },
  {
   "cell_type": "code",
   "execution_count": 51,
   "id": "0b9d37b8",
   "metadata": {},
   "outputs": [
    {
     "data": {
      "text/plain": [
       "False"
      ]
     },
     "execution_count": 51,
     "metadata": {},
     "output_type": "execute_result"
    }
   ],
   "source": [
    " \"glorp\" in greeting"
   ]
  },
  {
   "cell_type": "code",
   "execution_count": 53,
   "id": "5b0e4e6f",
   "metadata": {},
   "outputs": [
    {
     "data": {
      "text/plain": [
       "False"
      ]
     },
     "execution_count": 53,
     "metadata": {},
     "output_type": "execute_result"
    }
   ],
   "source": [
    "\"pie\" in greeting "
   ]
  },
  {
   "cell_type": "code",
   "execution_count": 54,
   "id": "7a1f1e11",
   "metadata": {},
   "outputs": [
    {
     "data": {
      "text/plain": [
       "True"
      ]
     },
     "execution_count": 54,
     "metadata": {},
     "output_type": "execute_result"
    }
   ],
   "source": [
    "\"Pie\" in greeting # looks for substrings"
   ]
  },
  {
   "cell_type": "markdown",
   "id": "d6b9f759",
   "metadata": {},
   "source": [
    "quoting and escape characters"
   ]
  },
  {
   "cell_type": "code",
   "execution_count": null,
   "id": "afa024b5",
   "metadata": {},
   "outputs": [],
   "source": []
  }
 ],
 "metadata": {
  "kernelspec": {
   "display_name": "Python 3 (ipykernel)",
   "language": "python",
   "name": "python3"
  },
  "language_info": {
   "codemirror_mode": {
    "name": "ipython",
    "version": 3
   },
   "file_extension": ".py",
   "mimetype": "text/x-python",
   "name": "python",
   "nbconvert_exporter": "python",
   "pygments_lexer": "ipython3",
   "version": "3.11.5"
  }
 },
 "nbformat": 4,
 "nbformat_minor": 5
}
