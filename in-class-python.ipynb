{
 "cells": [
  {
   "cell_type": "code",
   "execution_count": 4,
   "id": "a1b60592",
   "metadata": {},
   "outputs": [
    {
     "data": {
      "text/plain": [
       "10"
      ]
     },
     "execution_count": 4,
     "metadata": {},
     "output_type": "execute_result"
    }
   ],
   "source": [
    "5 + 5"
   ]
  },
  {
   "cell_type": "markdown",
   "id": "c550a22b",
   "metadata": {},
   "source": [
    "# some python!\n",
    "    \n",
    "    expression -> interpreter (evaluates) -> value\n",
    "    statements ->"
   ]
  },
  {
   "cell_type": "code",
   "execution_count": 9,
   "id": "235de679",
   "metadata": {},
   "outputs": [
    {
     "data": {
      "text/plain": [
       "True"
      ]
     },
     "execution_count": 9,
     "metadata": {},
     "output_type": "execute_result"
    }
   ],
   "source": [
    "8 == 4 * 2"
   ]
  },
  {
   "cell_type": "code",
   "execution_count": 14,
   "id": "87e85c36",
   "metadata": {},
   "outputs": [
    {
     "data": {
      "text/plain": [
       "True"
      ]
     },
     "execution_count": 14,
     "metadata": {},
     "output_type": "execute_result"
    }
   ],
   "source": [
    "3 * 5 == 3 * 5 == 3 * 5"
   ]
  },
  {
   "cell_type": "code",
   "execution_count": 18,
   "id": "8ad2d4d9",
   "metadata": {},
   "outputs": [
    {
     "data": {
      "text/plain": [
       "True"
      ]
     },
     "execution_count": 18,
     "metadata": {},
     "output_type": "execute_result"
    }
   ],
   "source": [
    "True #uppercase only"
   ]
  },
  {
   "cell_type": "code",
   "execution_count": 31,
   "id": "8b2bdd93",
   "metadata": {},
   "outputs": [
    {
     "data": {
      "text/plain": [
       "68"
      ]
     },
     "execution_count": 31,
     "metadata": {},
     "output_type": "execute_result"
    }
   ],
   "source": [
    "mortimer * 2 #will still run in \"wrong\" order"
   ]
  },
  {
   "cell_type": "markdown",
   "id": "da94a627",
   "metadata": {},
   "source": [
    "# values have types"
   ]
  },
  {
   "cell_type": "code",
   "execution_count": 20,
   "id": "def5b648",
   "metadata": {},
   "outputs": [
    {
     "data": {
      "text/plain": [
       "bool"
      ]
     },
     "execution_count": 20,
     "metadata": {},
     "output_type": "execute_result"
    }
   ],
   "source": [
    "type(True)"
   ]
  },
  {
   "cell_type": "markdown",
   "id": "91434272",
   "metadata": {},
   "source": [
    "# variables in python"
   ]
  },
  {
   "cell_type": "code",
   "execution_count": 28,
   "id": "4e54f6d2",
   "metadata": {},
   "outputs": [],
   "source": [
    "mortimer = 4 + 5 * 6"
   ]
  },
  {
   "cell_type": "code",
   "execution_count": 29,
   "id": "59b2a25a",
   "metadata": {},
   "outputs": [
    {
     "data": {
      "text/plain": [
       "34"
      ]
     },
     "execution_count": 29,
     "metadata": {},
     "output_type": "execute_result"
    }
   ],
   "source": [
    "mortimer"
   ]
  },
  {
   "cell_type": "code",
   "execution_count": 30,
   "id": "775bfa08",
   "metadata": {},
   "outputs": [
    {
     "data": {
      "text/plain": [
       "68"
      ]
     },
     "execution_count": 30,
     "metadata": {},
     "output_type": "execute_result"
    }
   ],
   "source": [
    "mortimer * 2"
   ]
  },
  {
   "cell_type": "code",
   "execution_count": 34,
   "id": "c1cdf44b",
   "metadata": {
    "scrolled": true
   },
   "outputs": [
    {
     "data": {
      "text/plain": [
       "4"
      ]
     },
     "execution_count": 34,
     "metadata": {},
     "output_type": "execute_result"
    }
   ],
   "source": [
    "glorp + 2"
   ]
  },
  {
   "cell_type": "code",
   "execution_count": 33,
   "id": "e733d14d",
   "metadata": {},
   "outputs": [],
   "source": [
    "glorp = 2"
   ]
  },
  {
   "cell_type": "code",
   "execution_count": 36,
   "id": "122c0dea",
   "metadata": {},
   "outputs": [
    {
     "data": {
      "text/plain": [
       "float"
      ]
     },
     "execution_count": 36,
     "metadata": {},
     "output_type": "execute_result"
    }
   ],
   "source": [
    "type(mortimer / 2)"
   ]
  },
  {
   "cell_type": "code",
   "execution_count": 37,
   "id": "c2fa2e88",
   "metadata": {},
   "outputs": [
    {
     "data": {
      "text/plain": [
       "2.0"
      ]
     },
     "execution_count": 37,
     "metadata": {},
     "output_type": "execute_result"
    }
   ],
   "source": [
    "4 / 2"
   ]
  },
  {
   "cell_type": "code",
   "execution_count": 38,
   "id": "a863adf1",
   "metadata": {},
   "outputs": [
    {
     "data": {
      "text/plain": [
       "2"
      ]
     },
     "execution_count": 38,
     "metadata": {},
     "output_type": "execute_result"
    }
   ],
   "source": [
    "4 // 2"
   ]
  },
  {
   "cell_type": "code",
   "execution_count": 39,
   "id": "ed8f6203",
   "metadata": {},
   "outputs": [
    {
     "data": {
      "text/plain": [
       "2"
      ]
     },
     "execution_count": 39,
     "metadata": {},
     "output_type": "execute_result"
    }
   ],
   "source": [
    "5 // 2"
   ]
  },
  {
   "cell_type": "code",
   "execution_count": 40,
   "id": "ec767e74",
   "metadata": {},
   "outputs": [
    {
     "data": {
      "text/plain": [
       "2.5"
      ]
     },
     "execution_count": 40,
     "metadata": {},
     "output_type": "execute_result"
    }
   ],
   "source": [
    "5 / 2"
   ]
  },
  {
   "cell_type": "code",
   "execution_count": 41,
   "id": "e2489779",
   "metadata": {},
   "outputs": [
    {
     "data": {
      "text/plain": [
       "1"
      ]
     },
     "execution_count": 41,
     "metadata": {},
     "output_type": "execute_result"
    }
   ],
   "source": [
    "5 % 2"
   ]
  },
  {
   "cell_type": "markdown",
   "id": "f0e2ada6",
   "metadata": {},
   "source": [
    "# strings"
   ]
  },
  {
   "cell_type": "code",
   "execution_count": 44,
   "id": "ed6ceec1",
   "metadata": {},
   "outputs": [
    {
     "data": {
      "text/plain": [
       "'hello my name is Pien.'"
      ]
     },
     "execution_count": 44,
     "metadata": {},
     "output_type": "execute_result"
    }
   ],
   "source": [
    "\"hello my name is Pien.\"\n",
    "# =\n",
    "'hello my name is Pien.'"
   ]
  },
  {
   "cell_type": "code",
   "execution_count": 47,
   "id": "4c9bcc04",
   "metadata": {},
   "outputs": [
    {
     "data": {
      "text/plain": [
       "'hello my name is Pien.'"
      ]
     },
     "execution_count": 47,
     "metadata": {},
     "output_type": "execute_result"
    }
   ],
   "source": [
    "greeting = \"hello my name is Pien.\"\n",
    "greeting"
   ]
  },
  {
   "cell_type": "code",
   "execution_count": 48,
   "id": "a28ad4a3",
   "metadata": {},
   "outputs": [
    {
     "data": {
      "text/plain": [
       "str"
      ]
     },
     "execution_count": 48,
     "metadata": {},
     "output_type": "execute_result"
    }
   ],
   "source": [
    "type(greeting)"
   ]
  },
  {
   "cell_type": "code",
   "execution_count": 49,
   "id": "edc800fb",
   "metadata": {},
   "outputs": [
    {
     "data": {
      "text/plain": [
       "'hello my name is Pien.'"
      ]
     },
     "execution_count": 49,
     "metadata": {},
     "output_type": "execute_result"
    }
   ],
   "source": [
    "greeting"
   ]
  },
  {
   "cell_type": "code",
   "execution_count": 50,
   "id": "68024e79",
   "metadata": {},
   "outputs": [
    {
     "data": {
      "text/plain": [
       "22"
      ]
     },
     "execution_count": 50,
     "metadata": {},
     "output_type": "execute_result"
    }
   ],
   "source": [
    "len(greeting)"
   ]
  },
  {
   "cell_type": "code",
   "execution_count": 51,
   "id": "0b9d37b8",
   "metadata": {},
   "outputs": [
    {
     "data": {
      "text/plain": [
       "False"
      ]
     },
     "execution_count": 51,
     "metadata": {},
     "output_type": "execute_result"
    }
   ],
   "source": [
    " \"glorp\" in greeting"
   ]
  },
  {
   "cell_type": "code",
   "execution_count": 53,
   "id": "5b0e4e6f",
   "metadata": {},
   "outputs": [
    {
     "data": {
      "text/plain": [
       "False"
      ]
     },
     "execution_count": 53,
     "metadata": {},
     "output_type": "execute_result"
    }
   ],
   "source": [
    "\"pie\" in greeting "
   ]
  },
  {
   "cell_type": "code",
   "execution_count": 54,
   "id": "7a1f1e11",
   "metadata": {},
   "outputs": [
    {
     "data": {
      "text/plain": [
       "True"
      ]
     },
     "execution_count": 54,
     "metadata": {},
     "output_type": "execute_result"
    }
   ],
   "source": [
    "\"Pie\" in greeting # looks for substrings"
   ]
  },
  {
   "cell_type": "markdown",
   "id": "8c3ef418",
   "metadata": {},
   "source": [
    "## quoting and escape characters"
   ]
  },
  {
   "cell_type": "code",
   "execution_count": 1,
   "id": "10b468d4",
   "metadata": {},
   "outputs": [],
   "source": [
    "z = 'hello'"
   ]
  },
  {
   "cell_type": "code",
   "execution_count": 16,
   "id": "65b1fd3d",
   "metadata": {},
   "outputs": [
    {
     "data": {
      "text/plain": [
       "'And then he said, \"I think that\\'s a cool idea,\" and vanished.'"
      ]
     },
     "execution_count": 16,
     "metadata": {},
     "output_type": "execute_result"
    }
   ],
   "source": [
    "# And then he said, \"I think that's a cool idea,\" and vanished.\n",
    "z = 'And then he said, \"I think that\\'s a cool idea,\" and vanished.'\n",
    "z"
   ]
  },
  {
   "cell_type": "code",
   "execution_count": 18,
   "id": "240f6f26",
   "metadata": {},
   "outputs": [
    {
     "name": "stdout",
     "output_type": "stream",
     "text": [
      "And then he said, \"I think that's a cool idea,\" and vanished.\n"
     ]
    }
   ],
   "source": [
    "print(z)"
   ]
  },
  {
   "cell_type": "code",
   "execution_count": 20,
   "id": "e19ff1aa",
   "metadata": {},
   "outputs": [],
   "source": [
    "# \\\"\n",
    "a = \"And then she said, \\\"Hey.\\\"\""
   ]
  },
  {
   "cell_type": "code",
   "execution_count": 21,
   "id": "6553dc33",
   "metadata": {},
   "outputs": [
    {
     "name": "stdout",
     "output_type": "stream",
     "text": [
      "And then she said, \"Hey.\"\n"
     ]
    }
   ],
   "source": [
    "print(a)"
   ]
  },
  {
   "cell_type": "code",
   "execution_count": 22,
   "id": "7b46e197",
   "metadata": {},
   "outputs": [],
   "source": [
    "# \\n\n",
    "b = \"One two three\\nfour five six\""
   ]
  },
  {
   "cell_type": "code",
   "execution_count": 23,
   "id": "3138f7c1",
   "metadata": {},
   "outputs": [
    {
     "data": {
      "text/plain": [
       "'One two three\\nfour five six'"
      ]
     },
     "execution_count": 23,
     "metadata": {},
     "output_type": "execute_result"
    }
   ],
   "source": [
    "b"
   ]
  },
  {
   "cell_type": "code",
   "execution_count": 24,
   "id": "5edc3ae7",
   "metadata": {},
   "outputs": [
    {
     "name": "stdout",
     "output_type": "stream",
     "text": [
      "One two three\n",
      "four five six\n"
     ]
    }
   ],
   "source": [
    "print(b)"
   ]
  },
  {
   "cell_type": "markdown",
   "id": "adf67eac",
   "metadata": {},
   "source": [
    "## string methods"
   ]
  },
  {
   "cell_type": "code",
   "execution_count": 28,
   "id": "bcf89a63",
   "metadata": {},
   "outputs": [],
   "source": [
    "greeting = 'hello my name is pien how are you'"
   ]
  },
  {
   "cell_type": "code",
   "execution_count": 29,
   "id": "070caa5f",
   "metadata": {},
   "outputs": [
    {
     "data": {
      "text/plain": [
       "False"
      ]
     },
     "execution_count": 29,
     "metadata": {},
     "output_type": "execute_result"
    }
   ],
   "source": [
    "greeting.startswith(\"bleah\")"
   ]
  },
  {
   "cell_type": "code",
   "execution_count": 30,
   "id": "4016857b",
   "metadata": {},
   "outputs": [
    {
     "data": {
      "text/plain": [
       "9"
      ]
     },
     "execution_count": 30,
     "metadata": {},
     "output_type": "execute_result"
    }
   ],
   "source": [
    "greeting.find(\"name\")"
   ]
  },
  {
   "cell_type": "code",
   "execution_count": 31,
   "id": "64c8dc42",
   "metadata": {},
   "outputs": [
    {
     "data": {
      "text/plain": [
       "False"
      ]
     },
     "execution_count": 31,
     "metadata": {},
     "output_type": "execute_result"
    }
   ],
   "source": [
    "greeting == \"jeigge\" # can also use \">\", \"<\" (based on alphabetical order)"
   ]
  },
  {
   "cell_type": "code",
   "execution_count": 32,
   "id": "a90818de",
   "metadata": {},
   "outputs": [
    {
     "data": {
      "text/plain": [
       "True"
      ]
     },
     "execution_count": 32,
     "metadata": {},
     "output_type": "execute_result"
    }
   ],
   "source": [
    "\"jiogejw\" == \"jiogejw\""
   ]
  },
  {
   "cell_type": "markdown",
   "id": "a7be1083",
   "metadata": {},
   "source": [
    "## string transformation"
   ]
  },
  {
   "cell_type": "code",
   "execution_count": 34,
   "id": "f59696f0",
   "metadata": {},
   "outputs": [
    {
     "data": {
      "text/plain": [
       "'HELLO MY NAME IS PIEN HOW ARE YOU'"
      ]
     },
     "execution_count": 34,
     "metadata": {},
     "output_type": "execute_result"
    }
   ],
   "source": [
    "greeting.upper()"
   ]
  },
  {
   "cell_type": "code",
   "execution_count": 36,
   "id": "0a650b52",
   "metadata": {},
   "outputs": [
    {
     "data": {
      "text/plain": [
       "'hello my name is pien how are you'"
      ]
     },
     "execution_count": 36,
     "metadata": {},
     "output_type": "execute_result"
    }
   ],
   "source": [
    "greeting"
   ]
  },
  {
   "cell_type": "code",
   "execution_count": 37,
   "id": "1ad00215",
   "metadata": {},
   "outputs": [
    {
     "data": {
      "text/plain": [
       "'argumentation! yelling!'"
      ]
     },
     "execution_count": 37,
     "metadata": {},
     "output_type": "execute_result"
    }
   ],
   "source": [
    "\"ARGUMENTATION! YELLING!\".lower()"
   ]
  },
  {
   "cell_type": "code",
   "execution_count": 38,
   "id": "90245c96",
   "metadata": {},
   "outputs": [
    {
     "data": {
      "text/plain": [
       "'hello my name is pien how are you'"
      ]
     },
     "execution_count": 38,
     "metadata": {},
     "output_type": "execute_result"
    }
   ],
   "source": [
    "greeting.lower()"
   ]
  },
  {
   "cell_type": "code",
   "execution_count": 39,
   "id": "069af73d",
   "metadata": {},
   "outputs": [],
   "source": [
    "data = \"   hello there this is a test.  \\n\""
   ]
  },
  {
   "cell_type": "code",
   "execution_count": 40,
   "id": "62e4de42",
   "metadata": {},
   "outputs": [
    {
     "data": {
      "text/plain": [
       "'hello there this is a test.'"
      ]
     },
     "execution_count": 40,
     "metadata": {},
     "output_type": "execute_result"
    }
   ],
   "source": [
    "data.strip() #strip of white spaces/ weird word layout"
   ]
  },
  {
   "cell_type": "code",
   "execution_count": 43,
   "id": "82544373",
   "metadata": {},
   "outputs": [
    {
     "data": {
      "text/plain": [
       "'goodbye my name is pien how are you'"
      ]
     },
     "execution_count": 43,
     "metadata": {},
     "output_type": "execute_result"
    }
   ],
   "source": [
    "greeting.replace(\"hello\", \"goodbye\")"
   ]
  },
  {
   "cell_type": "code",
   "execution_count": 46,
   "id": "4eb16058",
   "metadata": {},
   "outputs": [],
   "source": [
    "skydiving = greeting.replace(\"a\", \"AAaaAAAAaaaa\")"
   ]
  },
  {
   "cell_type": "code",
   "execution_count": 47,
   "id": "7ebebf3c",
   "metadata": {},
   "outputs": [
    {
     "data": {
      "text/plain": [
       "'hello my nAAaaAAAAaaaame is pien how AAaaAAAAaaaare you'"
      ]
     },
     "execution_count": 47,
     "metadata": {},
     "output_type": "execute_result"
    }
   ],
   "source": [
    "skydiving"
   ]
  },
  {
   "cell_type": "markdown",
   "id": "ddc844a9",
   "metadata": {},
   "source": [
    "## reading in a file"
   ]
  },
  {
   "cell_type": "code",
   "execution_count": 139,
   "id": "2bbead6d",
   "metadata": {
    "scrolled": true
   },
   "outputs": [
    {
     "ename": "FileNotFoundError",
     "evalue": "[Errno 2] No such file or directory: 'searose.txt'",
     "output_type": "error",
     "traceback": [
      "\u001b[0;31m---------------------------------------------------------------------------\u001b[0m",
      "\u001b[0;31mFileNotFoundError\u001b[0m                         Traceback (most recent call last)",
      "Cell \u001b[0;32mIn[139], line 1\u001b[0m\n\u001b[0;32m----> 1\u001b[0m \u001b[38;5;28mopen\u001b[39m(\u001b[38;5;124m\"\u001b[39m\u001b[38;5;124msearose.txt\u001b[39m\u001b[38;5;124m\"\u001b[39m)\u001b[38;5;241m.\u001b[39mread()\n",
      "File \u001b[0;32m~/anaconda3/lib/python3.11/site-packages/IPython/core/interactiveshell.py:286\u001b[0m, in \u001b[0;36m_modified_open\u001b[0;34m(file, *args, **kwargs)\u001b[0m\n\u001b[1;32m    279\u001b[0m \u001b[38;5;28;01mif\u001b[39;00m file \u001b[38;5;129;01min\u001b[39;00m {\u001b[38;5;241m0\u001b[39m, \u001b[38;5;241m1\u001b[39m, \u001b[38;5;241m2\u001b[39m}:\n\u001b[1;32m    280\u001b[0m     \u001b[38;5;28;01mraise\u001b[39;00m \u001b[38;5;167;01mValueError\u001b[39;00m(\n\u001b[1;32m    281\u001b[0m         \u001b[38;5;124mf\u001b[39m\u001b[38;5;124m\"\u001b[39m\u001b[38;5;124mIPython won\u001b[39m\u001b[38;5;124m'\u001b[39m\u001b[38;5;124mt let you open fd=\u001b[39m\u001b[38;5;132;01m{\u001b[39;00mfile\u001b[38;5;132;01m}\u001b[39;00m\u001b[38;5;124m by default \u001b[39m\u001b[38;5;124m\"\u001b[39m\n\u001b[1;32m    282\u001b[0m         \u001b[38;5;124m\"\u001b[39m\u001b[38;5;124mas it is likely to crash IPython. If you know what you are doing, \u001b[39m\u001b[38;5;124m\"\u001b[39m\n\u001b[1;32m    283\u001b[0m         \u001b[38;5;124m\"\u001b[39m\u001b[38;5;124myou can use builtins\u001b[39m\u001b[38;5;124m'\u001b[39m\u001b[38;5;124m open.\u001b[39m\u001b[38;5;124m\"\u001b[39m\n\u001b[1;32m    284\u001b[0m     )\n\u001b[0;32m--> 286\u001b[0m \u001b[38;5;28;01mreturn\u001b[39;00m io_open(file, \u001b[38;5;241m*\u001b[39margs, \u001b[38;5;241m*\u001b[39m\u001b[38;5;241m*\u001b[39mkwargs)\n",
      "\u001b[0;31mFileNotFoundError\u001b[0m: [Errno 2] No such file or directory: 'searose.txt'"
     ]
    }
   ],
   "source": [
    "open(\"searose.txt\").read()"
   ]
  },
  {
   "cell_type": "code",
   "execution_count": 54,
   "id": "3bc9778e",
   "metadata": {},
   "outputs": [
    {
     "data": {
      "text/plain": [
       "[5, 10, 15, 20, 25]"
      ]
     },
     "execution_count": 54,
     "metadata": {},
     "output_type": "execute_result"
    }
   ],
   "source": [
    "[5, 10, 15, 20, 25]"
   ]
  },
  {
   "cell_type": "markdown",
   "id": "2b7144d9",
   "metadata": {},
   "source": [
    "# list\n",
    "\n",
    "python list -> javascript array\n",
    "\n",
    "file -> string -> list -> filtering/transformation -> string -> screen/file"
   ]
  },
  {
   "cell_type": "code",
   "execution_count": 55,
   "id": "ea3d75c1",
   "metadata": {},
   "outputs": [],
   "source": [
    "my_numbers = [5 ,10, 15, 20, 25]"
   ]
  },
  {
   "cell_type": "code",
   "execution_count": 59,
   "id": "0130d0a0",
   "metadata": {},
   "outputs": [
    {
     "data": {
      "text/plain": [
       "5"
      ]
     },
     "execution_count": 59,
     "metadata": {},
     "output_type": "execute_result"
    }
   ],
   "source": [
    "len(my_numbers) #how many items"
   ]
  },
  {
   "cell_type": "code",
   "execution_count": 60,
   "id": "ad1b0d36",
   "metadata": {},
   "outputs": [
    {
     "data": {
      "text/plain": [
       "list"
      ]
     },
     "execution_count": 60,
     "metadata": {},
     "output_type": "execute_result"
    }
   ],
   "source": [
    "type(my_numbers)"
   ]
  },
  {
   "cell_type": "code",
   "execution_count": 61,
   "id": "bbdfb9bf",
   "metadata": {},
   "outputs": [
    {
     "data": {
      "text/plain": [
       "list"
      ]
     },
     "execution_count": 61,
     "metadata": {},
     "output_type": "execute_result"
    }
   ],
   "source": [
    "type([])"
   ]
  },
  {
   "cell_type": "code",
   "execution_count": 62,
   "id": "b3b40be2",
   "metadata": {},
   "outputs": [
    {
     "data": {
      "text/plain": [
       "1"
      ]
     },
     "execution_count": 62,
     "metadata": {},
     "output_type": "execute_result"
    }
   ],
   "source": [
    "len([5]) #list with one item in it"
   ]
  },
  {
   "cell_type": "code",
   "execution_count": 63,
   "id": "cdc29ebc",
   "metadata": {},
   "outputs": [
    {
     "data": {
      "text/plain": [
       "0"
      ]
     },
     "execution_count": 63,
     "metadata": {},
     "output_type": "execute_result"
    }
   ],
   "source": [
    "len([])"
   ]
  },
  {
   "cell_type": "code",
   "execution_count": 65,
   "id": "769e9b81",
   "metadata": {},
   "outputs": [
    {
     "data": {
      "text/plain": [
       "20"
      ]
     },
     "execution_count": 65,
     "metadata": {},
     "output_type": "execute_result"
    }
   ],
   "source": [
    "my_numbers[3]"
   ]
  },
  {
   "cell_type": "code",
   "execution_count": 66,
   "id": "8138d787",
   "metadata": {},
   "outputs": [
    {
     "data": {
      "text/plain": [
       "25"
      ]
     },
     "execution_count": 66,
     "metadata": {},
     "output_type": "execute_result"
    }
   ],
   "source": [
    "my_numbers[len(my_numbers)-1]"
   ]
  },
  {
   "cell_type": "code",
   "execution_count": 67,
   "id": "805c7d13",
   "metadata": {},
   "outputs": [
    {
     "data": {
      "text/plain": [
       "4"
      ]
     },
     "execution_count": 67,
     "metadata": {},
     "output_type": "execute_result"
    }
   ],
   "source": [
    "len(my_numbers)-1"
   ]
  },
  {
   "cell_type": "markdown",
   "id": "22519132",
   "metadata": {},
   "source": [
    "## negative indices and slices"
   ]
  },
  {
   "cell_type": "code",
   "execution_count": 69,
   "id": "b53c7137",
   "metadata": {},
   "outputs": [
    {
     "data": {
      "text/plain": [
       "[5, 10, 15, 20, 25]"
      ]
     },
     "execution_count": 69,
     "metadata": {},
     "output_type": "execute_result"
    }
   ],
   "source": [
    "my_numbers"
   ]
  },
  {
   "cell_type": "code",
   "execution_count": 72,
   "id": "cc30bb34",
   "metadata": {},
   "outputs": [
    {
     "data": {
      "text/plain": [
       "15"
      ]
     },
     "execution_count": 72,
     "metadata": {},
     "output_type": "execute_result"
    }
   ],
   "source": [
    "my_numbers[-3] #last third item on the list"
   ]
  },
  {
   "cell_type": "code",
   "execution_count": 73,
   "id": "740007e8",
   "metadata": {},
   "outputs": [
    {
     "data": {
      "text/plain": [
       "[10, 15]"
      ]
     },
     "execution_count": 73,
     "metadata": {},
     "output_type": "execute_result"
    }
   ],
   "source": [
    "my_numbers[1:3] #item starting from 1, ending(but not including 3)"
   ]
  },
  {
   "cell_type": "code",
   "execution_count": 76,
   "id": "521008e0",
   "metadata": {},
   "outputs": [
    {
     "data": {
      "text/plain": [
       "int"
      ]
     },
     "execution_count": 76,
     "metadata": {},
     "output_type": "execute_result"
    }
   ],
   "source": [
    "type(my_numbers[0])"
   ]
  },
  {
   "cell_type": "code",
   "execution_count": 77,
   "id": "485f35bd",
   "metadata": {},
   "outputs": [
    {
     "data": {
      "text/plain": [
       "list"
      ]
     },
     "execution_count": 77,
     "metadata": {},
     "output_type": "execute_result"
    }
   ],
   "source": [
    "type(my_numbers[1:3])"
   ]
  },
  {
   "cell_type": "code",
   "execution_count": 79,
   "id": "0d81edff",
   "metadata": {},
   "outputs": [
    {
     "data": {
      "text/plain": [
       "[5, 10, 15]"
      ]
     },
     "execution_count": 79,
     "metadata": {},
     "output_type": "execute_result"
    }
   ],
   "source": [
    "my_numbers[:3] #assumes starting from item0"
   ]
  },
  {
   "cell_type": "code",
   "execution_count": 80,
   "id": "b077bbc7",
   "metadata": {},
   "outputs": [
    {
     "data": {
      "text/plain": [
       "[15, 20, 25]"
      ]
     },
     "execution_count": 80,
     "metadata": {},
     "output_type": "execute_result"
    }
   ],
   "source": [
    "my_numbers[2:] #assumes ending with the last item"
   ]
  },
  {
   "cell_type": "code",
   "execution_count": 81,
   "id": "5ca40eb6",
   "metadata": {},
   "outputs": [
    {
     "data": {
      "text/plain": [
       "[5, 10, 15, 20, 25]"
      ]
     },
     "execution_count": 81,
     "metadata": {},
     "output_type": "execute_result"
    }
   ],
   "source": [
    "my_numbers"
   ]
  },
  {
   "cell_type": "code",
   "execution_count": 82,
   "id": "b2598899",
   "metadata": {},
   "outputs": [
    {
     "data": {
      "text/plain": [
       "[10, 15]"
      ]
     },
     "execution_count": 82,
     "metadata": {},
     "output_type": "execute_result"
    }
   ],
   "source": [
    "my_numbers[-4:-2] #fourth-to-last item up to second-to-last(but not including) item"
   ]
  },
  {
   "cell_type": "code",
   "execution_count": 83,
   "id": "fdd9273c",
   "metadata": {},
   "outputs": [
    {
     "data": {
      "text/plain": [
       "[20, 25]"
      ]
     },
     "execution_count": 83,
     "metadata": {},
     "output_type": "execute_result"
    }
   ],
   "source": [
    "my_numbers[-2:] "
   ]
  },
  {
   "cell_type": "code",
   "execution_count": 84,
   "id": "a7df7f6e",
   "metadata": {},
   "outputs": [
    {
     "data": {
      "text/plain": [
       "[5, 10]"
      ]
     },
     "execution_count": 84,
     "metadata": {},
     "output_type": "execute_result"
    }
   ],
   "source": [
    "my_numbers[:-3] "
   ]
  },
  {
   "cell_type": "code",
   "execution_count": 87,
   "id": "905cf8e6",
   "metadata": {},
   "outputs": [
    {
     "data": {
      "text/plain": [
       "[5, 10, 15, 20, 25]"
      ]
     },
     "execution_count": 87,
     "metadata": {},
     "output_type": "execute_result"
    }
   ],
   "source": [
    "my_numbers[:] "
   ]
  },
  {
   "cell_type": "code",
   "execution_count": 88,
   "id": "1f5a0277",
   "metadata": {},
   "outputs": [
    {
     "data": {
      "text/plain": [
       "True"
      ]
     },
     "execution_count": 88,
     "metadata": {},
     "output_type": "execute_result"
    }
   ],
   "source": [
    "my_numbers[0] == my_numbers[-0]"
   ]
  },
  {
   "cell_type": "code",
   "execution_count": 90,
   "id": "ae62f007",
   "metadata": {},
   "outputs": [
    {
     "data": {
      "text/plain": [
       "[25, 20, 15, 10, 5]"
      ]
     },
     "execution_count": 90,
     "metadata": {},
     "output_type": "execute_result"
    }
   ],
   "source": [
    "my_numbers[::-1] #reverse the list"
   ]
  },
  {
   "cell_type": "code",
   "execution_count": 91,
   "id": "7460c075",
   "metadata": {},
   "outputs": [
    {
     "data": {
      "text/plain": [
       "[10, 15, 20]"
      ]
     },
     "execution_count": 91,
     "metadata": {},
     "output_type": "execute_result"
    }
   ],
   "source": [
    "my_numbers[-4:4]"
   ]
  },
  {
   "cell_type": "code",
   "execution_count": 96,
   "id": "b9213f34",
   "metadata": {},
   "outputs": [
    {
     "data": {
      "text/plain": [
       "'l'"
      ]
     },
     "execution_count": 96,
     "metadata": {},
     "output_type": "execute_result"
    }
   ],
   "source": [
    "greeting[2]"
   ]
  },
  {
   "cell_type": "code",
   "execution_count": 104,
   "id": "bad332c7",
   "metadata": {},
   "outputs": [
    {
     "data": {
      "text/plain": [
       "'llo my name is pien '"
      ]
     },
     "execution_count": 104,
     "metadata": {},
     "output_type": "execute_result"
    }
   ],
   "source": [
    "greeting[2:22]"
   ]
  },
  {
   "cell_type": "markdown",
   "id": "26d592ba",
   "metadata": {},
   "source": [
    "## split and join\n",
    "\n",
    "- split: string -> list\n",
    "- join: list -> string"
   ]
  },
  {
   "cell_type": "code",
   "execution_count": 109,
   "id": "68e09bea",
   "metadata": {},
   "outputs": [
    {
     "data": {
      "text/plain": [
       "'hello my name is pien how are you'"
      ]
     },
     "execution_count": 109,
     "metadata": {},
     "output_type": "execute_result"
    }
   ],
   "source": [
    "greeting"
   ]
  },
  {
   "cell_type": "code",
   "execution_count": 110,
   "id": "0bb57f5e",
   "metadata": {},
   "outputs": [
    {
     "data": {
      "text/plain": [
       "['hello', 'my', 'name', 'is', 'pien', 'how', 'are', 'you']"
      ]
     },
     "execution_count": 110,
     "metadata": {},
     "output_type": "execute_result"
    }
   ],
   "source": [
    "greeting.split()"
   ]
  },
  {
   "cell_type": "code",
   "execution_count": 112,
   "id": "374b07bd",
   "metadata": {},
   "outputs": [
    {
     "data": {
      "text/plain": [
       "['h', 'llo my nam', ' is pi', 'n how ar', ' you']"
      ]
     },
     "execution_count": 112,
     "metadata": {},
     "output_type": "execute_result"
    }
   ],
   "source": [
    "greeting.split('e')"
   ]
  },
  {
   "cell_type": "code",
   "execution_count": 113,
   "id": "a30fcec5",
   "metadata": {},
   "outputs": [
    {
     "ename": "NameError",
     "evalue": "name 'text' is not defined",
     "output_type": "error",
     "traceback": [
      "\u001b[0;31m---------------------------------------------------------------------------\u001b[0m",
      "\u001b[0;31mNameError\u001b[0m                                 Traceback (most recent call last)",
      "Cell \u001b[0;32mIn[113], line 1\u001b[0m\n\u001b[0;32m----> 1\u001b[0m poem \u001b[38;5;241m=\u001b[39m text\u001b[38;5;241m.\u001b[39msplit(\u001b[38;5;124m\"\u001b[39m\u001b[38;5;130;01m\\n\u001b[39;00m\u001b[38;5;124m\"\u001b[39m)\n",
      "\u001b[0;31mNameError\u001b[0m: name 'text' is not defined"
     ]
    }
   ],
   "source": [
    "poem = text.split(\"\\n\")"
   ]
  },
  {
   "cell_type": "code",
   "execution_count": 114,
   "id": "b2241f61",
   "metadata": {},
   "outputs": [
    {
     "ename": "NameError",
     "evalue": "name 'poem' is not defined",
     "output_type": "error",
     "traceback": [
      "\u001b[0;31m---------------------------------------------------------------------------\u001b[0m",
      "\u001b[0;31mNameError\u001b[0m                                 Traceback (most recent call last)",
      "Cell \u001b[0;32mIn[114], line 1\u001b[0m\n\u001b[0;32m----> 1\u001b[0m poem[:\u001b[38;5;241m3\u001b[39m] \u001b[38;5;241m+\u001b[39m poem[\u001b[38;5;241m-\u001b[39m\u001b[38;5;241m3\u001b[39m:]\n",
      "\u001b[0;31mNameError\u001b[0m: name 'poem' is not defined"
     ]
    }
   ],
   "source": [
    "poem[:3] + poem[-3:]"
   ]
  },
  {
   "cell_type": "code",
   "execution_count": 122,
   "id": "8391a37c",
   "metadata": {},
   "outputs": [],
   "source": [
    "words = greeting.split()"
   ]
  },
  {
   "cell_type": "code",
   "execution_count": 123,
   "id": "7d9ac5a0",
   "metadata": {},
   "outputs": [
    {
     "data": {
      "text/plain": [
       "['hello', 'my', 'name', 'is', 'pien', 'how', 'are', 'you']"
      ]
     },
     "execution_count": 123,
     "metadata": {},
     "output_type": "execute_result"
    }
   ],
   "source": [
    "words"
   ]
  },
  {
   "cell_type": "code",
   "execution_count": 124,
   "id": "98e274d2",
   "metadata": {},
   "outputs": [
    {
     "data": {
      "text/plain": [
       "'hello...my...name...is...pien...how...are...you'"
      ]
     },
     "execution_count": 124,
     "metadata": {},
     "output_type": "execute_result"
    }
   ],
   "source": [
    "\"...\".join(words)"
   ]
  },
  {
   "cell_type": "code",
   "execution_count": 125,
   "id": "beb156c7",
   "metadata": {},
   "outputs": [
    {
     "data": {
      "text/plain": [
       "'hello my name is pien how are you'"
      ]
     },
     "execution_count": 125,
     "metadata": {},
     "output_type": "execute_result"
    }
   ],
   "source": [
    "\" \".join(words)"
   ]
  },
  {
   "cell_type": "markdown",
   "id": "f35fb4a0",
   "metadata": {},
   "source": [
    "## randomness"
   ]
  },
  {
   "cell_type": "code",
   "execution_count": 126,
   "id": "f5439828",
   "metadata": {},
   "outputs": [],
   "source": [
    "import random"
   ]
  },
  {
   "cell_type": "code",
   "execution_count": 127,
   "id": "8d6f2bdf",
   "metadata": {},
   "outputs": [
    {
     "ename": "NameError",
     "evalue": "name 'poem' is not defined",
     "output_type": "error",
     "traceback": [
      "\u001b[0;31m---------------------------------------------------------------------------\u001b[0m",
      "\u001b[0;31mNameError\u001b[0m                                 Traceback (most recent call last)",
      "Cell \u001b[0;32mIn[127], line 1\u001b[0m\n\u001b[0;32m----> 1\u001b[0m random\u001b[38;5;241m.\u001b[39mchoice(poem)\n",
      "\u001b[0;31mNameError\u001b[0m: name 'poem' is not defined"
     ]
    }
   ],
   "source": [
    "random.choice(poem)"
   ]
  },
  {
   "cell_type": "code",
   "execution_count": 128,
   "id": "9fbed0cb",
   "metadata": {},
   "outputs": [
    {
     "ename": "NameError",
     "evalue": "name 'poem' is not defined",
     "output_type": "error",
     "traceback": [
      "\u001b[0;31m---------------------------------------------------------------------------\u001b[0m",
      "\u001b[0;31mNameError\u001b[0m                                 Traceback (most recent call last)",
      "Cell \u001b[0;32mIn[128], line 1\u001b[0m\n\u001b[0;32m----> 1\u001b[0m \u001b[38;5;28mprint\u001b[39m(\u001b[38;5;124m\"\u001b[39m\u001b[38;5;130;01m\\n\u001b[39;00m\u001b[38;5;124m\"\u001b[39m\u001b[38;5;241m.\u001b[39mjoin(random\u001b[38;5;241m.\u001b[39msample(poem,\u001b[38;5;241m3\u001b[39m)))\n",
      "\u001b[0;31mNameError\u001b[0m: name 'poem' is not defined"
     ]
    }
   ],
   "source": [
    "print(\"\\n\".join(random.sample(poem,3)))"
   ]
  },
  {
   "cell_type": "markdown",
   "id": "cc7591d3",
   "metadata": {},
   "source": [
    "## list comprehensions"
   ]
  },
  {
   "cell_type": "code",
   "execution_count": 129,
   "id": "9d57047a",
   "metadata": {},
   "outputs": [
    {
     "ename": "NameError",
     "evalue": "name 'poem' is not defined",
     "output_type": "error",
     "traceback": [
      "\u001b[0;31m---------------------------------------------------------------------------\u001b[0m",
      "\u001b[0;31mNameError\u001b[0m                                 Traceback (most recent call last)",
      "Cell \u001b[0;32mIn[129], line 1\u001b[0m\n\u001b[0;32m----> 1\u001b[0m poem\n",
      "\u001b[0;31mNameError\u001b[0m: name 'poem' is not defined"
     ]
    }
   ],
   "source": [
    "poem"
   ]
  },
  {
   "cell_type": "code",
   "execution_count": 131,
   "id": "9c2d8094",
   "metadata": {},
   "outputs": [
    {
     "ename": "NameError",
     "evalue": "name 'poem' is not defined",
     "output_type": "error",
     "traceback": [
      "\u001b[0;31m---------------------------------------------------------------------------\u001b[0m",
      "\u001b[0;31mNameError\u001b[0m                                 Traceback (most recent call last)",
      "Cell \u001b[0;32mIn[131], line 1\u001b[0m\n\u001b[0;32m----> 1\u001b[0m [item\u001b[38;5;241m.\u001b[39mupper \u001b[38;5;28;01mfor\u001b[39;00m item \u001b[38;5;129;01min\u001b[39;00m poem]\n",
      "\u001b[0;31mNameError\u001b[0m: name 'poem' is not defined"
     ]
    }
   ],
   "source": [
    "[item.upper for item in poem]"
   ]
  },
  {
   "cell_type": "code",
   "execution_count": 134,
   "id": "4eaae6b6",
   "metadata": {},
   "outputs": [
    {
     "ename": "NameError",
     "evalue": "name 'poem' is not defined",
     "output_type": "error",
     "traceback": [
      "\u001b[0;31m---------------------------------------------------------------------------\u001b[0m",
      "\u001b[0;31mNameError\u001b[0m                                 Traceback (most recent call last)",
      "Cell \u001b[0;32mIn[134], line 1\u001b[0m\n\u001b[0;32m----> 1\u001b[0m [item \u001b[38;5;28;01mfor\u001b[39;00m item \u001b[38;5;129;01min\u001b[39;00m poem \u001b[38;5;28;01mif\u001b[39;00m \u001b[38;5;28mlen\u001b[39m(item) \u001b[38;5;241m>\u001b[39m \u001b[38;5;241m20\u001b[39m]\n",
      "\u001b[0;31mNameError\u001b[0m: name 'poem' is not defined"
     ]
    }
   ],
   "source": [
    "[item for item in poem if len(item) > 20]"
   ]
  },
  {
   "cell_type": "code",
   "execution_count": 135,
   "id": "941100e4",
   "metadata": {},
   "outputs": [
    {
     "data": {
      "text/plain": [
       "'ab'"
      ]
     },
     "execution_count": 135,
     "metadata": {},
     "output_type": "execute_result"
    }
   ],
   "source": [
    "\"a\" + \"b\""
   ]
  },
  {
   "cell_type": "code",
   "execution_count": 150,
   "id": "7f561394",
   "metadata": {},
   "outputs": [
    {
     "name": "stdout",
     "output_type": "stream",
     "text": [
      "/Users/pien/rwet2024/week2\r\n"
     ]
    }
   ],
   "source": [
    "!pwd"
   ]
  }
 ],
 "metadata": {
  "kernelspec": {
   "display_name": "Python 3 (ipykernel)",
   "language": "python",
   "name": "python3"
  },
  "language_info": {
   "codemirror_mode": {
    "name": "ipython",
    "version": 3
   },
   "file_extension": ".py",
   "mimetype": "text/x-python",
   "name": "python",
   "nbconvert_exporter": "python",
   "pygments_lexer": "ipython3",
   "version": "3.11.5"
  }
 },
 "nbformat": 4,
 "nbformat_minor": 5
}
