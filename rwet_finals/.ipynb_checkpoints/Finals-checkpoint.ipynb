{
 "cells": [
  {
   "cell_type": "code",
   "execution_count": 122,
   "id": "f23f1a6f",
   "metadata": {
    "scrolled": false
   },
   "outputs": [
    {
     "name": "stdout",
     "output_type": "stream",
     "text": [
      "Requirement already satisfied: markovify in /Users/pien/anaconda3/lib/python3.11/site-packages (0.9.4)\n",
      "Requirement already satisfied: unidecode in /Users/pien/anaconda3/lib/python3.11/site-packages (from markovify) (1.2.0)\n"
     ]
    }
   ],
   "source": [
    "import sys\n",
    "import markovify\n",
    "\n",
    "!{sys.executable} -m pip install markovify"
   ]
  },
  {
   "cell_type": "code",
   "execution_count": 143,
   "id": "8a9753ed",
   "metadata": {},
   "outputs": [],
   "source": [
    "import random\n",
    "def gen_from_model(n, model, start=None, max_gen=100):\n",
    "    if start is None:\n",
    "        start = random.choice(list(model.keys()))\n",
    "    output = list(start)\n",
    "    for i in range(max_gen):\n",
    "        start = tuple(output[-n:])\n",
    "        next_item = random.choice(model[start])\n",
    "        if next_item is None:\n",
    "            break\n",
    "        else:\n",
    "            output.append(next_item)\n",
    "    return output"
   ]
  },
  {
   "cell_type": "code",
   "execution_count": 406,
   "id": "7f75faf6",
   "metadata": {
    "scrolled": false
   },
   "outputs": [
    {
     "name": "stdout",
     "output_type": "stream",
     "text": [
      "scenarios I have mentioned. That, Beatrice, is how I am discovered after what happens to me as I am discovered after what happens to you, and no matter where you go. I will love you as the noise of glass shattering loves to entangle expensive scarves in its mechanisms. I will love you as a daggerproof tunic loves to stay up late with a pair of binoculars, watching a dagger factory for hours in the napkin, and the precious document loves the ankle of a puddle and as a burglar loves sneaking up behind people with binoculars, suddenly realizing that she has left her dagger at home. I will love you as a daggerproof tunic loves to write down the words these voices utter in a notebook for safekeeping. I will love you if you have two children, or three children, or even more, although I personally think three is plenty, and I will love you even if the oceans turn to sawdust and the damp napkin loves the muddy splash of a dry cleaning facility, and how a certain person loves to open a drawer and reveal a secret compartment loves a coral reef and as the leech loves the beak\n"
     ]
    }
   ],
   "source": [
    "genesis_word_model = train_markov_chain(open(\"iwillloveyou.txt\", encoding='utf8').read(), order=2)\n",
    "generated_words = gen_from_model(2, genesis_word_model, max_gen=200)\n",
    "print(' '.join(generated_words))"
   ]
  },
  {
   "cell_type": "markdown",
   "id": "723a700c",
   "metadata": {},
   "source": [
    "Lipogram attempt!"
   ]
  },
  {
   "cell_type": "code",
   "execution_count": 737,
   "id": "c484fcde",
   "metadata": {
    "scrolled": false
   },
   "outputs": [
    {
     "name": "stdout",
     "output_type": "stream",
     "text": [
      "reveal a secret compartment. I will love\n",
      "I make when\n",
      "the actions of our enemies or the jealousies of actors. I will love\n",
      "no regard to the actions of our enemies or the jealousies of actors. I will love\n"
     ]
    }
   ],
   "source": [
    "#no letter \"y\"\n",
    "import random\n",
    "\n",
    "def without_letter(n, model, letter, start=None, max_gen=100):\n",
    "    if start is None:\n",
    "        start = random.choice(list(model.keys()))\n",
    "    output = list(start)\n",
    "    for i in range(max_gen):\n",
    "        start = tuple(output[-n:])\n",
    "        next_word_candidates = [word for word in model.get(start, []) if letter not in word]\n",
    "        if not next_word_candidates:\n",
    "            break\n",
    "        next_word = random.choice(next_word_candidates)\n",
    "        output.append(next_word)\n",
    "    output = [word for word in output if letter not in word]\n",
    "    return output\n",
    "\n",
    "genesis_word_model = train_markov_chain(open(\"iwillloveyou.txt\", encoding='utf8').read(), order=3)\n",
    "\n",
    "for i in range(4):\n",
    "    without_y = without_letter(3, genesis_word_model, 'y', max_gen=500) \n",
    "    print(' '.join(without_y))"
   ]
  },
  {
   "cell_type": "markdown",
   "id": "3d0bf5bb",
   "metadata": {},
   "source": [
    "    loves to drop from its shirt and explore the\n",
    "    drawn upon the blackboard in a blurring, boring chalk. I will love\n",
    "    have a child, and I will love\n",
    "    realizing that she has left her dagger at home. I will love\n",
    "    \n",
    "    men and as peppermints love\n",
    "    the world goes on its wicked\n",
    "    off a house on a\n",
    "    someone else –\n",
    "    \n",
    "    reveal a secret compartment. I will love\n",
    "    I make when\n",
    "    the actions of our enemies or the jealousies of actors. I will love\n",
    "    no regard to the actions of our enemies or the jealousies of actors. I will love\n",
    "    \n",
    "    -----------------------------------\n",
    "    \n",
    "    the memorized\n",
    "    and until the apple hates a nest, although\n",
    "    \n",
    "    horseradish loves the\n",
    "    see\n",
    "    \n",
    "    even more, although I\n",
    "    of a clock. I will love\n",
    "    \n",
    "    Love You.\" Letter. The Beatrice Letters,\n",
    "    spoon, between our lips and fingers"
   ]
  },
  {
   "cell_type": "markdown",
   "id": "d2c2bfc7",
   "metadata": {},
   "source": [
    "Now omitting the letter \"e\", just like how Ernest Vincent Wright wrote Gadsby in 1939 and Georges Perec wrote La Disparition in 1969."
   ]
  },
  {
   "cell_type": "code",
   "execution_count": 708,
   "id": "804581f5",
   "metadata": {
    "scrolled": true
   },
   "outputs": [
    {
     "name": "stdout",
     "output_type": "stream",
     "text": [
      "catching a burglar, and as a library\n",
      "miyagi, as\n",
      "ship, and\n",
      "uniform. I will\n"
     ]
    }
   ],
   "source": [
    "#no letter \"e\"\n",
    "import random\n",
    "\n",
    "def without_letter(n, model, letter, start=None, max_gen=100):\n",
    "    if start is None:\n",
    "        start = random.choice(list(model.keys()))\n",
    "    output = list(start)\n",
    "    for i in range(max_gen):\n",
    "        start = tuple(output[-n:])\n",
    "        next_word_candidates = [word for word in model.get(start, []) if letter not in word]\n",
    "        if not next_word_candidates:\n",
    "            break\n",
    "        next_word = random.choice(next_word_candidates)\n",
    "        output.append(next_word)\n",
    "    output = [word for word in output if letter not in word]\n",
    "    return output\n",
    "\n",
    "genesis_word_model = train_markov_chain(open(\"iwillloveyou.txt\", encoding='utf8').read(), order=3)\n",
    "\n",
    "for i in range(4):\n",
    "    without_e = without_letter(3, genesis_word_model, 'e', max_gen=500)\n",
    "    print(' '.join(without_e))\n"
   ]
  },
  {
   "cell_type": "markdown",
   "id": "7675ff11",
   "metadata": {},
   "source": [
    "    of his and N.\n",
    "    until all\n",
    "    and crumbs\n",
    "    of glass\n",
    "    \n",
    "    as a taxi\n",
    "    you if you marry\n",
    "    Z. through A.,\n",
    "    in\n",
    "    \n",
    "    a glass of brandy to calm\n",
    "    as\n",
    "    to wind and\n",
    "    as a child\n",
    "    \n",
    "    catching a burglar, and as a library\n",
    "    miyagi, as\n",
    "    ship, and\n",
    "    uniform. I will\n"
   ]
  },
  {
   "cell_type": "markdown",
   "id": "a1e0bc7f",
   "metadata": {},
   "source": [
    "These are some I like and have put them into a four stanza poem. \n",
    "I think this is interesting, and I want to continue using the lipogram constraint and write a love letter in the format of The Beatrice Letters.\n",
    "Let me first switch out all the nouns, verbs, adjectives and adverbs of TBL with G's wordbank. But I'm keeping \"I\" and changing the word \"love\" to \"miss\" so it's still romantic.\n",
    "\n",
    "So, randomly selecting a n/v/adj/adv for replacement, tokenize the text into words, and tagging each word with its part of speech(POS)*. I will create an empty list to store the G words and perform the process of POS on each of them and join them back to a string. \n",
    "\n",
    "\n",
    "**note** part of speech(POS): analyzing each word in the text and determining its grammatical category, such as noun, verb, adjective, adverb, etc. The NLTK library provides a function called pos_tag that can perform this task. After tagging, each word is represented as a tuple containing the word itself and its corresponding POS tag.\n"
   ]
  },
  {
   "cell_type": "code",
   "execution_count": 912,
   "id": "1c6b259f",
   "metadata": {},
   "outputs": [
    {
     "name": "stdout",
     "output_type": "stream",
     "text": [
      "Replacement complete. Check 'iwillloveyou_modified.txt' for the modified text.\n"
     ]
    }
   ],
   "source": [
    "with open(\"iwillloveyou.txt\", \"r\", encoding=\"utf-8\") as file:\n",
    "    text = file.read()\n",
    "\n",
    "modified_text = text.replace(\"love\", \"miss\")\n",
    "\n",
    "with open(\"iwillloveyou_modified.txt\", \"w\", encoding=\"utf-8\") as file:\n",
    "    file.write(modified_text)\n",
    "\n",
    "print(\"Replacement complete. Check 'iwillloveyou_modified.txt' for the modified text.\")\n",
    "\n"
   ]
  },
  {
   "cell_type": "markdown",
   "id": "0c5ec13b",
   "metadata": {},
   "source": [
    "With this modification, all the \"love\" are now miss, which is great, but another problem is now there are also \"misss\",\n",
    "which I think is suppose to be misses, and now I'm just going to modify it again, changing \"misss\" to \"holds\".\n"
   ]
  },
  {
   "cell_type": "code",
   "execution_count": 920,
   "id": "124a0505",
   "metadata": {},
   "outputs": [
    {
     "name": "stdout",
     "output_type": "stream",
     "text": [
      "\"I Will Love You.\" Letter. The Beatrice Letters, Lemony Snicket\n",
      "Always. Continuously. With increasing apprehension, and decreasing hope.\n",
      "\n",
      "I will miss you with no regard to the actions of our enemies or the jealousies of actors. I will miss you with no regard to the outrage of certain parents or the boredom of certain friends. I will miss you no matter what is served in the world’s cafeterias or what game is played at each and every recess. I will miss you no matter how many fire drills we are all forced to endure, and no matter what is drawn upon the blackboard in a blurring, boring chalk. I will miss you no matter how many mistakes I make when trying to reduce fractions, and no matter how difficult it is to memorize the periodic table. I will miss you no matter what your locker combination was, or how you decided to spend your time during study hall. I will miss you no matter how your soccer team performed in the tournament or how many stains I received on my cheerleading uniform. I will miss you if I never see you again, and I will miss you if I see you every Tuesday. I will miss you if you cut your hair and I will miss you if you cut the hair of others. I will miss you if you abandon your baticeering, and I will miss you if you retire from the theater to take up some other, less dangerous occupation. I will miss you if you drop your raincoat on the floor instead of hanging it up and I will miss you if you betray your father. I will miss you even if you announce that the poetry of Edgar Guest is the best in the world and even if you announce that the work of Zilpha Keatley Snyder is unbearably tedious. I will miss you if you abandon the theremin and take up the harmonica and I will miss you if you donate your marmosets to the zoo and your tree frogs to M. I will miss you as the starfish holds a coral reef and as kudzu holds trees, even if the oceans turn to sawdust and the trees fall in the forest without anyone around to hear them. I will miss you as the pesto holds the fetuccini and as the horseradish holds the miyagi, as the tempura holds the ikura and the pepperoni holds the pizza. I will miss you as the manatee holds the head of lettuce and as the dark spot holds the leopard, as the leech holds the ankle of a wader and as a corpse holds the beak of the vulture. I will miss you as the doctor holds his sickest patient and a lake holds its thirstiest swimmer. I will miss you as the beard holds the chin, and the crumbs miss the beard, and the damp napkin holds the crumbs, and the precious document holds the dampness in the napkin, and the squinting eye of the reader holds the smudged print of the document, and the tears of sadness miss the squinting eye as it misreads what is written. I will miss you as the iceberg holds the ship, and the passengers miss the lifeboat, and the lifeboat holds the teeth of the sperm whale, and the sperm whale holds the flavor of naval uniforms. I will miss you as a child holds to overhear the conversations of its parents, and the parents miss the sound of their own arguing voices, and as the pen holds to write down the words these voices utter in a notebook for safekeeping. I will miss you as a shingle holds falling off a house on a windy day and striking a grumpy person across the chin, and as an oven holds malfunctioning in the middle of roasting a turkey. I will miss you as an airplane holds to fall from a clear blue sky and as an escalator holds to entangle expensive scarves in its mechanisms. I will miss you as a wet paper towel holds to be crumpled into a ball and thrown at a bathroom ceiling and an eraser holds to leave dust in the hairdos of the people who talk too much. I will miss you as a cufflink holds to drop from its shirt and explore the party for itself and as a pair of white gholds holds to slip delicately into the punchbowl. I will miss you as a taxi holds the muddy splash of a puddle and as a library holds the patient tick of a clock. I will miss you as a thief holds a gallery and as a crow holds a murder, as a cloud holds bats and as a range holds braes. I will miss you as misfortune holds orphans, as fire holds innocence and as justice holds to sit and watch while everything goes wrong. I will miss you as a battlefield holds young men and as peppermints miss your allergies, and I will miss you as the banana peel holds the shoe of a man who was just struck by a shingle falling off a house. I will miss you as a volunteer fire department holds rushing into burning buildings and as burning buildings miss to chase them back out, and as a parachute holds to leave a blimp and as a blimp operator holds to chase after it. I will miss you as a dagger holds a certain person’s back, and as a certain person holds to wear daggerproof tunics, and as a daggerproof tunic holds to go to a certain dry cleaning facility, and how a certain employee of a dry cleaning facility holds to stay up late with a pair of binoculars, watching a dagger factory for hours in the hopes of catching a burglar, and as a burglar holds sneaking up behind people with binoculars, suddenly realizing that she has left her dagger at home. I will miss you as a drawer holds a secret compartment, and as a secret compartment holds a secret, and as a secret holds to make a person gasp, and as a gasping person holds a glass of brandy to calm their nerves, and as a glass of brandy holds to shatter on the floor, and as the noise of glass shattering holds to make someone else gasp, and as someone else gasping holds a nearby desk to lean against, even if leaning against it presses a lever that holds to open a drawer and reveal a secret compartment. I will miss you until all such compartments are discovered and opened, and until all the secrets have gone gasping into the world. I will miss you until all the codes and hearts have been broken and until every anagram and egg has been unscrambled. I will miss you until every fire is extinguished and until every home is rebuilt form the handsomest and most susceptible of woods, and until every criminal is handcuffed by the laziest of policemen. I will miss you until M. hates snakes and J. hates grammar, and I will miss you until C. realizes S. is not worthy of his miss and N. realizes he is not worthy of the V. I will miss you until the bird hates a nest and the worm hates an apple, and until the apple hates a tree and the tree hates a nest, and until a bird hates a tree and an apple hates a nest, although honestly I cannot imagine that last occurrence no matter how hard I try. I will miss you as we grow older, which has just happened, and has happened again, and happened several days ago, continuously, and then several years before that, and will continue to happen as the spinning hands of every clock and the flipping pages of every calendar mark the passage of time, except for the clocks that people have forgotten to wind and the calendars that people have forgotten to place in a highly visible area. I will miss you as we find ourselves farther and farther from one another, where once we were so close that we could slip the curved straw, and the long, slender spoon, between our lips and fingers respectively. I will miss you until the chances of us running into one another slip from skim to zero, and until your face is fogged by distant memory, and your memory faced by distant fog, and your fog memorized by a distant face, and your distance distanced by the memorized memory of a foggy fog. I will miss you no matter where you go and who you see, no matter where you avoid and who you don’t see, and no matter who sees you avoiding where you go. I will miss you no matter what happens to you, and no matter how I discover what happens to you, and no matter what happens to me as I discover this, and no matter how I am discovered after what happens to me happens to me as I am discovering this. I will miss you if you don’t marry me. I will miss you if you marry someone else – your co-star, perhaps, or Y., or even O., or anyone Z. through A., even R. although sadly I believe it will be quite some time before two women can be allowed to marry – and I will miss you if you have a child, and I will miss you if you have two children, or three children, or even more, although I personally think three is plenty, and I will miss you if you never marry at all, and never have children, and spend your years wishing you had married me after all, and I must say that on late, cold nights I prefer this scenario out of all the scenarios I have mentioned. That, Beatrice, is how I will miss you even as the world goes on its wicked way.\n"
     ]
    }
   ],
   "source": [
    "with open(\"iwillloveyou_modified.txt\", \"r\", encoding=\"utf-8\") as file:\n",
    "    modified_text = file.read()\n",
    "\n",
    "modified_text = modified_text.replace(\"misss\", \"holds\")\n",
    "\n",
    "with open(\"iwillloveyou_modified.txt\", \"w\", encoding=\"utf-8\") as file:\n",
    "    file.write(modified_text)\n",
    "\n",
    "with open(\"iwillloveyou_modified.txt\", \"r\", encoding=\"utf-8\") as file:\n",
    "    modified_text = file.read()\n",
    "\n",
    "    print(modified_text)\n"
   ]
  },
  {
   "cell_type": "code",
   "execution_count": 921,
   "id": "a1af1f86",
   "metadata": {
    "scrolled": true
   },
   "outputs": [
    {
     "name": "stderr",
     "output_type": "stream",
     "text": [
      "[nltk_data] Downloading package punkt to /Users/pien/nltk_data...\n",
      "[nltk_data]   Package punkt is already up-to-date!\n",
      "[nltk_data] Downloading package averaged_perceptron_tagger to\n",
      "[nltk_data]     /Users/pien/nltk_data...\n",
      "[nltk_data]   Package averaged_perceptron_tagger is already up-to-\n",
      "[nltk_data]       date!\n"
     ]
    },
    {
     "name": "stdout",
     "output_type": "stream",
     "text": [
      "I will miss you with no front to the column of our towns or the town of throng . I will miss you with no brow to the Park of young Branton or the windows of military bus . I will miss you no Frank what found carry in the sunlight turn Gadsby Hills or what station hung holding at each and every pitfalls . I will miss you no salary how long Uh-huh thoughts we stirring all Do to is , and no cars what told is upon the strands in a Gadsby , o'clock vanish . I will miss you no mind how public nap I roof when brought to did jangling , and no municipality how prodigious it laughing to historians the brilliant bit . I will miss you no tot what your Branton stick thought , or how you took to limit your hand during parlor skips . I will miss you no Hills how your anything Municipal cunning in the world or how good Long I cut on my child talk . I will miss you if I up show you up , and I will miss you if I lad you every Cupid . I will miss you if you do your Lady and I will miss you if you scaring the gang of roof . I will miss you if you say your girls , and I will miss you if you say from the guaranty to mind always some such , n't happy sanctity . I will miss you if you has your chin on the Oh out of shadows it up and I will miss you if you snap your villains . I will miss you Hardly if you shown that the match of acorn mansion giggling the occasional in the kind and Now if you thought that the Gadsby of Christmas Brown plans coming back shanty-town . I will miss you if you find the doors and is up the Broadway and I will miss you if you finding your Gadsby to the whinnying and your solid pop to No I will miss you as the big know a outright purport and as fascinating is Gadsby , only if the Today has to was and the suburbs said in the wand without — around to obtain them . I will miss you as the kiss piling the bunch and as the stumpy say the humidity , as the addition singing the growl and the day find the Hills . I will miss you as the proposition was the child of ribbon and as the rapturous Bill said the building , as the Antor puffing the church of a Donaldson and as a application fuss the girl of the plans . I will miss you as the Stags is his famous foods and a huzzas was its disastrous Branton . I will miss you as the woman did the Fair , and the laugh miss the station , and the soft blossoms say the kinds , and the straightforward laugh was the — in the singing , and the running girl of the fact is the famous — of the Gadsby , and the clothing of Nancy miss the trying parlor as it lapping what add said . I will miss you as the Nancy say the status , and the Julius miss the matrimony , and the crowds brought the Blood of the bright band , and the common uprights cut the Gadsby of loud doctor . I will miss you as a things having to 's the grouchy of its folks , and the pig miss the Frank of their odd woods 'Mayor , and as the particular built to sir So the slumps these days find in a inability for has . I will miss you as a work going obtain n't a pick-up on a vigorous curbs and hung a particular harm across the months , and as an billiard-ball coming going in the — of boiling a tots . I will miss you as an position find to had from a big today bird and as an things was to want such sports in its capacity . I will miss you as a fish hands animals shown to said know into a Kathlyn and standing at a chariot officials and an thing look to had girls in the sorts of the Kathlyn who say ago hard . I will miss you as a CONTACT coming to drunk from its July and had the crumbs for itself and as a affairs of big balm—— said to was too into the patch . I will miss you as a history find the forty mansion of a Nina and as a rich sing the vigorous duos of a mind . I will miss you as a arts—from losing a Branton and as a condition finding a anything , as a girl blurt Norman and as a kind do braes . I will miss you as things am patrolman , as organist was day and as girls built to was and playing while stock going happy . I will miss you as a chairs split thirty Council and as city miss your Branton , and I will miss you as the History association was the — of a fuss who calls So brought by a tot was far a troops . I will miss you as a hands floor study taking do into 's valuation and as writing antagonists miss to talk them up out , and as a ponds XXXII to going a park and as a origin war bringing to find after it . I will miss you as a shouts writing a tight whippings Simpkins combination-car up , and as a front Bill going to find popular Old , and as a Bill lurid is to has to a happy Spanish akin grammar , and how a light strings of a African oblivion boss burn to hurrying out so with a Gadsby of luck , Simpkins a valuation Branton for Company in the group of pulls a — , and as a old walking growing only behind arm with affair , just 's that she boys said her organ at hoosband . I will miss you as a towns paid a first shouts , and as a thorough plants grab a cold , and as a vain said to thought a city pair , and as a works window is a half of photos to say their fit , and as a girl of possibility was to say on the lad , and as the adjuncts of uniform know was to was road not Bill , and as living not was look a thirty-foot vista to had against , n't if thought against it fainting a day that singing to did a Lucy and was a Italian School . I will miss you until all young drawn crawling look and is , and until all the paths snooping stands is into the woman . I will miss you until all the root and honor brought broadcasting found and until every billboard and rock was call said . I will miss you until every boys thatta sizzling and until every lot did dry Snow the official and badly big of group , and until every rows is got by the six-fifty of zoo . I will miss you until fond wanting way and A fought company , and I will miss you until station blurt man child back solicitous of his miss and vistas did he jump around vanish of the laugh I will miss you until the Bill was a girls and the building do an fact , and until the Council furnish a constrictors and the Standish got a night , and until a Glory try a anaconda and an ability puts a not , although not I can long told that many boys no rank how slapping I turning . I will miss you as we Simpkins popular , which talk out 'm , and sought sigh Possibly , and said big offspring not , off , and So many Gadsby before that , and will was to is as the was woman of every Zoo and the good Sarah of every form Branton the * of pantaloons , except for the girl that So is stand to Do and the Branton that sin boots is to instruct in a still practical darlin . I will miss you as we got ourselves n't and horribly from one another , where off we puffing as similar that we could found the many Lots , and the shadowy , * things , between our —adaptations and crossroads soon . I will miss you until the inauguration of us avoid into one another janitors from sorts to zero , and until your forms call was by built-up Banks , and your joy born by such villains , and your mind shown by a big hold , and your hospitalization buy by the municipal pump of a past-Councilman Fourth . I will miss you no baby where you has and who you know , no thumb where you singing and who you gladly such folks fossils , and no Tom who agog you nodding where you say . I will miss you no circus what was to you , and no Tom how I want what is to you , and no Norman what know to me as I saying this , and no solo how I calling found after what has to me want to me as I satisfy said this . I will miss you if you sold tiny things days me . I will miss you if you 's Youth just saw your living , first , or word , or down dog , or wind Autumn through History , just child although up I darling it will was n't some Hi before two kids can had do to stood Nancy and I will miss you if you had a boys , and I will miss you if you building two Mama , or three * , or up foolish , although I n't was three was various , and I will miss you if you up was at all , and also was Bill , and know your town was you sat doing me after all , and I must a-counting that on famous , old Brown I annoy this gay out of all the Sarah I taught act . That , thick , run how I will miss you so as the — play on its glorious girls .\n"
     ]
    }
   ],
   "source": [
    "import nltk\n",
    "import random\n",
    "\n",
    "nltk.download('punkt')\n",
    "nltk.download('averaged_perceptron_tagger')\n",
    "\n",
    "def replace_word(word, tag, gadsby_tagged_words):\n",
    "    if word.lower() in [\"i\", \"miss\", \"misss\"]:\n",
    "        return word\n",
    "    elif tag.startswith('N'):  # Noun\n",
    "        new_word = random.choice([word for word, tag in gadsby_tagged_words if tag.startswith('N')])\n",
    "    elif tag.startswith('V'):  # Verb\n",
    "        new_word = random.choice([word for word, tag in gadsby_tagged_words if tag.startswith('V')])\n",
    "    elif tag.startswith('J'):  # Adjective\n",
    "        new_word = random.choice([word for word, tag in gadsby_tagged_words if tag.startswith('J')])\n",
    "    elif tag.startswith('R'):  # Adverb\n",
    "        new_word = random.choice([word for word, tag in gadsby_tagged_words if tag.startswith('R')])\n",
    "    else:\n",
    "        # Keep the rest unchanged\n",
    "        new_word = word\n",
    "    return new_word\n",
    "\n",
    "with open(\"iwillmissyou.txt\", \"r\", encoding=\"utf-8\") as file:\n",
    "    iwillmissyou_text = file.read()\n",
    "with open(\"Gadsby.txt\", \"r\", encoding=\"utf-8\") as file:\n",
    "    gadsby_text = file.read()\n",
    "\n",
    "#Tokenize\n",
    "iwillmissyou_words = nltk.word_tokenize(iwillmissyou_text)\n",
    "gadsby_words = nltk.word_tokenize(gadsby_text)\n",
    "\n",
    "#Tag each word with its POS\n",
    "iwillmissyou_tagged_words = nltk.pos_tag(iwillmissyou_words)\n",
    "gadsby_tagged_words = nltk.pos_tag(gadsby_words)\n",
    "\n",
    "#empty list to store\n",
    "modified_words = []\n",
    "\n",
    "for word, tag in iwillmissyou_tagged_words:\n",
    "    new_word = replace_word(word, tag, gadsby_tagged_words)\n",
    "    modified_words.append(new_word)\n",
    "\n",
    "modified_text = ' '.join(modified_words)\n",
    "\n",
    "print(modified_text)\n"
   ]
  },
  {
   "cell_type": "markdown",
   "id": "fb5e1de0",
   "metadata": {},
   "source": [
    "I think this pretty much filters out most of the words with \"e\", and is good enough for me to work with."
   ]
  },
  {
   "cell_type": "code",
   "execution_count": 922,
   "id": "392e6467",
   "metadata": {},
   "outputs": [],
   "source": [
    "def add_to_model(model, n, seq):\n",
    "    seq = list(seq[:]) + [None]\n",
    "    for i in range(len(seq)-n):\n",
    "        gram = tuple(seq[i:i+n])\n",
    "        next_item = seq[i+n]            \n",
    "        if gram not in model:\n",
    "            model[gram] = []\n",
    "        model[gram].append(next_item)\n",
    "\n",
    "def markov_model(n, seq):\n",
    "    model = {}\n",
    "    add_to_model(model, n, seq)\n",
    "    return model\n",
    "\n",
    "poem_markov_model = markov_model(2, open(\"iwillmissyou_Gadsbyversion.txt\", encoding='utf8').read().split())\n"
   ]
  },
  {
   "cell_type": "code",
   "execution_count": 1028,
   "id": "4380069b",
   "metadata": {},
   "outputs": [
    {
     "name": "stdout",
     "output_type": "stream",
     "text": [
      "I will miss you no criss-cross what your vigor cross is , or again such , factory liquor , between our Gadsby and God so . \n",
      "\n",
      "I will miss you as the months of Nancy hung misss to humming ran into a doubt and laughing at a O-h-h-h-h man and I will miss you as the daisy misss the forty , and as a is * misss a uniform days , and until the work kidnapping a churchman and the blind Dowd of information , except for the thoughts that class gazing sounds to was and until the donor of us wallop into one another pianissimos from grounds to zero , and I will miss you until anybody dolling paradox and boot-shop poking march , and as a\n",
      "I will miss you as Broadway misss ills , as zoo misss aircraft and as Gadsby down find misss a uniform days , and soon jump Gadsby , and no Rhythm who had you told where you rubs and who you won public Frank way , and Forcing kill around , and no Doris how I was stir after what had to follow your dollars during bit stop . \n",
      "\n",
      "I will miss you until woman blossoming yours dolling always lucky of his miss and chin was he fight only most of the long-drawn-out matrons , and the school . \n",
      "\n"
     ]
    }
   ],
   "source": [
    "import random\n",
    "\n",
    "def gen_from_model(order, model, start, max_gen=100):\n",
    "    generated = list(start)\n",
    "    for _ in range(max_gen):\n",
    "        prefix = tuple(generated[-order:])\n",
    "        if prefix in model:\n",
    "            next_word = random.choice(model[prefix])\n",
    "            generated.append(next_word)\n",
    "            \n",
    "            # Check if the next word is a period\n",
    "            if next_word.endswith('.'):\n",
    "                # Insert a line break after the period\n",
    "                generated.append('\\n')\n",
    "                break\n",
    "        else:\n",
    "            break\n",
    "    return generated\n",
    "\n",
    "sentences = []\n",
    "for i in range(4):\n",
    "    generated_words = gen_from_model(2, poem_markov_model, ('I', 'will'))\n",
    "    sentences.append(' '.join(generated_words))\n",
    "\n",
    "print('\\n'.join(sentences))\n"
   ]
  },
  {
   "cell_type": "code",
   "execution_count": 1197,
   "id": "abf73068",
   "metadata": {
    "scrolled": false
   },
   "outputs": [
    {
     "name": "stdout",
     "output_type": "stream",
     "text": [
      "of Nursing . I will miss you as a Wilkins misss a uniform days , and as a Military misss\n",
      "Gadsby of every Florist and\n"
     ]
    }
   ],
   "source": [
    "import random\n",
    "\n",
    "def without_letter_with_line_breaks(n, model, letter, start=None, max_gen=100, max_line_length=50):\n",
    "    if start is None:\n",
    "        start = random.choice(list(model.keys()))\n",
    "    output = [] if start is None else list(start)\n",
    "    line_length = 0\n",
    "    noun_count = 0\n",
    "    for i in range(max_gen):\n",
    "        start = tuple(output[-n:])\n",
    "        next_word_candidates = [word for word in model.get(start, []) if letter not in word]\n",
    "        if not next_word_candidates:\n",
    "            break\n",
    "        next_word = random.choice(next_word_candidates)\n",
    "        output.append(next_word)\n",
    "        line_length += len(next_word) + 1  # Add the length of the next word and a space\n",
    "        # Check if the next word is a noun\n",
    "        if next_word.endswith('NN'):\n",
    "            noun_count += 1\n",
    "            # Break the line after every third noun\n",
    "            if noun_count % 3 == 0 or line_length >= max_line_length:\n",
    "                output.append('\\n')\n",
    "                line_length = 0  # Reset the line length counter\n",
    "    return output\n",
    "\n",
    "genesis_word_model = train_markov_chain(open(\"iwillmissyou_Gadsbyversion.txt\", encoding='utf8').read(), order=3)\n",
    "\n",
    "for i in range(2):\n",
    "    without_e_with_line_breaks = without_letter_with_line_breaks(3, genesis_word_model, 'e', max_gen=100, max_line_length=50)\n",
    "    print(' '.join(without_e_with_line_breaks))\n"
   ]
  },
  {
   "cell_type": "code",
   "execution_count": null,
   "id": "d1f45c02",
   "metadata": {},
   "outputs": [],
   "source": [
    "Gadsby of every Florist and\n",
    "too we aid too grown-up that\n"
   ]
  },
  {
   "cell_type": "code",
   "execution_count": null,
   "id": "5be4d624",
   "metadata": {},
   "outputs": [],
   "source": []
  },
  {
   "cell_type": "code",
   "execution_count": null,
   "id": "3dc87671",
   "metadata": {},
   "outputs": [],
   "source": []
  },
  {
   "cell_type": "code",
   "execution_count": null,
   "id": "4d449916",
   "metadata": {},
   "outputs": [],
   "source": []
  }
 ],
 "metadata": {
  "kernelspec": {
   "display_name": "Python 3 (ipykernel)",
   "language": "python",
   "name": "python3"
  },
  "language_info": {
   "codemirror_mode": {
    "name": "ipython",
    "version": 3
   },
   "file_extension": ".py",
   "mimetype": "text/x-python",
   "name": "python",
   "nbconvert_exporter": "python",
   "pygments_lexer": "ipython3",
   "version": "3.11.8"
  }
 },
 "nbformat": 4,
 "nbformat_minor": 5
}
