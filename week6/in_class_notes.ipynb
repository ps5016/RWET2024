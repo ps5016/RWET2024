{
 "cells": [
  {
   "cell_type": "code",
   "execution_count": 1,
   "id": "923fa030",
   "metadata": {},
   "outputs": [
    {
     "name": "stdout",
     "output_type": "stream",
     "text": [
      "Collecting package metadata (current_repodata.json): done\n",
      "Solving environment: done\n",
      "\n",
      "\n",
      "==> WARNING: A newer version of conda exists. <==\n",
      "  current version: 23.7.4\n",
      "  latest version: 24.1.2\n",
      "\n",
      "Please update conda by running\n",
      "\n",
      "    $ conda update -n base -c defaults conda\n",
      "\n",
      "Or to minimize the number of packages updated during conda update use\n",
      "\n",
      "     conda install conda=24.1.2\n",
      "\n",
      "\n",
      "\n",
      "# All requested packages already installed.\n",
      "\n"
     ]
    }
   ],
   "source": [
    "import sys\n",
    "!conda install -c conda-forge -y --prefix {sys.prefix} spacy"
   ]
  },
  {
   "cell_type": "code",
   "execution_count": 2,
   "id": "26eebd91",
   "metadata": {},
   "outputs": [
    {
     "name": "stdout",
     "output_type": "stream",
     "text": [
      "Collecting en-core-web-md==3.7.1\n",
      "  Downloading https://github.com/explosion/spacy-models/releases/download/en_core_web_md-3.7.1/en_core_web_md-3.7.1-py3-none-any.whl (42.8 MB)\n",
      "\u001b[2K     \u001b[90m━━━━━━━━━━━━━━━━━━━━━━━━━━━━━━━━━━━━━━━━\u001b[0m \u001b[32m42.8/42.8 MB\u001b[0m \u001b[31m4.9 MB/s\u001b[0m eta \u001b[36m0:00:00\u001b[0m00:01\u001b[0m00:01\u001b[0m\n",
      "\u001b[?25hRequirement already satisfied: spacy<3.8.0,>=3.7.2 in /Users/pien/anaconda3/lib/python3.11/site-packages (from en-core-web-md==3.7.1) (3.7.2)\n",
      "Requirement already satisfied: spacy-legacy<3.1.0,>=3.0.11 in /Users/pien/anaconda3/lib/python3.11/site-packages (from spacy<3.8.0,>=3.7.2->en-core-web-md==3.7.1) (3.0.12)\n",
      "Requirement already satisfied: spacy-loggers<2.0.0,>=1.0.0 in /Users/pien/anaconda3/lib/python3.11/site-packages (from spacy<3.8.0,>=3.7.2->en-core-web-md==3.7.1) (1.0.5)\n",
      "Requirement already satisfied: murmurhash<1.1.0,>=0.28.0 in /Users/pien/anaconda3/lib/python3.11/site-packages (from spacy<3.8.0,>=3.7.2->en-core-web-md==3.7.1) (1.0.7)\n",
      "Requirement already satisfied: cymem<2.1.0,>=2.0.2 in /Users/pien/anaconda3/lib/python3.11/site-packages (from spacy<3.8.0,>=3.7.2->en-core-web-md==3.7.1) (2.0.6)\n",
      "Requirement already satisfied: preshed<3.1.0,>=3.0.2 in /Users/pien/anaconda3/lib/python3.11/site-packages (from spacy<3.8.0,>=3.7.2->en-core-web-md==3.7.1) (3.0.6)\n",
      "Requirement already satisfied: thinc<8.3.0,>=8.1.8 in /Users/pien/anaconda3/lib/python3.11/site-packages (from spacy<3.8.0,>=3.7.2->en-core-web-md==3.7.1) (8.2.2)\n",
      "Requirement already satisfied: wasabi<1.2.0,>=0.9.1 in /Users/pien/anaconda3/lib/python3.11/site-packages (from spacy<3.8.0,>=3.7.2->en-core-web-md==3.7.1) (1.1.2)\n",
      "Requirement already satisfied: srsly<3.0.0,>=2.4.3 in /Users/pien/anaconda3/lib/python3.11/site-packages (from spacy<3.8.0,>=3.7.2->en-core-web-md==3.7.1) (2.4.8)\n",
      "Requirement already satisfied: catalogue<2.1.0,>=2.0.6 in /Users/pien/anaconda3/lib/python3.11/site-packages (from spacy<3.8.0,>=3.7.2->en-core-web-md==3.7.1) (2.0.10)\n",
      "Requirement already satisfied: weasel<0.4.0,>=0.1.0 in /Users/pien/anaconda3/lib/python3.11/site-packages (from spacy<3.8.0,>=3.7.2->en-core-web-md==3.7.1) (0.3.4)\n",
      "Requirement already satisfied: typer<0.10.0,>=0.3.0 in /Users/pien/anaconda3/lib/python3.11/site-packages (from spacy<3.8.0,>=3.7.2->en-core-web-md==3.7.1) (0.9.0)\n",
      "Requirement already satisfied: smart-open<7.0.0,>=5.2.1 in /Users/pien/anaconda3/lib/python3.11/site-packages (from spacy<3.8.0,>=3.7.2->en-core-web-md==3.7.1) (5.2.1)\n",
      "Requirement already satisfied: tqdm<5.0.0,>=4.38.0 in /Users/pien/anaconda3/lib/python3.11/site-packages (from spacy<3.8.0,>=3.7.2->en-core-web-md==3.7.1) (4.65.0)\n",
      "Requirement already satisfied: requests<3.0.0,>=2.13.0 in /Users/pien/anaconda3/lib/python3.11/site-packages (from spacy<3.8.0,>=3.7.2->en-core-web-md==3.7.1) (2.31.0)\n",
      "Requirement already satisfied: pydantic!=1.8,!=1.8.1,<3.0.0,>=1.7.4 in /Users/pien/anaconda3/lib/python3.11/site-packages (from spacy<3.8.0,>=3.7.2->en-core-web-md==3.7.1) (1.10.8)\n",
      "Requirement already satisfied: jinja2 in /Users/pien/anaconda3/lib/python3.11/site-packages (from spacy<3.8.0,>=3.7.2->en-core-web-md==3.7.1) (3.1.2)\n",
      "Requirement already satisfied: setuptools in /Users/pien/anaconda3/lib/python3.11/site-packages (from spacy<3.8.0,>=3.7.2->en-core-web-md==3.7.1) (68.0.0)\n",
      "Requirement already satisfied: packaging>=20.0 in /Users/pien/anaconda3/lib/python3.11/site-packages (from spacy<3.8.0,>=3.7.2->en-core-web-md==3.7.1) (23.1)\n",
      "Requirement already satisfied: langcodes<4.0.0,>=3.2.0 in /Users/pien/anaconda3/lib/python3.11/site-packages (from spacy<3.8.0,>=3.7.2->en-core-web-md==3.7.1) (3.3.0)\n",
      "Requirement already satisfied: numpy>=1.19.0 in /Users/pien/anaconda3/lib/python3.11/site-packages (from spacy<3.8.0,>=3.7.2->en-core-web-md==3.7.1) (1.24.3)\n",
      "Requirement already satisfied: typing-extensions>=4.2.0 in /Users/pien/anaconda3/lib/python3.11/site-packages (from pydantic!=1.8,!=1.8.1,<3.0.0,>=1.7.4->spacy<3.8.0,>=3.7.2->en-core-web-md==3.7.1) (4.7.1)\n",
      "Requirement already satisfied: charset-normalizer<4,>=2 in /Users/pien/anaconda3/lib/python3.11/site-packages (from requests<3.0.0,>=2.13.0->spacy<3.8.0,>=3.7.2->en-core-web-md==3.7.1) (2.0.4)\n",
      "Requirement already satisfied: idna<4,>=2.5 in /Users/pien/anaconda3/lib/python3.11/site-packages (from requests<3.0.0,>=2.13.0->spacy<3.8.0,>=3.7.2->en-core-web-md==3.7.1) (3.4)\n",
      "Requirement already satisfied: urllib3<3,>=1.21.1 in /Users/pien/anaconda3/lib/python3.11/site-packages (from requests<3.0.0,>=2.13.0->spacy<3.8.0,>=3.7.2->en-core-web-md==3.7.1) (1.26.16)\n",
      "Requirement already satisfied: certifi>=2017.4.17 in /Users/pien/anaconda3/lib/python3.11/site-packages (from requests<3.0.0,>=2.13.0->spacy<3.8.0,>=3.7.2->en-core-web-md==3.7.1) (2024.2.2)\n",
      "Requirement already satisfied: blis<0.8.0,>=0.7.8 in /Users/pien/anaconda3/lib/python3.11/site-packages (from thinc<8.3.0,>=8.1.8->spacy<3.8.0,>=3.7.2->en-core-web-md==3.7.1) (0.7.10)\n",
      "Requirement already satisfied: confection<1.0.0,>=0.0.1 in /Users/pien/anaconda3/lib/python3.11/site-packages (from thinc<8.3.0,>=8.1.8->spacy<3.8.0,>=3.7.2->en-core-web-md==3.7.1) (0.1.4)\n",
      "Requirement already satisfied: click<9.0.0,>=7.1.1 in /Users/pien/anaconda3/lib/python3.11/site-packages (from typer<0.10.0,>=0.3.0->spacy<3.8.0,>=3.7.2->en-core-web-md==3.7.1) (8.0.4)\n",
      "Requirement already satisfied: cloudpathlib<0.17.0,>=0.7.0 in /Users/pien/anaconda3/lib/python3.11/site-packages (from weasel<0.4.0,>=0.1.0->spacy<3.8.0,>=3.7.2->en-core-web-md==3.7.1) (0.16.0)\n",
      "Requirement already satisfied: MarkupSafe>=2.0 in /Users/pien/anaconda3/lib/python3.11/site-packages (from jinja2->spacy<3.8.0,>=3.7.2->en-core-web-md==3.7.1) (2.1.1)\n",
      "Installing collected packages: en-core-web-md\n",
      "Successfully installed en-core-web-md-3.7.1\n",
      "\u001b[38;5;2m✔ Download and installation successful\u001b[0m\n",
      "You can now load the package via spacy.load('en_core_web_md')\n"
     ]
    }
   ],
   "source": [
    "import sys\n",
    "!{sys.executable} -m spacy download en_core_web_md"
   ]
  },
  {
   "cell_type": "code",
   "execution_count": 3,
   "id": "d32f406c",
   "metadata": {},
   "outputs": [],
   "source": [
    "import spacy"
   ]
  },
  {
   "cell_type": "code",
   "execution_count": 4,
   "id": "6ccc05d1",
   "metadata": {},
   "outputs": [],
   "source": [
    "nlp = spacy.load('en_core_web_md')"
   ]
  },
  {
   "cell_type": "code",
   "execution_count": 9,
   "id": "b5f2b3cc",
   "metadata": {},
   "outputs": [],
   "source": [
    "text = open(\"frankenstein.txt\").read()"
   ]
  },
  {
   "cell_type": "code",
   "execution_count": 10,
   "id": "8b267d8b",
   "metadata": {},
   "outputs": [],
   "source": [
    "doc = nlp(text)"
   ]
  },
  {
   "cell_type": "code",
   "execution_count": 16,
   "id": "7835631e",
   "metadata": {},
   "outputs": [],
   "source": [
    "sentences = list(doc.sents)\n",
    "words = [w for w in list(doc) if w.is_alpha]\n",
    "noun_chunks = list(doc.noun_chunks)\n",
    "entities = list(doc.ents)"
   ]
  },
  {
   "cell_type": "markdown",
   "id": "639b0100",
   "metadata": {},
   "source": [
    "# entities!"
   ]
  },
  {
   "cell_type": "code",
   "execution_count": 17,
   "id": "edc50990",
   "metadata": {},
   "outputs": [
    {
     "data": {
      "text/plain": [
       "3273"
      ]
     },
     "execution_count": 17,
     "metadata": {},
     "output_type": "execute_result"
    }
   ],
   "source": [
    "len(sentences)"
   ]
  },
  {
   "cell_type": "code",
   "execution_count": 19,
   "id": "4577bb01",
   "metadata": {},
   "outputs": [
    {
     "data": {
      "text/plain": [
       "[Frankenstein,\n",
       " Frankenstein,\n",
       " Mary Wollstonecraft Shelley,\n",
       " Judith Boss,\n",
       " Christy Phillips,\n",
       " Lynn Hanninen,\n",
       " David Meltzer,\n",
       " Menno de Leeuw,\n",
       " Frankenstein,\n",
       " Mary Wollstonecraft,\n",
       " Godwin,\n",
       " Shelley,\n",
       " Saville,\n",
       " Margaret,\n",
       " Uncle Thomas’,\n",
       " Homer,\n",
       " Shakespeare,\n",
       " Margaret,\n",
       " Farewell,\n",
       " Margaret,\n",
       " R. Walton\n",
       " \n",
       " \n",
       " \n",
       " ,\n",
       " Saville,\n",
       " Margaret,\n",
       " Thomas,\n",
       " Robert Walton,\n",
       " Saville,\n",
       " Adieu,\n",
       " Margaret,\n",
       " crown,\n",
       " Saville,\n",
       " Margaret,\n",
       " Margaret,\n",
       " Walton,\n",
       " Reuss,\n",
       " Caroline,\n",
       " ognor frementi,\n",
       " Elizabeth Lavenza,\n",
       " Elizabeth,\n",
       " Victor,\n",
       " Elizabeth,\n",
       " Elizabeth,\n",
       " Elizabeth,\n",
       " Henry\n",
       " Clerval,\n",
       " Arthur,\n",
       " Elizabeth,\n",
       " Clerval,\n",
       " inclemency,\n",
       " Cornelius Agrippa,\n",
       " Cornelius Agrippa,\n",
       " Victor,\n",
       " Agrippa,\n",
       " Agrippa,\n",
       " Paracelsus,\n",
       " Albertus Magnus,\n",
       " Isaac Newton,\n",
       " Cornelius Agrippa,\n",
       " Albertus Magnus,\n",
       " Paracelsus,\n",
       " Elizabeth,\n",
       " Elizabeth,\n",
       " Elizabeth,\n",
       " Elizabeth,\n",
       " Elizabeth,\n",
       " Henry,\n",
       " Clerval,\n",
       " Elizabeth,\n",
       " Elizabeth,\n",
       " M. Krempe,\n",
       " M. Krempe,\n",
       " Albertus Magnus,\n",
       " Paracelsus,\n",
       " M. Waldman,\n",
       " M. Krempe,\n",
       " M. Krempe,\n",
       " M. Waldman,\n",
       " Frankenstein,\n",
       " M. Waldman,\n",
       " Cornelius\n",
       " Agrippa,\n",
       " Paracelsus,\n",
       " M. Krempe,\n",
       " M. Waldman,\n",
       " M. Krempe,\n",
       " M. Waldman,\n",
       " Krempe,\n",
       " Cornelius Agrippa,\n",
       " M. Waldman,\n",
       " Cæsar,\n",
       " Elizabeth,\n",
       " mummy,\n",
       " Dante,\n",
       " Mingled,\n",
       " Coleridge,\n",
       " Henry Clerval,\n",
       " Frankenstein,\n",
       " Clerval,\n",
       " Elizabeth,\n",
       " Elizabeth,\n",
       " Frankenstein,\n",
       " Henry,\n",
       " Entreating,\n",
       " Victor,\n",
       " Henry,\n",
       " Elizabeth,\n",
       " Henry,\n",
       " Clerval,\n",
       " Henry,\n",
       " Elizabeth,\n",
       " Cousin,\n",
       " Henry,\n",
       " Victor,\n",
       " Ernest,\n",
       " Ernest,\n",
       " Justine Moritz,\n",
       " Moritz,\n",
       " Justine,\n",
       " M. Moritz,\n",
       " Justine,\n",
       " Justine,\n",
       " Justine,\n",
       " Justine,\n",
       " Ariosto,\n",
       " Angelica,\n",
       " Justine,\n",
       " Justine,\n",
       " Justine,\n",
       " a Roman Catholic,\n",
       " Justine,\n",
       " Justine,\n",
       " Moritz,\n",
       " Justine,\n",
       " William,\n",
       " Louisa Biron,\n",
       " Victor,\n",
       " Mansfield,\n",
       " John Melbourne,\n",
       " Esq,\n",
       " Manon,\n",
       " M. Duvillard,\n",
       " Louis Manoir,\n",
       " Clerval,\n",
       " Tavernier,\n",
       " Manoir,\n",
       " Henry,\n",
       " Elizabeth Lavenza,\n",
       " Elizabeth,\n",
       " Henry,\n",
       " Clerval,\n",
       " M. Waldman,\n",
       " M. Krempe,\n",
       " M. Waldman,\n",
       " M. Clerval,\n",
       " Cornelius Agrippa,\n",
       " M. Frankenstein,\n",
       " M. Clerval,\n",
       " M. Krempe,\n",
       " Henry,\n",
       " Henry,\n",
       " Victor,\n",
       " Victor,\n",
       " William,\n",
       " Victor,\n",
       " William,\n",
       " Ernest,\n",
       " Ernest,\n",
       " William,\n",
       " Elizabeth,\n",
       " Elizabeth,\n",
       " Elizabeth,\n",
       " William,\n",
       " William,\n",
       " Victor,\n",
       " Elizabeth,\n",
       " Victor,\n",
       " Frankenstein,\n",
       " Henry,\n",
       " Henry,\n",
       " William,\n",
       " Salêve,\n",
       " William,\n",
       " William,\n",
       " Ernest,\n",
       " Victor,\n",
       " Elizabeth,\n",
       " William,\n",
       " Ernest,\n",
       " Ernest,\n",
       " Elizabeth,\n",
       " Justine Moritz,\n",
       " Justine Moritz,\n",
       " Ernest,\n",
       " William,\n",
       " Justine,\n",
       " Justine,\n",
       " Justine,\n",
       " Justine,\n",
       " Ernest,\n",
       " Victor,\n",
       " William,\n",
       " Justine,\n",
       " Justine,\n",
       " Elizabeth,\n",
       " Justine,\n",
       " William,\n",
       " Elizabeth,\n",
       " Justine,\n",
       " Justine,\n",
       " Justine,\n",
       " Elizabeth,\n",
       " Justine,\n",
       " Elizabeth,\n",
       " William,\n",
       " Elizabeth,\n",
       " Madame Frankenstein,\n",
       " Elizabeth,\n",
       " Justine,\n",
       " Elizabeth,\n",
       " Justine,\n",
       " Justine,\n",
       " Elizabeth,\n",
       " Elizabeth,\n",
       " Justine,\n",
       " Justine,\n",
       " Elizabeth,\n",
       " Victor,\n",
       " Justine,\n",
       " Elizabeth,\n",
       " Justine,\n",
       " Elizabeth,\n",
       " Justine,\n",
       " Justine,\n",
       " William,\n",
       " Justine,\n",
       " Justine,\n",
       " Justine,\n",
       " Justine,\n",
       " Elizabeth,\n",
       " Elizabeth,\n",
       " Justine,\n",
       " Elizabeth,\n",
       " Justine,\n",
       " Elizabeth,\n",
       " Elizabeth,\n",
       " Justine,\n",
       " Elizabeth,\n",
       " Elizabeth,\n",
       " Ye,\n",
       " Frankenstein,\n",
       " William,\n",
       " Justine,\n",
       " Justine,\n",
       " Victor,\n",
       " Elizabeth,\n",
       " William,\n",
       " Justine,\n",
       " Elizabeth,\n",
       " Justine Moritz,\n",
       " Victor,\n",
       " William,\n",
       " Justine,\n",
       " Elizabeth,\n",
       " Victor,\n",
       " Justine,\n",
       " Arve,\n",
       " Mont Blanc,\n",
       " dôme_,\n",
       " Montanvert,\n",
       " Montanvert,\n",
       " Frankenstein,\n",
       " Adam,\n",
       " Frankenstein,\n",
       " Frankenstein,\n",
       " Pandæmonium,\n",
       " Agatha,\n",
       " Felix,\n",
       " Agatha,\n",
       " Felix,\n",
       " Felix,\n",
       " Felix,\n",
       " Felix,\n",
       " Felix,\n",
       " Felix,\n",
       " Felix,\n",
       " Felix,\n",
       " Felix,\n",
       " Felix,\n",
       " Felix,\n",
       " Felix,\n",
       " Felix,\n",
       " Felix,\n",
       " Felix,\n",
       " Felix,\n",
       " Volney,\n",
       " Felix,\n",
       " Felix,\n",
       " Felix,\n",
       " De Lacey,\n",
       " Felix,\n",
       " Muhammadan,\n",
       " Felix,\n",
       " Felix,\n",
       " Felix,\n",
       " Felix,\n",
       " Felix,\n",
       " Felix,\n",
       " Muhammad,\n",
       " Felix,\n",
       " Felix,\n",
       " Lyons,\n",
       " Felix,\n",
       " Felix,\n",
       " Felix,\n",
       " De Lacey,\n",
       " Felix,\n",
       " Felix,\n",
       " Felix,\n",
       " Felix,\n",
       " Felix,\n",
       " Felix,\n",
       " Plutarch,\n",
       " Werter,\n",
       " Plutarch,\n",
       " Werter,\n",
       " Numa,\n",
       " Adam,\n",
       " Felix,\n",
       " Adam,\n",
       " De Lacey,\n",
       " Felix,\n",
       " De Lacey,\n",
       " Felix,\n",
       " Agatha,\n",
       " Felix,\n",
       " De Lacey,\n",
       " Felix,\n",
       " Felix,\n",
       " Felix,\n",
       " Felix,\n",
       " Felix,\n",
       " M.\n",
       " Frankenstein,\n",
       " Felix,\n",
       " Elizabeth,\n",
       " Elizabeth,\n",
       " Elizabeth,\n",
       " Victor,\n",
       " Elizabeth,\n",
       " Elizabeth,\n",
       " Clerval,\n",
       " Henry,\n",
       " Elizabeth,\n",
       " Elizabeth,\n",
       " Elizabeth,\n",
       " Frankenstein,\n",
       " Henry,\n",
       " Uri,\n",
       " Victor,\n",
       " Beloved,\n",
       " Henry,\n",
       " Henry,\n",
       " William,\n",
       " Justine,\n",
       " Charles\n",
       " I.,\n",
       " Henry,\n",
       " Westmorland,\n",
       " Clerval,\n",
       " Westmorland,\n",
       " Elizabeth,\n",
       " Henry,\n",
       " Arthur,\n",
       " Tay,\n",
       " Clerval,\n",
       " Henry,\n",
       " Elizabeth,\n",
       " Elizabeth,\n",
       " Kirwin,\n",
       " Kirwin,\n",
       " Kirwin,\n",
       " Daniel Nugent,\n",
       " Daniel Nugent,\n",
       " Daniel,\n",
       " Kirwin,\n",
       " Henry\n",
       " Clerval,\n",
       " Henry,\n",
       " Clerval,\n",
       " William,\n",
       " Justine,\n",
       " Kirwin,\n",
       " Kirwin,\n",
       " Justine,\n",
       " Kirwin,\n",
       " Kirwin,\n",
       " Kirwin,\n",
       " Kirwin,\n",
       " Kirwin,\n",
       " Elizabeth,\n",
       " Ernest,\n",
       " Henry,\n",
       " Kirwin,\n",
       " Clerval,\n",
       " Kirwin,\n",
       " Henry,\n",
       " Elizabeth,\n",
       " Ernest,\n",
       " Clerval,\n",
       " Justine,\n",
       " Justine,\n",
       " William,\n",
       " Justine,\n",
       " Henry,\n",
       " Victor,\n",
       " Elizabeth,\n",
       " Elizabeth,\n",
       " Victor,\n",
       " Victor,\n",
       " Victor,\n",
       " Elizabeth Lavenza,\n",
       " Elizabeth,\n",
       " Sweet,\n",
       " Elizabeth,\n",
       " Clerval,\n",
       " Elizabeth,\n",
       " Elizabeth,\n",
       " Elizabeth,\n",
       " Elizabeth,\n",
       " Elizabeth,\n",
       " Elizabeth,\n",
       " Victor,\n",
       " Elizabeth,\n",
       " Elizabeth,\n",
       " Elizabeth,\n",
       " Elizabeth,\n",
       " Elizabeth,\n",
       " Elizabeth,\n",
       " Victor,\n",
       " Elizabeth,\n",
       " Elizabeth,\n",
       " Drance,\n",
       " Elizabeth,\n",
       " Victor,\n",
       " Elizabeth,\n",
       " Elizabeth,\n",
       " Elizabeth,\n",
       " William,\n",
       " Justine,\n",
       " Ernest,\n",
       " Elizabeth,\n",
       " Ernest,\n",
       " Elizabeth,\n",
       " William,\n",
       " Elizabeth,\n",
       " O Night,\n",
       " Elizabeth,\n",
       " Clerval,\n",
       " Elizabeth,\n",
       " Walton,\n",
       " William,\n",
       " Justine, Clerval,\n",
       " Elizabeth,\n",
       " Victor,\n",
       " Walton,\n",
       " Margaret,\n",
       " Felix,\n",
       " Frankenstein,\n",
       " Frankenstein,\n",
       " Walton,\n",
       " Clerval,\n",
       " Elizabeth,\n",
       " Elizabeth,\n",
       " Margaret,\n",
       " Frankenstein,\n",
       " wan,\n",
       " Frankenstein,\n",
       " Frankenstein,\n",
       " Walton,\n",
       " Farewell,\n",
       " Walton,\n",
       " Margaret,\n",
       " hoarser,\n",
       " Frankenstein,\n",
       " Frankenstein,\n",
       " Frankenstein,\n",
       " Frankenstein,\n",
       " Frankenstein,\n",
       " Frankenstein,\n",
       " Felix,\n",
       " Farewell,\n",
       " Frankenstein,\n",
       " Project Gutenberg,\n",
       " Project Gutenberg,\n",
       " Project Gutenberg,\n",
       " AGREE,\n",
       " AGREE,\n",
       " 1.F.6,\n",
       " Michael S. Hart]"
      ]
     },
     "execution_count": 19,
     "metadata": {},
     "output_type": "execute_result"
    }
   ],
   "source": [
    "[item for item in entities if item.label_ == 'PERSON']"
   ]
  },
  {
   "cell_type": "markdown",
   "id": "4c4ab468",
   "metadata": {},
   "source": [
    "# parts of speech"
   ]
  },
  {
   "cell_type": "code",
   "execution_count": 20,
   "id": "dd570315",
   "metadata": {},
   "outputs": [
    {
     "ename": "TypeError",
     "evalue": "'list' object is not callable",
     "output_type": "error",
     "traceback": [
      "\u001b[0;31m---------------------------------------------------------------------------\u001b[0m",
      "\u001b[0;31mTypeError\u001b[0m                                 Traceback (most recent call last)",
      "Cell \u001b[0;32mIn[20], line 1\u001b[0m\n\u001b[0;32m----> 1\u001b[0m words(\u001b[38;5;241m1000\u001b[39m)\u001b[38;5;241m.\u001b[39mpos_\n",
      "\u001b[0;31mTypeError\u001b[0m: 'list' object is not callable"
     ]
    }
   ],
   "source": [
    "words(1000).pos_"
   ]
  },
  {
   "cell_type": "code",
   "execution_count": 22,
   "id": "b000d874",
   "metadata": {},
   "outputs": [
    {
     "ename": "TypeError",
     "evalue": "'list' object is not callable",
     "output_type": "error",
     "traceback": [
      "\u001b[0;31m---------------------------------------------------------------------------\u001b[0m",
      "\u001b[0;31mTypeError\u001b[0m                                 Traceback (most recent call last)",
      "Cell \u001b[0;32mIn[22], line 1\u001b[0m\n\u001b[0;32m----> 1\u001b[0m words(\u001b[38;5;241m1000\u001b[39m)\u001b[38;5;241m.\u001b[39mtext, words(\u001b[38;5;241m1000\u001b[39m)\u001b[38;5;241m.\u001b[39mtag_\n",
      "\u001b[0;31mTypeError\u001b[0m: 'list' object is not callable"
     ]
    }
   ],
   "source": [
    "words(1000).text, words(1000).tag_"
   ]
  },
  {
   "cell_type": "code",
   "execution_count": 23,
   "id": "e87a4db4",
   "metadata": {},
   "outputs": [],
   "source": [
    "nouns = [item for item in words if item.pos_ == 'NOUN']\n",
    "ings = [item for item in words if item.tag_ == 'VBG']"
   ]
  },
  {
   "cell_type": "code",
   "execution_count": 24,
   "id": "48d769c9",
   "metadata": {},
   "outputs": [
    {
     "data": {
      "text/plain": [
       "[wiliness,\n",
       " junior,\n",
       " fishermen,\n",
       " forgetfulness,\n",
       " uncle,\n",
       " father,\n",
       " creature,\n",
       " eyes,\n",
       " gladness,\n",
       " creature]"
      ]
     },
     "execution_count": 24,
     "metadata": {},
     "output_type": "execute_result"
    }
   ],
   "source": [
    "random.sample(nouns, 10)"
   ]
  },
  {
   "cell_type": "markdown",
   "id": "ebdd3786",
   "metadata": {},
   "source": [
    "## part of speech"
   ]
  },
  {
   "cell_type": "code",
   "execution_count": 5,
   "id": "e838e7ae",
   "metadata": {
    "scrolled": false
   },
   "outputs": [
    {
     "ename": "SyntaxError",
     "evalue": "expected 'else' after 'if' expression (3221036457.py, line 1)",
     "output_type": "error",
     "traceback": [
      "\u001b[0;36m  Cell \u001b[0;32mIn[5], line 1\u001b[0;36m\u001b[0m\n\u001b[0;31m    nouns = [item.text for item if item.pos_ == 'NOUN']\u001b[0m\n\u001b[0m                           ^\u001b[0m\n\u001b[0;31mSyntaxError\u001b[0m\u001b[0;31m:\u001b[0m expected 'else' after 'if' expression\n"
     ]
    }
   ],
   "source": [
    "nouns = [item.text for item if item.pos_ == 'NOUN']"
   ]
  },
  {
   "cell_type": "code",
   "execution_count": 6,
   "id": "2c6aeb3c",
   "metadata": {},
   "outputs": [
    {
     "ename": "NameError",
     "evalue": "name 'words' is not defined",
     "output_type": "error",
     "traceback": [
      "\u001b[0;31m---------------------------------------------------------------------------\u001b[0m",
      "\u001b[0;31mNameError\u001b[0m                                 Traceback (most recent call last)",
      "Cell \u001b[0;32mIn[6], line 1\u001b[0m\n\u001b[0;32m----> 1\u001b[0m verbs \u001b[38;5;241m=\u001b[39m [item\u001b[38;5;241m.\u001b[39mtext \u001b[38;5;28;01mfor\u001b[39;00m item \u001b[38;5;129;01min\u001b[39;00m words \u001b[38;5;28;01mif\u001b[39;00m item\u001b[38;5;241m.\u001b[39mpos_ \u001b[38;5;241m==\u001b[39m \u001b[38;5;124m'\u001b[39m\u001b[38;5;124mVERB\u001b[39m\u001b[38;5;124m'\u001b[39m]\n",
      "\u001b[0;31mNameError\u001b[0m: name 'words' is not defined"
     ]
    }
   ],
   "source": [
    "verbs = [item.text for item in words if item.pos_ == 'VERB']"
   ]
  },
  {
   "cell_type": "code",
   "execution_count": 4,
   "id": "da3ef62f",
   "metadata": {},
   "outputs": [
    {
     "ename": "NameError",
     "evalue": "name 'words' is not defined",
     "output_type": "error",
     "traceback": [
      "\u001b[0;31m---------------------------------------------------------------------------\u001b[0m",
      "\u001b[0;31mNameError\u001b[0m                                 Traceback (most recent call last)",
      "Cell \u001b[0;32mIn[4], line 1\u001b[0m\n\u001b[0;32m----> 1\u001b[0m advs \u001b[38;5;241m=\u001b[39m [item\u001b[38;5;241m.\u001b[39mtext \u001b[38;5;28;01mfor\u001b[39;00m item \u001b[38;5;129;01min\u001b[39;00m words \u001b[38;5;28;01mif\u001b[39;00m item\u001b[38;5;241m.\u001b[39mtag_ \u001b[38;5;241m==\u001b[39m \u001b[38;5;124m'\u001b[39m\u001b[38;5;124mRB\u001b[39m\u001b[38;5;124m'\u001b[39m]\n",
      "\u001b[0;31mNameError\u001b[0m: name 'words' is not defined"
     ]
    }
   ],
   "source": [
    "advs = [item.text for item in words if item.tag_ == 'RB']"
   ]
  },
  {
   "cell_type": "code",
   "execution_count": 2,
   "id": "169ffb01",
   "metadata": {},
   "outputs": [],
   "source": [
    "from collections import Counter"
   ]
  },
  {
   "cell_type": "code",
   "execution_count": 3,
   "id": "f004559e",
   "metadata": {},
   "outputs": [
    {
     "ename": "NameError",
     "evalue": "name 'advs' is not defined",
     "output_type": "error",
     "traceback": [
      "\u001b[0;31m---------------------------------------------------------------------------\u001b[0m",
      "\u001b[0;31mNameError\u001b[0m                                 Traceback (most recent call last)",
      "Cell \u001b[0;32mIn[3], line 1\u001b[0m\n\u001b[0;32m----> 1\u001b[0m Counter(advs)\u001b[38;5;241m.\u001b[39mmost_commom()\n",
      "\u001b[0;31mNameError\u001b[0m: name 'advs' is not defined"
     ]
    }
   ],
   "source": [
    "Counter(advs).most_commom()"
   ]
  },
  {
   "cell_type": "code",
   "execution_count": 8,
   "id": "131eb70d",
   "metadata": {},
   "outputs": [],
   "source": [
    "import random"
   ]
  },
  {
   "cell_type": "markdown",
   "id": "817f5fd4",
   "metadata": {},
   "source": [
    "## syntactic roles"
   ]
  },
  {
   "cell_type": "code",
   "execution_count": 9,
   "id": "28aee64e",
   "metadata": {},
   "outputs": [
    {
     "ename": "NameError",
     "evalue": "name 'sentences' is not defined",
     "output_type": "error",
     "traceback": [
      "\u001b[0;31m---------------------------------------------------------------------------\u001b[0m",
      "\u001b[0;31mNameError\u001b[0m                                 Traceback (most recent call last)",
      "Cell \u001b[0;32mIn[9], line 1\u001b[0m\n\u001b[0;32m----> 1\u001b[0m sent \u001b[38;5;241m=\u001b[39m random\u001b[38;5;241m.\u001b[39mchoice(sentences)\n",
      "\u001b[0;31mNameError\u001b[0m: name 'sentences' is not defined"
     ]
    }
   ],
   "source": [
    "sent = random.choice(sentences)"
   ]
  },
  {
   "cell_type": "code",
   "execution_count": 11,
   "id": "c310b267",
   "metadata": {},
   "outputs": [
    {
     "ename": "NameError",
     "evalue": "name 'words' is not defined",
     "output_type": "error",
     "traceback": [
      "\u001b[0;31m---------------------------------------------------------------------------\u001b[0m",
      "\u001b[0;31mNameError\u001b[0m                                 Traceback (most recent call last)",
      "Cell \u001b[0;32mIn[11], line 1\u001b[0m\n\u001b[0;32m----> 1\u001b[0m subjects \u001b[38;5;241m=\u001b[39m [item\u001b[38;5;241m.\u001b[39mtext \u001b[38;5;28;01mfor\u001b[39;00m item \u001b[38;5;129;01min\u001b[39;00m words \u001b[38;5;28;01mif\u001b[39;00m item\u001b[38;5;241m.\u001b[39mdep_ \u001b[38;5;241m==\u001b[39m \u001b[38;5;124m'\u001b[39m\u001b[38;5;124mnsubj\u001b[39m\u001b[38;5;124m'\u001b[39m]\n\u001b[1;32m      2\u001b[0m objs \u001b[38;5;241m=\u001b[39m [item\u001b[38;5;241m.\u001b[39mtext \u001b[38;5;28;01mfor\u001b[39;00m item \u001b[38;5;129;01min\u001b[39;00m words \u001b[38;5;28;01mif\u001b[39;00m item\u001b[38;5;241m.\u001b[39mdep_ \u001b[38;5;241m==\u001b[39m\u001b[38;5;124m'\u001b[39m\u001b[38;5;124mdobj\u001b[39m\u001b[38;5;124m'\u001b[39m]\n",
      "\u001b[0;31mNameError\u001b[0m: name 'words' is not defined"
     ]
    }
   ],
   "source": [
    "subjects = [item.text for item in words if item.dep_ == 'nsubj']\n",
    "objs = [item.text for item in words if item.dep_ =='dobj']"
   ]
  },
  {
   "cell_type": "code",
   "execution_count": 12,
   "id": "a0b48193",
   "metadata": {},
   "outputs": [
    {
     "ename": "NameError",
     "evalue": "name 'objs' is not defined",
     "output_type": "error",
     "traceback": [
      "\u001b[0;31m---------------------------------------------------------------------------\u001b[0m",
      "\u001b[0;31mNameError\u001b[0m                                 Traceback (most recent call last)",
      "Cell \u001b[0;32mIn[12], line 1\u001b[0m\n\u001b[0;32m----> 1\u001b[0m random\u001b[38;5;241m.\u001b[39msample(objs, \u001b[38;5;241m10\u001b[39m)\n",
      "\u001b[0;31mNameError\u001b[0m: name 'objs' is not defined"
     ]
    }
   ],
   "source": [
    "random.sample(objs, 10)"
   ]
  },
  {
   "cell_type": "code",
   "execution_count": null,
   "id": "85907f66",
   "metadata": {},
   "outputs": [],
   "source": []
  }
 ],
 "metadata": {
  "kernelspec": {
   "display_name": "Python 3 (ipykernel)",
   "language": "python",
   "name": "python3"
  },
  "language_info": {
   "codemirror_mode": {
    "name": "ipython",
    "version": 3
   },
   "file_extension": ".py",
   "mimetype": "text/x-python",
   "name": "python",
   "nbconvert_exporter": "python",
   "pygments_lexer": "ipython3",
   "version": "3.11.8"
  }
 },
 "nbformat": 4,
 "nbformat_minor": 5
}
