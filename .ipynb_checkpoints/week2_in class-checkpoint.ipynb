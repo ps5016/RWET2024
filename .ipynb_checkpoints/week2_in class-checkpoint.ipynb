{
 "cells": [
  {
   "cell_type": "code",
   "execution_count": 4,
   "id": "89d029be",
   "metadata": {},
   "outputs": [
    {
     "data": {
      "text/plain": [
       "10"
      ]
     },
     "execution_count": 4,
     "metadata": {},
     "output_type": "execute_result"
    }
   ],
   "source": [
    "5 + 5"
   ]
  },
  {
   "cell_type": "markdown",
   "id": "d8e42752",
   "metadata": {},
   "source": [
    "# some python!\n",
    "    \n",
    "    expression -> interpreter (evaluates) -> value\n",
    "    statements ->"
   ]
  },
  {
   "cell_type": "code",
   "execution_count": 9,
   "id": "64872378",
   "metadata": {},
   "outputs": [
    {
     "data": {
      "text/plain": [
       "True"
      ]
     },
     "execution_count": 9,
     "metadata": {},
     "output_type": "execute_result"
    }
   ],
   "source": [
    "8 == 4 * 2"
   ]
  },
  {
   "cell_type": "code",
   "execution_count": 14,
   "id": "1d86f292",
   "metadata": {},
   "outputs": [
    {
     "data": {
      "text/plain": [
       "True"
      ]
     },
     "execution_count": 14,
     "metadata": {},
     "output_type": "execute_result"
    }
   ],
   "source": [
    "3 * 5 == 3 * 5 == 3 * 5"
   ]
  },
  {
   "cell_type": "code",
   "execution_count": 18,
   "id": "555f8bc2",
   "metadata": {},
   "outputs": [
    {
     "data": {
      "text/plain": [
       "True"
      ]
     },
     "execution_count": 18,
     "metadata": {},
     "output_type": "execute_result"
    }
   ],
   "source": [
    "True #uppercase only"
   ]
  },
  {
   "cell_type": "markdown",
   "id": "20af0191",
   "metadata": {},
   "source": [
    "# values have types"
   ]
  },
  {
   "cell_type": "code",
   "execution_count": 20,
   "id": "0c33ce16",
   "metadata": {},
   "outputs": [
    {
     "data": {
      "text/plain": [
       "bool"
      ]
     },
     "execution_count": 20,
     "metadata": {},
     "output_type": "execute_result"
    }
   ],
   "source": [
    "type(True)"
   ]
  },
  {
   "cell_type": "markdown",
   "id": "75898141",
   "metadata": {},
   "source": [
    "#variables in python"
   ]
  },
  {
   "cell_type": "code",
   "execution_count": null,
   "id": "0c8253f9",
   "metadata": {},
   "outputs": [],
   "source": [
    "mortimer = 4 + 5 * 6"
   ]
  }
 ],
 "metadata": {
  "kernelspec": {
   "display_name": "Python 3 (ipykernel)",
   "language": "python",
   "name": "python3"
  },
  "language_info": {
   "codemirror_mode": {
    "name": "ipython",
    "version": 3
   },
   "file_extension": ".py",
   "mimetype": "text/x-python",
   "name": "python",
   "nbconvert_exporter": "python",
   "pygments_lexer": "ipython3",
   "version": "3.11.5"
  }
 },
 "nbformat": 4,
 "nbformat_minor": 5
}
