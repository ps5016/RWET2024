{
 "cells": [
  {
   "cell_type": "markdown",
   "id": "8451641c",
   "metadata": {},
   "source": [
    "Assignment #3\n",
    "\n",
    "Due at the beginning of session 06.\n",
    "\n",
    "The genre study: Choose a genre or form of writing. This can be anything from a literary genre to a meme format. Gather a small number of exemplars of the genre and make a list of the characteristics that are common to all of them. Write a program that produces texts that emulate a particular form or genre of language."
   ]
  },
  {
   "cell_type": "code",
   "execution_count": 33,
   "id": "1eaaa9d6",
   "metadata": {},
   "outputs": [],
   "source": [
    "import tracery\n",
    "from tracery.modifiers import base_english"
   ]
  },
  {
   "cell_type": "markdown",
   "id": "ffcaec48",
   "metadata": {},
   "source": [
    "VERSION 1"
   ]
  },
  {
   "cell_type": "code",
   "execution_count": 65,
   "id": "c84109c9",
   "metadata": {
    "scrolled": true
   },
   "outputs": [
    {
     "name": "stdout",
     "output_type": "stream",
     "text": [
      "by @goaway | 4h ago\n",
      "- - - - - - - - - - - - - - - - - - - - - - - - - - - - -\n",
      "Dear mom, I’m running away because you are making chicken for dinner AGAIN. Make something good and I will come home.\n",
      "- - - - - - - - - - - - - - - - - - - - - - - - - - - - -\n",
      "645 likes | 12,345 comments\n",
      "Top comment -> @chill: Sounds Good.\n"
     ]
    }
   ],
   "source": [
    "rules = {\n",
    "    \"origin\": \"by @#username# | #time# ago\",\n",
    "    \"origin2\": \"#posts#\",\n",
    "    \"origin3\": \"#amount# likes | #amount# comments\",\n",
    "    \"origin4\": \"Top comment -> @#commentor#: #comment#\",   \n",
    "    #1\n",
    "        \"username\": [\"jerry\", \"goaway\", \"internetperson1\", \"chad\"],\n",
    "        \"time\": [\"4h\", \"45m\", \"2h32m\", \"6 days\"],\n",
    "    #2    \n",
    "        \"posts\": [\"Dear mom, I’m running away because you are making chicken for dinner AGAIN. Make something good and I will come home.\", \":)\", \"DO NOT EAT MY LUNCH! I HAVE 7 SHRIMP AND 4,639 RICE.\"],\n",
    "        \"amount\": [\"32\", \"12,345\", \"3,787\", \"645\", \"24\", \"365\", \"7\", \"56,400\"],\n",
    "    #3\n",
    "        \"commentor\": [\"chill\", \"niceladyoverthere\", \"anonymous\"],\n",
    "        \"comment\": [\"Slay.\", \"Sounds Good.\", \"wait what?\", \"🥺\"]\n",
    "}\n",
    "grammar = tracery.Grammar(rules)\n",
    "grammar.add_modifiers(base_english)\n",
    "print(grammar.flatten('#origin#'))\n",
    "print(\"- - - - - - - - - - - - - - - - - - - - - - - - - - - - -\")\n",
    "print(grammar.flatten('#origin2#'))\n",
    "print(\"- - - - - - - - - - - - - - - - - - - - - - - - - - - - -\")\n",
    "print(grammar.flatten('#origin3#'))\n",
    "print(grammar.flatten('#origin4#'))\n"
   ]
  },
  {
   "cell_type": "code",
   "execution_count": null,
   "id": "a12506a1",
   "metadata": {},
   "outputs": [],
   "source": []
  },
  {
   "cell_type": "markdown",
   "id": "1d93b011",
   "metadata": {},
   "source": [
    "Ver2"
   ]
  },
  {
   "cell_type": "code",
   "execution_count": 35,
   "id": "6ba14a94",
   "metadata": {},
   "outputs": [],
   "source": [
    "import tracery\n",
    "from tracery.modifiers import base_english"
   ]
  },
  {
   "cell_type": "code",
   "execution_count": 36,
   "id": "36ea2fc9",
   "metadata": {},
   "outputs": [],
   "source": [
    "usernames = [\n",
    "    \"jerry\", \n",
    "    \"go_away\",\n",
    "    \"datingapp.io\"\n",
    "    \"internetperson1\", \n",
    "    \"chad\",\n",
    "    \"chillman\", \n",
    "    \"niceladyoverthere\", \n",
    "    \"anonymous\",\n",
    "    \"emotionalsheep\",\n",
    "    \"amywineapartment\",\n",
    "    \"certifiedcorpse\",\n",
    "    \"mark.himself\",\n",
    "    \"sadandbroke\",\n",
    "    \"nana_chan\",\n",
    "    \"bestchefnyc\",\n",
    "    \"chatgpt\",\n",
    "    \"lonelyboy\",\n",
    "    \"serenavanderwoodsen\",\n",
    "    \"taylorswift\",\n",
    "    \"nyutissue\",\n",
    "    \"water.pdf\",\n",
    "    \"itsmehihello\",\n",
    "    \"yukikoyamamoto\",\n",
    "    \"therealbenaffleck\",\n",
    "    \"keanu\",\n",
    "    \"notacoolkid\",\n",
    "    \"yourfavboyband\",\n",
    "    \"internetsushi\",\n",
    "    \"meeshfinsta\",\n",
    "    \"friedfish88\",\n",
    "    \"instagram\",\n",
    "    \"oceanjelly222\",\n",
    "    \"parishilton\",\n",
    "    \"mom\",\n",
    "]"
   ]
  },
  {
   "cell_type": "code",
   "execution_count": 37,
   "id": "496229ad",
   "metadata": {},
   "outputs": [],
   "source": [
    "times = [\n",
    "    \"4h\", \n",
    "    \"45m\", \n",
    "    \"2h32m\", \n",
    "    \"6 days\",\n",
    "    \"16m\",\n",
    "    \"7h52m\",\n",
    "    \"just a few seconds\",\n",
    "    \"an eternity\",\n",
    "    \"forever\",\n",
    "    \"9y\",\n",
    "    \"2y\",\n",
    "    \"5m\",\n",
    "    \"ages\",\n",
    "    \"2 coffee breaks\",\n",
    "    \"90s\",\n",
    "    \"2s\",\n",
    "    \"45s\",\n",
    "    \"2 days\",\n",
    "    \"1h38m\",\n",
    "    \"not too long\",\n",
    "    \"3hr\",\n",
    "    \"2h34m\",\n",
    "    \"66w\",\n",
    "    \"3w\",\n",
    "    \"8h\",\n",
    "    \"16h\",\n",
    "    \"23s\",\n",
    "    \"43m\",\n",
    "    \"7s\",\n",
    "    \"7w\"\n",
    "]"
   ]
  },
  {
   "cell_type": "code",
   "execution_count": 38,
   "id": "cbb1e684",
   "metadata": {},
   "outputs": [],
   "source": [
    "posts = [\n",
    "    \"Dear mom, I’m running away because you are making chicken for dinner AGAIN. \\nMake something good and I will come home.\",\n",
    "    \":)\",\n",
    "    \"DO NOT EAT MY LUNCH! I HAVE 7 SHRIMP AND 4,639 RICE.\",\n",
    "    \"what is 2 + 2 again?\",\n",
    "    \"Everything i want to do is illegal lol\",\n",
    "    \"I am so grateful to be alive oh my the sky is so blue and the cloud so fluffy!\",\n",
    "    \"i do not think \\ntherefore i do not am\",\n",
    "    \"I need a croissant. Now.\",\n",
    "    \"I pay my bills on time.\",\n",
    "    \"I want everything to be \\njust right.\",\n",
    "    \"HE TEXTED BACK\",\n",
    "    'We keep saying \"it is what it is\" \\nBut what is it',\n",
    "    \"That's hot\"\n",
    "    \"Roses are red \\nI am going to bed\",\n",
    "    \"I <3 aging and dying!\",\n",
    "    \"it's giving fuck this \\nit's giving bitch bye\",\n",
    "    \"It's officially March \\nIm a pisces of shit💩\",\n",
    "    \"1+2=3\",\n",
    "    \"i woke up at 6 today, go me\",\n",
    "    \"what?\",\n",
    "    \"girl dinner!\"\n",
    "]"
   ]
  },
  {
   "cell_type": "code",
   "execution_count": 39,
   "id": "c6f3fead",
   "metadata": {},
   "outputs": [],
   "source": [
    "amounts = [\n",
    "    \"32\", \n",
    "    \"12,345\", \n",
    "    \"3,787\", \n",
    "    \"645\",\n",
    "    \"24\", \n",
    "    \"365\", \n",
    "    \"7\", \n",
    "    \"56,400\",\n",
    "    \"777\",\n",
    "    \"89\",\n",
    "    \"640\",\n",
    "    \"420\",\n",
    "    \"2\",\n",
    "    \"784,808\",\n",
    "    \"64,203\",\n",
    "    \"934\"\n",
    "]"
   ]
  },
  {
   "cell_type": "code",
   "execution_count": 40,
   "id": "7714b575",
   "metadata": {},
   "outputs": [],
   "source": [
    "comments = [\n",
    "    \"Slay.\", \n",
    "    \"Sounds Good.\", \n",
    "    \"wait what?\", \n",
    "    \"🥺\",\n",
    "    \"I love you\",\n",
    "    \"wtf\",\n",
    "    \"get off of the Internet, kid\",\n",
    "    \"click to win prize!\",\n",
    "    \"Can I pet your dog please\",\n",
    "    \"you look amazing\",\n",
    "    \"this is the funniest thing I've ever heard\",\n",
    "    \"legend\",\n",
    "    \"ohmigod\",\n",
    "    \"can you follow me back plz\",\n",
    "    \"lol you are the stupidiest person ever\",\n",
    "    \"MAke iT maKE SenSE\",\n",
    "    \"bye\",\n",
    "    \"ʕ•ᴥ•ʔ\",\n",
    "    \"我愛你\",\n",
    "    \"hello\",\n",
    "    \"text me\",\n",
    "    \"what else\",\n",
    "    \"take it off\",\n",
    "    \"💯\",\n",
    "    \"sent you a DM!\",\n",
    "    \"no\",\n",
    "    \"stop it! just stop!\"\n",
    "]"
   ]
  },
  {
   "cell_type": "code",
   "execution_count": null,
   "id": "d16e0180",
   "metadata": {
    "scrolled": true
   },
   "outputs": [],
   "source": []
  },
  {
   "cell_type": "code",
   "execution_count": null,
   "id": "7096dfb2",
   "metadata": {},
   "outputs": [],
   "source": []
  },
  {
   "cell_type": "code",
   "execution_count": null,
   "id": "163e423c",
   "metadata": {},
   "outputs": [],
   "source": []
  },
  {
   "cell_type": "code",
   "execution_count": null,
   "id": "69f1a70f",
   "metadata": {},
   "outputs": [],
   "source": []
  },
  {
   "cell_type": "code",
   "execution_count": null,
   "id": "d4cde920",
   "metadata": {},
   "outputs": [],
   "source": []
  },
  {
   "cell_type": "code",
   "execution_count": null,
   "id": "287874fa",
   "metadata": {},
   "outputs": [],
   "source": []
  },
  {
   "cell_type": "code",
   "execution_count": null,
   "id": "dce2f30b",
   "metadata": {},
   "outputs": [],
   "source": []
  },
  {
   "cell_type": "code",
   "execution_count": null,
   "id": "78bebb48",
   "metadata": {},
   "outputs": [],
   "source": []
  },
  {
   "cell_type": "code",
   "execution_count": null,
   "id": "e20e4fad",
   "metadata": {},
   "outputs": [],
   "source": []
  },
  {
   "cell_type": "code",
   "execution_count": null,
   "id": "a5252c49",
   "metadata": {},
   "outputs": [],
   "source": []
  },
  {
   "cell_type": "code",
   "execution_count": null,
   "id": "4a05bc62",
   "metadata": {},
   "outputs": [],
   "source": []
  },
  {
   "cell_type": "code",
   "execution_count": null,
   "id": "bca690b0",
   "metadata": {},
   "outputs": [],
   "source": []
  },
  {
   "cell_type": "code",
   "execution_count": null,
   "id": "aead433c",
   "metadata": {},
   "outputs": [],
   "source": []
  },
  {
   "cell_type": "code",
   "execution_count": null,
   "id": "03ed7b29",
   "metadata": {},
   "outputs": [],
   "source": []
  },
  {
   "cell_type": "code",
   "execution_count": null,
   "id": "5c6ee8a2",
   "metadata": {},
   "outputs": [],
   "source": []
  },
  {
   "cell_type": "code",
   "execution_count": null,
   "id": "e1b0be37",
   "metadata": {},
   "outputs": [],
   "source": []
  },
  {
   "cell_type": "code",
   "execution_count": null,
   "id": "436e8eb1",
   "metadata": {},
   "outputs": [],
   "source": []
  },
  {
   "cell_type": "code",
   "execution_count": null,
   "id": "473dbcb1",
   "metadata": {},
   "outputs": [],
   "source": []
  },
  {
   "cell_type": "code",
   "execution_count": null,
   "id": "84273fba",
   "metadata": {},
   "outputs": [],
   "source": []
  },
  {
   "cell_type": "code",
   "execution_count": null,
   "id": "a300c1c2",
   "metadata": {},
   "outputs": [],
   "source": []
  },
  {
   "cell_type": "code",
   "execution_count": null,
   "id": "7456e026",
   "metadata": {},
   "outputs": [],
   "source": []
  },
  {
   "cell_type": "code",
   "execution_count": null,
   "id": "e26f4be2",
   "metadata": {},
   "outputs": [],
   "source": []
  },
  {
   "cell_type": "code",
   "execution_count": null,
   "id": "8fef7137",
   "metadata": {},
   "outputs": [],
   "source": []
  },
  {
   "cell_type": "code",
   "execution_count": null,
   "id": "e58484f4",
   "metadata": {},
   "outputs": [],
   "source": []
  },
  {
   "cell_type": "code",
   "execution_count": null,
   "id": "256259e8",
   "metadata": {},
   "outputs": [],
   "source": []
  },
  {
   "cell_type": "code",
   "execution_count": null,
   "id": "f8e70cec",
   "metadata": {},
   "outputs": [],
   "source": []
  },
  {
   "cell_type": "code",
   "execution_count": null,
   "id": "46c55e02",
   "metadata": {},
   "outputs": [],
   "source": []
  },
  {
   "cell_type": "code",
   "execution_count": null,
   "id": "d51a8ae4",
   "metadata": {},
   "outputs": [],
   "source": []
  },
  {
   "cell_type": "code",
   "execution_count": null,
   "id": "8478f781",
   "metadata": {},
   "outputs": [],
   "source": []
  },
  {
   "cell_type": "code",
   "execution_count": null,
   "id": "c6f9f862",
   "metadata": {},
   "outputs": [],
   "source": []
  },
  {
   "cell_type": "code",
   "execution_count": null,
   "id": "6535abe8",
   "metadata": {},
   "outputs": [],
   "source": []
  },
  {
   "cell_type": "code",
   "execution_count": null,
   "id": "eb6df211",
   "metadata": {},
   "outputs": [],
   "source": []
  },
  {
   "cell_type": "code",
   "execution_count": null,
   "id": "86c2f664",
   "metadata": {},
   "outputs": [],
   "source": []
  },
  {
   "cell_type": "code",
   "execution_count": null,
   "id": "c043eadd",
   "metadata": {},
   "outputs": [],
   "source": []
  },
  {
   "cell_type": "code",
   "execution_count": null,
   "id": "41f2979a",
   "metadata": {},
   "outputs": [],
   "source": []
  },
  {
   "cell_type": "code",
   "execution_count": null,
   "id": "fc477d66",
   "metadata": {},
   "outputs": [],
   "source": []
  },
  {
   "cell_type": "code",
   "execution_count": null,
   "id": "add35622",
   "metadata": {},
   "outputs": [],
   "source": []
  },
  {
   "cell_type": "code",
   "execution_count": null,
   "id": "04908556",
   "metadata": {},
   "outputs": [],
   "source": []
  },
  {
   "cell_type": "code",
   "execution_count": null,
   "id": "53743a9e",
   "metadata": {},
   "outputs": [],
   "source": []
  },
  {
   "cell_type": "code",
   "execution_count": null,
   "id": "c3a2246e",
   "metadata": {},
   "outputs": [],
   "source": []
  },
  {
   "cell_type": "code",
   "execution_count": null,
   "id": "e391f5d1",
   "metadata": {},
   "outputs": [],
   "source": []
  },
  {
   "cell_type": "code",
   "execution_count": null,
   "id": "07271da8",
   "metadata": {},
   "outputs": [],
   "source": []
  },
  {
   "cell_type": "code",
   "execution_count": null,
   "id": "e98ebd70",
   "metadata": {},
   "outputs": [],
   "source": []
  },
  {
   "cell_type": "code",
   "execution_count": null,
   "id": "ac73b9d6",
   "metadata": {},
   "outputs": [],
   "source": []
  },
  {
   "cell_type": "code",
   "execution_count": null,
   "id": "925c763a",
   "metadata": {},
   "outputs": [],
   "source": []
  },
  {
   "cell_type": "code",
   "execution_count": null,
   "id": "bc65741f",
   "metadata": {},
   "outputs": [],
   "source": []
  },
  {
   "cell_type": "code",
   "execution_count": null,
   "id": "c7662d6d",
   "metadata": {},
   "outputs": [],
   "source": []
  },
  {
   "cell_type": "code",
   "execution_count": null,
   "id": "082336b1",
   "metadata": {},
   "outputs": [],
   "source": []
  },
  {
   "cell_type": "code",
   "execution_count": null,
   "id": "cc2dc4f6",
   "metadata": {},
   "outputs": [],
   "source": []
  },
  {
   "cell_type": "code",
   "execution_count": null,
   "id": "13fb6202",
   "metadata": {},
   "outputs": [],
   "source": []
  },
  {
   "cell_type": "code",
   "execution_count": null,
   "id": "e6036a95",
   "metadata": {},
   "outputs": [],
   "source": []
  },
  {
   "cell_type": "code",
   "execution_count": null,
   "id": "2673558f",
   "metadata": {},
   "outputs": [],
   "source": []
  },
  {
   "cell_type": "code",
   "execution_count": null,
   "id": "a762fe74",
   "metadata": {},
   "outputs": [],
   "source": []
  },
  {
   "cell_type": "code",
   "execution_count": null,
   "id": "a7b32594",
   "metadata": {},
   "outputs": [],
   "source": []
  },
  {
   "cell_type": "code",
   "execution_count": null,
   "id": "0996380c",
   "metadata": {},
   "outputs": [],
   "source": []
  },
  {
   "cell_type": "code",
   "execution_count": null,
   "id": "c0fb70ec",
   "metadata": {},
   "outputs": [],
   "source": []
  },
  {
   "cell_type": "code",
   "execution_count": null,
   "id": "b4abd8b8",
   "metadata": {},
   "outputs": [],
   "source": []
  },
  {
   "cell_type": "code",
   "execution_count": null,
   "id": "ab18e1a4",
   "metadata": {},
   "outputs": [],
   "source": []
  },
  {
   "cell_type": "code",
   "execution_count": null,
   "id": "13ca84fa",
   "metadata": {},
   "outputs": [],
   "source": []
  },
  {
   "cell_type": "code",
   "execution_count": null,
   "id": "05b846a9",
   "metadata": {},
   "outputs": [],
   "source": []
  },
  {
   "cell_type": "code",
   "execution_count": null,
   "id": "17910118",
   "metadata": {},
   "outputs": [],
   "source": []
  },
  {
   "cell_type": "code",
   "execution_count": null,
   "id": "f8763afd",
   "metadata": {},
   "outputs": [],
   "source": []
  },
  {
   "cell_type": "code",
   "execution_count": null,
   "id": "ab4ea7ed",
   "metadata": {},
   "outputs": [],
   "source": []
  },
  {
   "cell_type": "code",
   "execution_count": null,
   "id": "f019bba8",
   "metadata": {},
   "outputs": [],
   "source": []
  },
  {
   "cell_type": "code",
   "execution_count": null,
   "id": "8e1f386a",
   "metadata": {},
   "outputs": [],
   "source": []
  },
  {
   "cell_type": "code",
   "execution_count": null,
   "id": "9a2be91f",
   "metadata": {},
   "outputs": [],
   "source": []
  },
  {
   "cell_type": "code",
   "execution_count": null,
   "id": "a3b357c5",
   "metadata": {},
   "outputs": [],
   "source": []
  },
  {
   "cell_type": "code",
   "execution_count": null,
   "id": "dba2afa2",
   "metadata": {},
   "outputs": [],
   "source": []
  }
 ],
 "metadata": {
  "kernelspec": {
   "display_name": "Python 3 (ipykernel)",
   "language": "python",
   "name": "python3"
  },
  "language_info": {
   "codemirror_mode": {
    "name": "ipython",
    "version": 3
   },
   "file_extension": ".py",
   "mimetype": "text/x-python",
   "name": "python",
   "nbconvert_exporter": "python",
   "pygments_lexer": "ipython3",
   "version": "3.11.8"
  }
 },
 "nbformat": 4,
 "nbformat_minor": 5
}
