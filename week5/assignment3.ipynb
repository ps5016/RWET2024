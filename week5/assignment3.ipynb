{
 "cells": [
  {
   "cell_type": "markdown",
   "id": "e300ea7c",
   "metadata": {},
   "source": [
    "Assignment #3\n",
    "\n",
    "Due at the beginning of session 06.\n",
    "\n",
    "The genre study: Choose a genre or form of writing. This can be anything from a literary genre to a meme format. Gather a small number of exemplars of the genre and make a list of the characteristics that are common to all of them. Write a program that produces texts that emulate a particular form or genre of language."
   ]
  },
  {
   "cell_type": "code",
   "execution_count": 5,
   "id": "91943e73",
   "metadata": {},
   "outputs": [],
   "source": [
    "import tracery\n",
    "from tracery.modifiers import base_english"
   ]
  },
  {
   "cell_type": "markdown",
   "id": "b11a82ad",
   "metadata": {},
   "source": [
    "VERSION 1"
   ]
  },
  {
   "cell_type": "code",
   "execution_count": 230,
   "id": "e49808bd",
   "metadata": {
    "scrolled": true
   },
   "outputs": [
    {
     "name": "stdout",
     "output_type": "stream",
     "text": [
      "by @jerry | 6 days ago\n",
      "- - - - - - - - - - - - - - - - - - - - - - - - - - - - -\n",
      ":)\n",
      "- - - - - - - - - - - - - - - - - - - - - - - - - - - - -\n",
      "365 likes | 7 comments\n",
      "Top comment -> @niceladyoverthere: Sounds Good.\n"
     ]
    }
   ],
   "source": [
    "rules = {\n",
    "    \"origin\": \"by @#username# | #time# ago\",\n",
    "    \"origin2\": \"#posts#\",\n",
    "    \"origin3\": \"#amount# likes | #amount# comments\",\n",
    "    \"origin4\": \"Top comment -> @#commentor#: #comment#\",   \n",
    "    #1\n",
    "        \"username\": [\"jerry\", \"goaway\", \"internetperson1\", \"chad\"],\n",
    "        \"time\": [\"4h\", \"45m\", \"2h32m\", \"6 days\"],\n",
    "    #2    \n",
    "        \"posts\": [\"Dear mom, I’m running away because you are making chicken for dinner AGAIN. Make something good and I will come home.\", \":)\", \"DO NOT EAT MY LUNCH! I HAVE 7 SHRIMP AND 4,639 RICE.\"],\n",
    "        \"amount\": [\"32\", \"12,345\", \"3,787\", \"645\", \"24\", \"365\", \"7\", \"56,400\"],\n",
    "    #3\n",
    "        \"commentor\": [\"chill\", \"niceladyoverthere\", \"anonymous\"],\n",
    "        \"comment\": [\"Slay.\", \"Sounds Good.\", \"wait what?\", \"🥺\"]\n",
    "}\n",
    "grammar = tracery.Grammar(rules)\n",
    "grammar.add_modifiers(base_english)\n",
    "print(grammar.flatten('#origin#'))\n",
    "print(\"- - - - - - - - - - - - - - - - - - - - - - - - - - - - -\")\n",
    "print(grammar.flatten('#origin2#'))\n",
    "print(\"- - - - - - - - - - - - - - - - - - - - - - - - - - - - -\")\n",
    "print(grammar.flatten('#origin3#'))\n",
    "print(grammar.flatten('#origin4#'))\n"
   ]
  },
  {
   "cell_type": "code",
   "execution_count": null,
   "id": "57180a77",
   "metadata": {},
   "outputs": [],
   "source": []
  },
  {
   "cell_type": "markdown",
   "id": "6c648f57",
   "metadata": {},
   "source": [
    "Ver2"
   ]
  },
  {
   "cell_type": "code",
   "execution_count": 371,
   "id": "93324f5a",
   "metadata": {},
   "outputs": [],
   "source": [
    "import tracery\n",
    "from tracery.modifiers import base_english"
   ]
  },
  {
   "cell_type": "code",
   "execution_count": 392,
   "id": "380fea81",
   "metadata": {},
   "outputs": [],
   "source": [
    "usernames = [\n",
    "    \"jerry\", \n",
    "    \"go_away\",\n",
    "    \"datingapp.io\"\n",
    "    \"internetperson1\", \n",
    "    \"chad\",\n",
    "    \"chillman\", \n",
    "    \"niceladyoverthere\", \n",
    "    \"anonymous\",\n",
    "    \"emotionalsheep\",\n",
    "    \"amywineapartment\",\n",
    "    \"certifiedcorpse\",\n",
    "    \"mark.himself\",\n",
    "    \"sadandbroke\",\n",
    "    \"nana_chan\",\n",
    "    \"bestchefnyc\",\n",
    "    \"chatgpt\",\n",
    "    \"lonelyboy\",\n",
    "    \"serenavanderwoodsen\",\n",
    "    \"taylorswift\",\n",
    "    \"nyutissue\",\n",
    "    \"water.pdf\",\n",
    "    \"itsmehihello\",\n",
    "    \"yukikoyamamoto\",\n",
    "    \"therealbenaffleck\",\n",
    "    \"keanu\",\n",
    "    \"notacoolkid\",\n",
    "    \"yourfavboyband\",\n",
    "    \"internetsushi\",\n",
    "    \"meeshfinsta\",\n",
    "    \"friedfish88\",\n",
    "    \"instagram\",\n",
    "    \"oceanjelly222\",\n",
    "    \"parishilton\"\n",
    "]"
   ]
  },
  {
   "cell_type": "code",
   "execution_count": 373,
   "id": "180671a9",
   "metadata": {},
   "outputs": [],
   "source": [
    "times = [\n",
    "    \"4h\", \n",
    "    \"45m\", \n",
    "    \"2h32m\", \n",
    "    \"6 days\",\n",
    "    \"16m\",\n",
    "    \"7h52m\",\n",
    "    \"just a few seconds\",\n",
    "    \"an eternity\",\n",
    "    \"forever\",\n",
    "    \"9y\",\n",
    "    \"2y\",\n",
    "    \"5m\",\n",
    "    \"ages\",\n",
    "    \"2 coffee breaks\",\n",
    "    \"90s\",\n",
    "    \"2s\",\n",
    "    \"45s\",\n",
    "    \"2 days\",\n",
    "    \"1h38m\",\n",
    "    \"not too long\"\n",
    "]"
   ]
  },
  {
   "cell_type": "code",
   "execution_count": 393,
   "id": "b3976254",
   "metadata": {},
   "outputs": [],
   "source": [
    "posts = [\n",
    "    \"Dear mom, I’m running away because you are making chicken for dinner AGAIN. \\nMake something good and I will come home.\",\n",
    "    \":)\",\n",
    "    \"DO NOT EAT MY LUNCH! I HAVE 7 SHRIMP AND 4,639 RICE.\",\n",
    "    \"what is 2 + 2 again?\",\n",
    "    \"Everything i want to do is illegal lol\",\n",
    "    \"I am so grateful to be alive oh my the sky is so blue and the cloud so fluffy!\",\n",
    "    \"i do not think \\ntherefore i do not am\",\n",
    "    \"I need a croissant. Now.\",\n",
    "    \"I pay my bills on time.\",\n",
    "    \"I want everything to be \\njust right.\",\n",
    "    \"HE TEXTED BACK\",\n",
    "    'We keep saying \"it is what it is\" \\nBut what is it',\n",
    "    \"That's hot\"\n",
    "    \"Roses are red \\nI am going to bed\",\n",
    "    \"I <3 aging and dying!\",\n",
    "    \"it's giving fuck this \\nit's giving bitch bye\",\n",
    "    \"It's officially March \\nIm a pisces of shit💩\",\n",
    "    \"1+2=3\"\n",
    "]"
   ]
  },
  {
   "cell_type": "code",
   "execution_count": 394,
   "id": "a29addbc",
   "metadata": {},
   "outputs": [],
   "source": [
    "amounts = [\n",
    "    \"32\", \n",
    "    \"12,345\", \n",
    "    \"3,787\", \n",
    "    \"645\",\n",
    "    \"24\", \n",
    "    \"365\", \n",
    "    \"7\", \n",
    "    \"56,400\",\n",
    "    \"777\",\n",
    "    \"89\",\n",
    "    \"640\",\n",
    "    \"420\",\n",
    "    \"2\",\n",
    "    \"784,808\",\n",
    "    \"64,203\",\n",
    "    \"934\"\n",
    "]"
   ]
  },
  {
   "cell_type": "code",
   "execution_count": 395,
   "id": "4eb3883b",
   "metadata": {},
   "outputs": [],
   "source": [
    "comments = [\n",
    "    \"Slay.\", \n",
    "    \"Sounds Good.\", \n",
    "    \"wait what?\", \n",
    "    \"🥺\",\n",
    "    \"I love you\",\n",
    "    \"wtf\",\n",
    "    \"get off of the Internet, kid\",\n",
    "    \"click to win prize!\",\n",
    "    \"Can I pet your dog please\",\n",
    "    \"you look amazing\",\n",
    "    \"this is the funniest thing I've ever heard\",\n",
    "    \"legend\",\n",
    "    \"ohmigod\",\n",
    "    \"can you follow me back plz\",\n",
    "    \"lol you are the stupidiest person ever\",\n",
    "    \"MAke iT maKE SenSE\",\n",
    "    \"bye\",\n",
    "    \"ʕ•ᴥ•ʔ\",\n",
    "    \"我愛你\",\n",
    "    \"hello\",\n",
    "    \"text me\",\n",
    "    \"what else\",\n",
    "    \"take it off\",\n",
    "    \"💯\",\n",
    "    \"sent you a DM!\"\n",
    "]"
   ]
  },
  {
   "cell_type": "code",
   "execution_count": 413,
   "id": "6464e99d",
   "metadata": {
    "scrolled": true
   },
   "outputs": [
    {
     "name": "stdout",
     "output_type": "stream",
     "text": [
      "by @jerry | ages ago\n",
      "- - - - - - - - - - - - - - - - - - - - - - - - - - - - -\n",
      "DO NOT EAT MY LUNCH! I HAVE 7 SHRIMP AND 4,639 RICE.\n",
      "- - - - - - - - - - - - - - - - - - - - - - - - - - - - -\n",
      "7 likes | 645 comments\n",
      "Top comment -> @go_away: take it off\n",
      " \n",
      " \n",
      "by @yourfavboyband | ages ago\n",
      "- - - - - - - - - - - - - - - - - - - - - - - - - - - - -\n",
      "It's officially March \n",
      "Im a pisces of shit💩\n",
      "- - - - - - - - - - - - - - - - - - - - - - - - - - - - -\n",
      "365 likes | 7 comments\n",
      "Top comment -> @instagram: sent you a DM!\n",
      " \n",
      " \n",
      "by @notacoolkid | 2s ago\n",
      "- - - - - - - - - - - - - - - - - - - - - - - - - - - - -\n",
      "I need a croissant. Now.\n",
      "- - - - - - - - - - - - - - - - - - - - - - - - - - - - -\n",
      "640 likes | 645 comments\n",
      "Top comment -> @notacoolkid: you look amazing\n",
      " \n",
      " \n"
     ]
    }
   ],
   "source": [
    "rules = {\n",
    "    \"origin\": \"by @#username# | #time# ago\",\n",
    "    \"origin2\": \"#post#\",\n",
    "    \"origin3\": \"#amount# likes | #amount# comments\",\n",
    "    \"origin4\": \"Top comment -> @#commentor#: #comment#\",   \n",
    "    #1\n",
    "        \"username\": usernames,\n",
    "        \"time\": times,\n",
    "    #2    \n",
    "        \"post\": posts,\n",
    "        \"amount\": amounts,\n",
    "    #3\n",
    "        \"commentor\": usernames,\n",
    "        \"comment\": comments,\n",
    "}\n",
    "grammar = tracery.Grammar(rules)\n",
    "grammar.add_modifiers(base_english)\n",
    "\n",
    "for i in range(3):\n",
    "    print(grammar.flatten('#origin#'))\n",
    "    print(\"- - - - - - - - - - - - - - - - - - - - - - - - - - - - -\")\n",
    "    print(grammar.flatten('#origin2#'))\n",
    "    print(\"- - - - - - - - - - - - - - - - - - - - - - - - - - - - -\")\n",
    "    print(grammar.flatten('#origin3#'))\n",
    "    print(grammar.flatten('#origin4#'))\n",
    "    print(\" \" + \"\\n\" + \" \")"
   ]
  },
  {
   "cell_type": "code",
   "execution_count": null,
   "id": "e4dd5644",
   "metadata": {},
   "outputs": [],
   "source": []
  },
  {
   "cell_type": "code",
   "execution_count": null,
   "id": "4106a492",
   "metadata": {},
   "outputs": [],
   "source": []
  },
  {
   "cell_type": "code",
   "execution_count": null,
   "id": "0ffbea65",
   "metadata": {},
   "outputs": [],
   "source": []
  },
  {
   "cell_type": "code",
   "execution_count": null,
   "id": "549654a2",
   "metadata": {},
   "outputs": [],
   "source": []
  },
  {
   "cell_type": "code",
   "execution_count": null,
   "id": "25a0b0ec",
   "metadata": {},
   "outputs": [],
   "source": []
  },
  {
   "cell_type": "code",
   "execution_count": null,
   "id": "a2abcc7f",
   "metadata": {},
   "outputs": [],
   "source": []
  },
  {
   "cell_type": "code",
   "execution_count": null,
   "id": "2ea41380",
   "metadata": {},
   "outputs": [],
   "source": []
  },
  {
   "cell_type": "code",
   "execution_count": null,
   "id": "06d4e4f7",
   "metadata": {},
   "outputs": [],
   "source": []
  },
  {
   "cell_type": "code",
   "execution_count": null,
   "id": "ae38a994",
   "metadata": {},
   "outputs": [],
   "source": []
  },
  {
   "cell_type": "code",
   "execution_count": null,
   "id": "b60afbff",
   "metadata": {},
   "outputs": [],
   "source": []
  },
  {
   "cell_type": "code",
   "execution_count": null,
   "id": "8a8ab125",
   "metadata": {},
   "outputs": [],
   "source": []
  },
  {
   "cell_type": "code",
   "execution_count": null,
   "id": "c114678d",
   "metadata": {},
   "outputs": [],
   "source": []
  },
  {
   "cell_type": "code",
   "execution_count": null,
   "id": "572319c6",
   "metadata": {},
   "outputs": [],
   "source": []
  },
  {
   "cell_type": "code",
   "execution_count": null,
   "id": "87e490cc",
   "metadata": {},
   "outputs": [],
   "source": []
  },
  {
   "cell_type": "code",
   "execution_count": null,
   "id": "80be48c5",
   "metadata": {},
   "outputs": [],
   "source": []
  },
  {
   "cell_type": "code",
   "execution_count": null,
   "id": "ee35a105",
   "metadata": {},
   "outputs": [],
   "source": []
  },
  {
   "cell_type": "code",
   "execution_count": null,
   "id": "4e46ae26",
   "metadata": {},
   "outputs": [],
   "source": []
  },
  {
   "cell_type": "code",
   "execution_count": null,
   "id": "de7b7d9d",
   "metadata": {},
   "outputs": [],
   "source": []
  },
  {
   "cell_type": "code",
   "execution_count": null,
   "id": "4515b00b",
   "metadata": {},
   "outputs": [],
   "source": []
  },
  {
   "cell_type": "code",
   "execution_count": null,
   "id": "dbc31b41",
   "metadata": {},
   "outputs": [],
   "source": []
  },
  {
   "cell_type": "code",
   "execution_count": null,
   "id": "0c961bac",
   "metadata": {},
   "outputs": [],
   "source": []
  },
  {
   "cell_type": "code",
   "execution_count": null,
   "id": "f58277b9",
   "metadata": {},
   "outputs": [],
   "source": []
  },
  {
   "cell_type": "code",
   "execution_count": null,
   "id": "d36bf6b1",
   "metadata": {},
   "outputs": [],
   "source": []
  },
  {
   "cell_type": "code",
   "execution_count": null,
   "id": "c1945e53",
   "metadata": {},
   "outputs": [],
   "source": []
  },
  {
   "cell_type": "code",
   "execution_count": null,
   "id": "e9db1608",
   "metadata": {},
   "outputs": [],
   "source": []
  },
  {
   "cell_type": "code",
   "execution_count": null,
   "id": "6557cdae",
   "metadata": {},
   "outputs": [],
   "source": []
  },
  {
   "cell_type": "code",
   "execution_count": null,
   "id": "5b89ae3a",
   "metadata": {},
   "outputs": [],
   "source": []
  },
  {
   "cell_type": "code",
   "execution_count": null,
   "id": "e4dd2497",
   "metadata": {},
   "outputs": [],
   "source": []
  },
  {
   "cell_type": "code",
   "execution_count": null,
   "id": "29e09b2f",
   "metadata": {},
   "outputs": [],
   "source": []
  },
  {
   "cell_type": "code",
   "execution_count": null,
   "id": "c341aecf",
   "metadata": {},
   "outputs": [],
   "source": []
  },
  {
   "cell_type": "code",
   "execution_count": null,
   "id": "36bf537d",
   "metadata": {},
   "outputs": [],
   "source": []
  },
  {
   "cell_type": "code",
   "execution_count": null,
   "id": "fb1f5497",
   "metadata": {},
   "outputs": [],
   "source": []
  },
  {
   "cell_type": "code",
   "execution_count": null,
   "id": "871289f0",
   "metadata": {},
   "outputs": [],
   "source": []
  },
  {
   "cell_type": "code",
   "execution_count": null,
   "id": "ab6ce241",
   "metadata": {},
   "outputs": [],
   "source": []
  },
  {
   "cell_type": "code",
   "execution_count": null,
   "id": "ec333d2e",
   "metadata": {},
   "outputs": [],
   "source": []
  },
  {
   "cell_type": "code",
   "execution_count": null,
   "id": "1425a7d2",
   "metadata": {},
   "outputs": [],
   "source": []
  },
  {
   "cell_type": "code",
   "execution_count": null,
   "id": "16051dcf",
   "metadata": {},
   "outputs": [],
   "source": []
  },
  {
   "cell_type": "code",
   "execution_count": null,
   "id": "4a110c42",
   "metadata": {},
   "outputs": [],
   "source": []
  },
  {
   "cell_type": "code",
   "execution_count": null,
   "id": "150663c4",
   "metadata": {},
   "outputs": [],
   "source": []
  },
  {
   "cell_type": "code",
   "execution_count": null,
   "id": "c1e98b07",
   "metadata": {},
   "outputs": [],
   "source": []
  },
  {
   "cell_type": "code",
   "execution_count": null,
   "id": "0a0bec51",
   "metadata": {},
   "outputs": [],
   "source": []
  },
  {
   "cell_type": "code",
   "execution_count": null,
   "id": "f31c167b",
   "metadata": {},
   "outputs": [],
   "source": []
  },
  {
   "cell_type": "code",
   "execution_count": null,
   "id": "3bd41de1",
   "metadata": {},
   "outputs": [],
   "source": []
  },
  {
   "cell_type": "code",
   "execution_count": null,
   "id": "0d51fcdf",
   "metadata": {},
   "outputs": [],
   "source": []
  },
  {
   "cell_type": "code",
   "execution_count": null,
   "id": "1971ba6c",
   "metadata": {},
   "outputs": [],
   "source": []
  },
  {
   "cell_type": "code",
   "execution_count": null,
   "id": "0c737f22",
   "metadata": {},
   "outputs": [],
   "source": []
  },
  {
   "cell_type": "code",
   "execution_count": null,
   "id": "0dfe5efe",
   "metadata": {},
   "outputs": [],
   "source": []
  },
  {
   "cell_type": "code",
   "execution_count": null,
   "id": "11ccdba4",
   "metadata": {},
   "outputs": [],
   "source": []
  },
  {
   "cell_type": "code",
   "execution_count": null,
   "id": "ef2cb692",
   "metadata": {},
   "outputs": [],
   "source": []
  },
  {
   "cell_type": "code",
   "execution_count": null,
   "id": "6dc45d59",
   "metadata": {},
   "outputs": [],
   "source": []
  },
  {
   "cell_type": "code",
   "execution_count": null,
   "id": "1593dcde",
   "metadata": {},
   "outputs": [],
   "source": []
  },
  {
   "cell_type": "code",
   "execution_count": null,
   "id": "51bbf0e5",
   "metadata": {},
   "outputs": [],
   "source": []
  }
 ],
 "metadata": {
  "kernelspec": {
   "display_name": "Python 3 (ipykernel)",
   "language": "python",
   "name": "python3"
  },
  "language_info": {
   "codemirror_mode": {
    "name": "ipython",
    "version": 3
   },
   "file_extension": ".py",
   "mimetype": "text/x-python",
   "name": "python",
   "nbconvert_exporter": "python",
   "pygments_lexer": "ipython3",
   "version": "3.11.5"
  }
 },
 "nbformat": 4,
 "nbformat_minor": 5
}
