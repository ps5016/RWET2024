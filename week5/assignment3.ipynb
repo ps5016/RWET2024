{
 "cells": [
  {
   "cell_type": "markdown",
   "id": "862f8cac",
   "metadata": {},
   "source": [
    "Assignment #3\n",
    "\n",
    "Due at the beginning of session 06.\n",
    "\n",
    "The genre study: Choose a genre or form of writing. This can be anything from a literary genre to a meme format. Gather a small number of exemplars of the genre and make a list of the characteristics that are common to all of them. Write a program that produces texts that emulate a particular form or genre of language."
   ]
  },
  {
   "cell_type": "code",
   "execution_count": 5,
   "id": "6945059a",
   "metadata": {},
   "outputs": [],
   "source": [
    "import tracery\n",
    "from tracery.modifiers import base_english"
   ]
  },
  {
   "cell_type": "markdown",
   "id": "da99f34e",
   "metadata": {},
   "source": [
    "VERSION 1"
   ]
  },
  {
   "cell_type": "code",
   "execution_count": 230,
   "id": "9ef8616d",
   "metadata": {
    "scrolled": true
   },
   "outputs": [
    {
     "name": "stdout",
     "output_type": "stream",
     "text": [
      "by @jerry | 6 days ago\n",
      "- - - - - - - - - - - - - - - - - - - - - - - - - - - - -\n",
      ":)\n",
      "- - - - - - - - - - - - - - - - - - - - - - - - - - - - -\n",
      "365 likes | 7 comments\n",
      "Top comment -> @niceladyoverthere: Sounds Good.\n"
     ]
    }
   ],
   "source": [
    "rules = {\n",
    "    \"origin\": \"by @#username# | #time# ago\",\n",
    "    \"origin2\": \"#posts#\",\n",
    "    \"origin3\": \"#amount# likes | #amount# comments\",\n",
    "    \"origin4\": \"Top comment -> @#commentor#: #comment#\",   \n",
    "    #1\n",
    "        \"username\": [\"jerry\", \"goaway\", \"internetperson1\", \"chad\"],\n",
    "        \"time\": [\"4h\", \"45m\", \"2h32m\", \"6 days\"],\n",
    "    #2    \n",
    "        \"posts\": [\"Dear mom, I’m running away because you are making chicken for dinner AGAIN. Make something good and I will come home.\", \":)\", \"DO NOT EAT MY LUNCH! I HAVE 7 SHRIMP AND 4,639 RICE.\"],\n",
    "        \"amount\": [\"32\", \"12,345\", \"3,787\", \"645\", \"24\", \"365\", \"7\", \"56,400\"],\n",
    "    #3\n",
    "        \"commentor\": [\"chill\", \"niceladyoverthere\", \"anonymous\"],\n",
    "        \"comment\": [\"Slay.\", \"Sounds Good.\", \"wait what?\", \"🥺\"]\n",
    "}\n",
    "grammar = tracery.Grammar(rules)\n",
    "grammar.add_modifiers(base_english)\n",
    "print(grammar.flatten('#origin#'))\n",
    "print(\"- - - - - - - - - - - - - - - - - - - - - - - - - - - - -\")\n",
    "print(grammar.flatten('#origin2#'))\n",
    "print(\"- - - - - - - - - - - - - - - - - - - - - - - - - - - - -\")\n",
    "print(grammar.flatten('#origin3#'))\n",
    "print(grammar.flatten('#origin4#'))\n"
   ]
  },
  {
   "cell_type": "code",
   "execution_count": null,
   "id": "171ff901",
   "metadata": {},
   "outputs": [],
   "source": []
  },
  {
   "cell_type": "markdown",
   "id": "d7a52166",
   "metadata": {},
   "source": [
    "Ver2"
   ]
  },
  {
   "cell_type": "code",
   "execution_count": 371,
   "id": "7963c101",
   "metadata": {},
   "outputs": [],
   "source": [
    "import tracery\n",
    "from tracery.modifiers import base_english"
   ]
  },
  {
   "cell_type": "code",
   "execution_count": 392,
   "id": "106854b8",
   "metadata": {},
   "outputs": [],
   "source": [
    "usernames = [\n",
    "    \"jerry\", \n",
    "    \"go_away\",\n",
    "    \"datingapp.io\"\n",
    "    \"internetperson1\", \n",
    "    \"chad\",\n",
    "    \"chillman\", \n",
    "    \"niceladyoverthere\", \n",
    "    \"anonymous\",\n",
    "    \"emotionalsheep\",\n",
    "    \"amywineapartment\",\n",
    "    \"certifiedcorpse\",\n",
    "    \"mark.himself\",\n",
    "    \"sadandbroke\",\n",
    "    \"nana_chan\",\n",
    "    \"bestchefnyc\",\n",
    "    \"chatgpt\",\n",
    "    \"lonelyboy\",\n",
    "    \"serenavanderwoodsen\",\n",
    "    \"taylorswift\",\n",
    "    \"nyutissue\",\n",
    "    \"water.pdf\",\n",
    "    \"itsmehihello\",\n",
    "    \"yukikoyamamoto\",\n",
    "    \"therealbenaffleck\",\n",
    "    \"keanu\",\n",
    "    \"notacoolkid\",\n",
    "    \"yourfavboyband\",\n",
    "    \"internetsushi\",\n",
    "    \"meeshfinsta\",\n",
    "    \"friedfish88\",\n",
    "    \"instagram\",\n",
    "    \"oceanjelly222\",\n",
    "    \"parishilton\",\n",
    "    \"mom\",\n",
    "]"
   ]
  },
  {
   "cell_type": "code",
   "execution_count": 373,
   "id": "c87913c7",
   "metadata": {},
   "outputs": [],
   "source": [
    "times = [\n",
    "    \"4h\", \n",
    "    \"45m\", \n",
    "    \"2h32m\", \n",
    "    \"6 days\",\n",
    "    \"16m\",\n",
    "    \"7h52m\",\n",
    "    \"just a few seconds\",\n",
    "    \"an eternity\",\n",
    "    \"forever\",\n",
    "    \"9y\",\n",
    "    \"2y\",\n",
    "    \"5m\",\n",
    "    \"ages\",\n",
    "    \"2 coffee breaks\",\n",
    "    \"90s\",\n",
    "    \"2s\",\n",
    "    \"45s\",\n",
    "    \"2 days\",\n",
    "    \"1h38m\",\n",
    "    \"not too long\",\n",
    "    \"3hr\",\n",
    "    \"2h34m\",\n",
    "    \"66w\",\n",
    "    \"3w\",\n",
    "    \"8h\",\n",
    "    \"16h\",\n",
    "    \"23s\",\n",
    "    \"43m\",\n",
    "    \"7s\",\n",
    "    \"7w\"\n",
    "]"
   ]
  },
  {
   "cell_type": "code",
   "execution_count": 393,
   "id": "f4296f38",
   "metadata": {},
   "outputs": [],
   "source": [
    "posts = [\n",
    "    \"Dear mom, I’m running away because you are making chicken for dinner AGAIN. \\nMake something good and I will come home.\",\n",
    "    \":)\",\n",
    "    \"DO NOT EAT MY LUNCH! I HAVE 7 SHRIMP AND 4,639 RICE.\",\n",
    "    \"what is 2 + 2 again?\",\n",
    "    \"Everything i want to do is illegal lol\",\n",
    "    \"I am so grateful to be alive oh my the sky is so blue and the cloud so fluffy!\",\n",
    "    \"i do not think \\ntherefore i do not am\",\n",
    "    \"I need a croissant. Now.\",\n",
    "    \"I pay my bills on time.\",\n",
    "    \"I want everything to be \\njust right.\",\n",
    "    \"HE TEXTED BACK\",\n",
    "    'We keep saying \"it is what it is\" \\nBut what is it',\n",
    "    \"That's hot\"\n",
    "    \"Roses are red \\nI am going to bed\",\n",
    "    \"I <3 aging and dying!\",\n",
    "    \"it's giving fuck this \\nit's giving bitch bye\",\n",
    "    \"It's officially March \\nIm a pisces of shit💩\",\n",
    "    \"1+2=3\",\n",
    "    \"i woke up at 6 today, go me\",\n",
    "    \"what?\",\n",
    "    \"girl dinner!\"\n",
    "]"
   ]
  },
  {
   "cell_type": "code",
   "execution_count": 394,
   "id": "ab32f750",
   "metadata": {},
   "outputs": [],
   "source": [
    "amounts = [\n",
    "    \"32\", \n",
    "    \"12,345\", \n",
    "    \"3,787\", \n",
    "    \"645\",\n",
    "    \"24\", \n",
    "    \"365\", \n",
    "    \"7\", \n",
    "    \"56,400\",\n",
    "    \"777\",\n",
    "    \"89\",\n",
    "    \"640\",\n",
    "    \"420\",\n",
    "    \"2\",\n",
    "    \"784,808\",\n",
    "    \"64,203\",\n",
    "    \"934\"\n",
    "]"
   ]
  },
  {
   "cell_type": "code",
   "execution_count": 395,
   "id": "529c3b22",
   "metadata": {},
   "outputs": [],
   "source": [
    "comments = [\n",
    "    \"Slay.\", \n",
    "    \"Sounds Good.\", \n",
    "    \"wait what?\", \n",
    "    \"🥺\",\n",
    "    \"I love you\",\n",
    "    \"wtf\",\n",
    "    \"get off of the Internet, kid\",\n",
    "    \"click to win prize!\",\n",
    "    \"Can I pet your dog please\",\n",
    "    \"you look amazing\",\n",
    "    \"this is the funniest thing I've ever heard\",\n",
    "    \"legend\",\n",
    "    \"ohmigod\",\n",
    "    \"can you follow me back plz\",\n",
    "    \"lol you are the stupidiest person ever\",\n",
    "    \"MAke iT maKE SenSE\",\n",
    "    \"bye\",\n",
    "    \"ʕ•ᴥ•ʔ\",\n",
    "    \"我愛你\",\n",
    "    \"hello\",\n",
    "    \"text me\",\n",
    "    \"what else\",\n",
    "    \"take it off\",\n",
    "    \"💯\",\n",
    "    \"sent you a DM!\",\n",
    "    \"no\",\n",
    "    \"stop it! just stop!\"\n",
    "]"
   ]
  },
  {
   "cell_type": "code",
   "execution_count": 429,
   "id": "c7b961a4",
   "metadata": {
    "scrolled": true
   },
   "outputs": [
    {
     "name": "stdout",
     "output_type": "stream",
     "text": [
      "by @parishilton | not too long ago\n",
      "- - - - - - - - - - - - - - - - - - - - - - - - - - - - -\n",
      "Dear mom, I’m running away because you are making chicken for dinner AGAIN. \n",
      "Make something good and I will come home.\n",
      "- - - - - - - - - - - - - - - - - - - - - - - - - - - - -\n",
      "365 likes | 777 comments\n",
      "Top comment -> @instagram: legend\n",
      " \n",
      " \n",
      "by @keanu | not too long ago\n",
      "- - - - - - - - - - - - - - - - - - - - - - - - - - - - -\n",
      "I need a croissant. Now.\n",
      "- - - - - - - - - - - - - - - - - - - - - - - - - - - - -\n",
      "7 likes | 89 comments\n",
      "Top comment -> @yukikoyamamoto: ohmigod\n",
      " \n",
      " \n",
      "by @keanu | just a few seconds ago\n",
      "- - - - - - - - - - - - - - - - - - - - - - - - - - - - -\n",
      "We keep saying \"it is what it is\" \n",
      "But what is it\n",
      "- - - - - - - - - - - - - - - - - - - - - - - - - - - - -\n",
      "3,787 likes | 24 comments\n",
      "Top comment -> @keanu: wait what?\n",
      " \n",
      " \n",
      "by @bestchefnyc | not too long ago\n",
      "- - - - - - - - - - - - - - - - - - - - - - - - - - - - -\n",
      ":)\n",
      "- - - - - - - - - - - - - - - - - - - - - - - - - - - - -\n",
      "89 likes | 420 comments\n",
      "Top comment -> @sadandbroke: wtf\n",
      " \n",
      " \n",
      "by @oceanjelly222 | 6 days ago\n",
      "- - - - - - - - - - - - - - - - - - - - - - - - - - - - -\n",
      "I want everything to be \n",
      "just right.\n",
      "- - - - - - - - - - - - - - - - - - - - - - - - - - - - -\n",
      "2 likes | 365 comments\n",
      "Top comment -> @yukikoyamamoto: sent you a DM!\n",
      " \n",
      " \n",
      "by @certifiedcorpse | 2s ago\n",
      "- - - - - - - - - - - - - - - - - - - - - - - - - - - - -\n",
      "I want everything to be \n",
      "just right.\n",
      "- - - - - - - - - - - - - - - - - - - - - - - - - - - - -\n",
      "777 likes | 2 comments\n",
      "Top comment -> @datingapp.iointernetperson1: bye\n",
      " \n",
      " \n"
     ]
    }
   ],
   "source": [
    "rules = {\n",
    "    \"origin\": \"by @#username# | #time# ago\",\n",
    "    \"origin2\": \"#post#\",\n",
    "    \"origin3\": \"#amount# likes | #amount# comments\",\n",
    "    \"origin4\": \"Top comment -> @#commentor#: #comment#\",   \n",
    "    #1\n",
    "        \"username\": usernames,\n",
    "        \"time\": times,\n",
    "    #2    \n",
    "        \"post\": posts,\n",
    "        \"amount\": amounts,\n",
    "    #3\n",
    "        \"commentor\": usernames,\n",
    "        \"comment\": comments,\n",
    "}\n",
    "grammar = tracery.Grammar(rules)\n",
    "grammar.add_modifiers(base_english)\n",
    "\n",
    "for i in range(6):\n",
    "    print(grammar.flatten('#origin#'))\n",
    "    print(\"- - - - - - - - - - - - - - - - - - - - - - - - - - - - -\")\n",
    "    print(grammar.flatten('#origin2#'))\n",
    "    print(\"- - - - - - - - - - - - - - - - - - - - - - - - - - - - -\")\n",
    "    print(grammar.flatten('#origin3#'))\n",
    "    print(grammar.flatten('#origin4#'))\n",
    "    print(\" \" + \"\\n\" + \" \")"
   ]
  },
  {
   "cell_type": "code",
   "execution_count": null,
   "id": "3c5003a5",
   "metadata": {},
   "outputs": [],
   "source": []
  },
  {
   "cell_type": "code",
   "execution_count": null,
   "id": "51c81b64",
   "metadata": {},
   "outputs": [],
   "source": []
  },
  {
   "cell_type": "code",
   "execution_count": null,
   "id": "8d7e0ed8",
   "metadata": {},
   "outputs": [],
   "source": []
  },
  {
   "cell_type": "code",
   "execution_count": null,
   "id": "e079091b",
   "metadata": {},
   "outputs": [],
   "source": []
  },
  {
   "cell_type": "code",
   "execution_count": null,
   "id": "2e3a60e1",
   "metadata": {},
   "outputs": [],
   "source": []
  },
  {
   "cell_type": "code",
   "execution_count": null,
   "id": "6bc937b0",
   "metadata": {},
   "outputs": [],
   "source": []
  },
  {
   "cell_type": "code",
   "execution_count": null,
   "id": "69802599",
   "metadata": {},
   "outputs": [],
   "source": []
  },
  {
   "cell_type": "code",
   "execution_count": null,
   "id": "40d53f49",
   "metadata": {},
   "outputs": [],
   "source": []
  },
  {
   "cell_type": "code",
   "execution_count": null,
   "id": "ee5b21b4",
   "metadata": {},
   "outputs": [],
   "source": []
  },
  {
   "cell_type": "code",
   "execution_count": null,
   "id": "52afb9f6",
   "metadata": {},
   "outputs": [],
   "source": []
  },
  {
   "cell_type": "code",
   "execution_count": null,
   "id": "ce643d61",
   "metadata": {},
   "outputs": [],
   "source": []
  },
  {
   "cell_type": "code",
   "execution_count": null,
   "id": "08d2ea0f",
   "metadata": {},
   "outputs": [],
   "source": []
  },
  {
   "cell_type": "code",
   "execution_count": null,
   "id": "5d8ce4cd",
   "metadata": {},
   "outputs": [],
   "source": []
  },
  {
   "cell_type": "code",
   "execution_count": null,
   "id": "67e3ad77",
   "metadata": {},
   "outputs": [],
   "source": []
  },
  {
   "cell_type": "code",
   "execution_count": null,
   "id": "ea99cbf7",
   "metadata": {},
   "outputs": [],
   "source": []
  },
  {
   "cell_type": "code",
   "execution_count": null,
   "id": "f0dc7d8f",
   "metadata": {},
   "outputs": [],
   "source": []
  },
  {
   "cell_type": "code",
   "execution_count": null,
   "id": "9be893a6",
   "metadata": {},
   "outputs": [],
   "source": []
  },
  {
   "cell_type": "code",
   "execution_count": null,
   "id": "ed8f6c73",
   "metadata": {},
   "outputs": [],
   "source": []
  },
  {
   "cell_type": "code",
   "execution_count": null,
   "id": "2d11cf39",
   "metadata": {},
   "outputs": [],
   "source": []
  },
  {
   "cell_type": "code",
   "execution_count": null,
   "id": "6452f363",
   "metadata": {},
   "outputs": [],
   "source": []
  },
  {
   "cell_type": "code",
   "execution_count": null,
   "id": "73f1657f",
   "metadata": {},
   "outputs": [],
   "source": []
  },
  {
   "cell_type": "code",
   "execution_count": null,
   "id": "04689c37",
   "metadata": {},
   "outputs": [],
   "source": []
  },
  {
   "cell_type": "code",
   "execution_count": null,
   "id": "778b84e0",
   "metadata": {},
   "outputs": [],
   "source": []
  },
  {
   "cell_type": "code",
   "execution_count": null,
   "id": "4bbbf9e5",
   "metadata": {},
   "outputs": [],
   "source": []
  },
  {
   "cell_type": "code",
   "execution_count": null,
   "id": "65eb2cf8",
   "metadata": {},
   "outputs": [],
   "source": []
  },
  {
   "cell_type": "code",
   "execution_count": null,
   "id": "152941bd",
   "metadata": {},
   "outputs": [],
   "source": []
  },
  {
   "cell_type": "code",
   "execution_count": null,
   "id": "6199fda6",
   "metadata": {},
   "outputs": [],
   "source": []
  },
  {
   "cell_type": "code",
   "execution_count": null,
   "id": "a9d28a23",
   "metadata": {},
   "outputs": [],
   "source": []
  },
  {
   "cell_type": "code",
   "execution_count": null,
   "id": "6bf39cd5",
   "metadata": {},
   "outputs": [],
   "source": []
  },
  {
   "cell_type": "code",
   "execution_count": null,
   "id": "769bdda0",
   "metadata": {},
   "outputs": [],
   "source": []
  },
  {
   "cell_type": "code",
   "execution_count": null,
   "id": "c9c1152b",
   "metadata": {},
   "outputs": [],
   "source": []
  },
  {
   "cell_type": "code",
   "execution_count": null,
   "id": "54463774",
   "metadata": {},
   "outputs": [],
   "source": []
  },
  {
   "cell_type": "code",
   "execution_count": null,
   "id": "5c899888",
   "metadata": {},
   "outputs": [],
   "source": []
  },
  {
   "cell_type": "code",
   "execution_count": null,
   "id": "76e56795",
   "metadata": {},
   "outputs": [],
   "source": []
  },
  {
   "cell_type": "code",
   "execution_count": null,
   "id": "1fb65800",
   "metadata": {},
   "outputs": [],
   "source": []
  },
  {
   "cell_type": "code",
   "execution_count": null,
   "id": "b91e8dbf",
   "metadata": {},
   "outputs": [],
   "source": []
  },
  {
   "cell_type": "code",
   "execution_count": null,
   "id": "66830f1c",
   "metadata": {},
   "outputs": [],
   "source": []
  },
  {
   "cell_type": "code",
   "execution_count": null,
   "id": "534bc785",
   "metadata": {},
   "outputs": [],
   "source": []
  },
  {
   "cell_type": "code",
   "execution_count": null,
   "id": "7caa0cd3",
   "metadata": {},
   "outputs": [],
   "source": []
  },
  {
   "cell_type": "code",
   "execution_count": null,
   "id": "bfbc9e4b",
   "metadata": {},
   "outputs": [],
   "source": []
  },
  {
   "cell_type": "code",
   "execution_count": null,
   "id": "7e26e238",
   "metadata": {},
   "outputs": [],
   "source": []
  },
  {
   "cell_type": "code",
   "execution_count": null,
   "id": "1805a027",
   "metadata": {},
   "outputs": [],
   "source": []
  },
  {
   "cell_type": "code",
   "execution_count": null,
   "id": "02a61231",
   "metadata": {},
   "outputs": [],
   "source": []
  },
  {
   "cell_type": "code",
   "execution_count": null,
   "id": "976be48d",
   "metadata": {},
   "outputs": [],
   "source": []
  },
  {
   "cell_type": "code",
   "execution_count": null,
   "id": "556e8bb3",
   "metadata": {},
   "outputs": [],
   "source": []
  },
  {
   "cell_type": "code",
   "execution_count": null,
   "id": "70cf19f5",
   "metadata": {},
   "outputs": [],
   "source": []
  },
  {
   "cell_type": "code",
   "execution_count": null,
   "id": "b1b769b9",
   "metadata": {},
   "outputs": [],
   "source": []
  },
  {
   "cell_type": "code",
   "execution_count": null,
   "id": "39f0d4ce",
   "metadata": {},
   "outputs": [],
   "source": []
  },
  {
   "cell_type": "code",
   "execution_count": null,
   "id": "2791ccb0",
   "metadata": {},
   "outputs": [],
   "source": []
  },
  {
   "cell_type": "code",
   "execution_count": null,
   "id": "cc918ddb",
   "metadata": {},
   "outputs": [],
   "source": []
  },
  {
   "cell_type": "code",
   "execution_count": null,
   "id": "8331c29f",
   "metadata": {},
   "outputs": [],
   "source": []
  },
  {
   "cell_type": "code",
   "execution_count": null,
   "id": "64f77450",
   "metadata": {},
   "outputs": [],
   "source": []
  },
  {
   "cell_type": "code",
   "execution_count": null,
   "id": "1553c9b4",
   "metadata": {},
   "outputs": [],
   "source": []
  },
  {
   "cell_type": "code",
   "execution_count": null,
   "id": "0460c837",
   "metadata": {},
   "outputs": [],
   "source": []
  },
  {
   "cell_type": "code",
   "execution_count": null,
   "id": "a4fcefb5",
   "metadata": {},
   "outputs": [],
   "source": []
  },
  {
   "cell_type": "code",
   "execution_count": null,
   "id": "bd08ee42",
   "metadata": {},
   "outputs": [],
   "source": []
  },
  {
   "cell_type": "code",
   "execution_count": null,
   "id": "69c7c650",
   "metadata": {},
   "outputs": [],
   "source": []
  },
  {
   "cell_type": "code",
   "execution_count": null,
   "id": "98dd6ea6",
   "metadata": {},
   "outputs": [],
   "source": []
  },
  {
   "cell_type": "code",
   "execution_count": null,
   "id": "c9572408",
   "metadata": {},
   "outputs": [],
   "source": []
  }
 ],
 "metadata": {
  "kernelspec": {
   "display_name": "Python 3 (ipykernel)",
   "language": "python",
   "name": "python3"
  },
  "language_info": {
   "codemirror_mode": {
    "name": "ipython",
    "version": 3
   },
   "file_extension": ".py",
   "mimetype": "text/x-python",
   "name": "python",
   "nbconvert_exporter": "python",
   "pygments_lexer": "ipython3",
   "version": "3.11.5"
  }
 },
 "nbformat": 4,
 "nbformat_minor": 5
}
