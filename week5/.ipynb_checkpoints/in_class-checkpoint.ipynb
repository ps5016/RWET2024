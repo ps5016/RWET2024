{
 "cells": [
  {
   "cell_type": "markdown",
   "id": "a962623b",
   "metadata": {},
   "source": [
    "# dictionaries!\n",
    "\n",
    "acrostic - one word acrostic\n",
    "\n",
    "seed phrase: allison\n",
    "    source text\n",
    "    \n",
    "    Abacus\n",
    "    Leprechaun\n",
    "    Lollipop\n",
    "    Intellegence\n",
    "    Sauna\n",
    "    Opera\n",
    "    Nighttime\n",
    "    \n",
    "# how to solve the right way"
   ]
  },
  {
   "cell_type": "code",
   "execution_count": 1,
   "id": "584459fa",
   "metadata": {},
   "outputs": [],
   "source": [
    "planet_dist = {\"Mercury\": 0.387, \"Venus\": 0.723, \"Earth\":1, \"Mars\":1.523}"
   ]
  },
  {
   "cell_type": "code",
   "execution_count": 5,
   "id": "07de1def",
   "metadata": {},
   "outputs": [
    {
     "data": {
      "text/plain": [
       "dict"
      ]
     },
     "execution_count": 5,
     "metadata": {},
     "output_type": "execute_result"
    }
   ],
   "source": [
    "type(planet_dist)"
   ]
  },
  {
   "cell_type": "code",
   "execution_count": 6,
   "id": "d3479565",
   "metadata": {},
   "outputs": [
    {
     "data": {
      "text/plain": [
       "1.523"
      ]
     },
     "execution_count": 6,
     "metadata": {},
     "output_type": "execute_result"
    }
   ],
   "source": [
    "planet_dist[\"Mars\"]"
   ]
  },
  {
   "cell_type": "code",
   "execution_count": 8,
   "id": "948f1ec6",
   "metadata": {},
   "outputs": [
    {
     "data": {
      "text/plain": [
       "0.387"
      ]
     },
     "execution_count": 8,
     "metadata": {},
     "output_type": "execute_result"
    }
   ],
   "source": [
    "planet_dist[\"Mercury\"]"
   ]
  },
  {
   "cell_type": "code",
   "execution_count": 9,
   "id": "7c82ba81",
   "metadata": {},
   "outputs": [
    {
     "data": {
      "text/plain": [
       "{'Mercury': 0.387, 'Venus': 0.723, 'Earth': 1, 'Mars': 1.523}"
      ]
     },
     "execution_count": 9,
     "metadata": {},
     "output_type": "execute_result"
    }
   ],
   "source": [
    "planet_dist"
   ]
  },
  {
   "cell_type": "code",
   "execution_count": 12,
   "id": "ccfdfc1a",
   "metadata": {},
   "outputs": [
    {
     "data": {
      "text/plain": [
       "False"
      ]
     },
     "execution_count": 12,
     "metadata": {},
     "output_type": "execute_result"
    }
   ],
   "source": [
    "\"Planet X\" in planet_dist"
   ]
  },
  {
   "cell_type": "code",
   "execution_count": 14,
   "id": "af7ad9dd",
   "metadata": {},
   "outputs": [
    {
     "data": {
      "text/plain": [
       "False"
      ]
     },
     "execution_count": 14,
     "metadata": {},
     "output_type": "execute_result"
    }
   ],
   "source": [
    "1 in planet_dist #keys, not values"
   ]
  },
  {
   "cell_type": "code",
   "execution_count": 15,
   "id": "6967005e",
   "metadata": {},
   "outputs": [
    {
     "data": {
      "text/plain": [
       "False"
      ]
     },
     "execution_count": 15,
     "metadata": {},
     "output_type": "execute_result"
    }
   ],
   "source": [
    "\"Jupiter\" in planet_dist"
   ]
  },
  {
   "cell_type": "code",
   "execution_count": 16,
   "id": "339b92d1",
   "metadata": {},
   "outputs": [
    {
     "ename": "SyntaxError",
     "evalue": "invalid syntax. Perhaps you forgot a comma? (2881830478.py, line 1)",
     "output_type": "error",
     "traceback": [
      "\u001b[0;36m  Cell \u001b[0;32mIn[16], line 1\u001b[0;36m\u001b[0m\n\u001b[0;31m    planet_dist[Planet X]\u001b[0m\n\u001b[0m                ^\u001b[0m\n\u001b[0;31mSyntaxError\u001b[0m\u001b[0;31m:\u001b[0m invalid syntax. Perhaps you forgot a comma?\n"
     ]
    }
   ],
   "source": [
    "planet_dist[Planet X]"
   ]
  },
  {
   "cell_type": "code",
   "execution_count": 19,
   "id": "fa282504",
   "metadata": {},
   "outputs": [
    {
     "name": "stdout",
     "output_type": "stream",
     "text": [
      "1\n"
     ]
    }
   ],
   "source": [
    "x = \"Earth\"\n",
    "if x in planet_dist:\n",
    "    print (planet_dist[x])"
   ]
  },
  {
   "cell_type": "code",
   "execution_count": 22,
   "id": "06ccd4e5",
   "metadata": {},
   "outputs": [],
   "source": [
    "number_words = {0: 'zero', 1: 'one', 2:'two', 3: 'three', 4: 'four', 10: 'ten'}"
   ]
  },
  {
   "cell_type": "code",
   "execution_count": 24,
   "id": "467317f2",
   "metadata": {},
   "outputs": [
    {
     "data": {
      "text/plain": [
       "'zero'"
      ]
     },
     "execution_count": 24,
     "metadata": {},
     "output_type": "execute_result"
    }
   ],
   "source": [
    "number_words[0]"
   ]
  },
  {
   "cell_type": "code",
   "execution_count": 25,
   "id": "aea83c24",
   "metadata": {},
   "outputs": [
    {
     "data": {
      "text/plain": [
       "'ten'"
      ]
     },
     "execution_count": 25,
     "metadata": {},
     "output_type": "execute_result"
    }
   ],
   "source": [
    "number_words[10]"
   ]
  },
  {
   "cell_type": "code",
   "execution_count": 26,
   "id": "de5ac253",
   "metadata": {},
   "outputs": [
    {
     "ename": "KeyError",
     "evalue": "9",
     "output_type": "error",
     "traceback": [
      "\u001b[0;31m---------------------------------------------------------------------------\u001b[0m",
      "\u001b[0;31mKeyError\u001b[0m                                  Traceback (most recent call last)",
      "Cell \u001b[0;32mIn[26], line 1\u001b[0m\n\u001b[0;32m----> 1\u001b[0m number_words[\u001b[38;5;241m9\u001b[39m]\n",
      "\u001b[0;31mKeyError\u001b[0m: 9"
     ]
    }
   ],
   "source": [
    "number_words[9]"
   ]
  },
  {
   "cell_type": "code",
   "execution_count": 28,
   "id": "c2cbc5b5",
   "metadata": {},
   "outputs": [
    {
     "data": {
      "text/plain": [
       "'asfk'"
      ]
     },
     "execution_count": 28,
     "metadata": {},
     "output_type": "execute_result"
    }
   ],
   "source": [
    "check = True\n",
    "{True: 'asfk', False: 'jwei'} [check]"
   ]
  },
  {
   "cell_type": "markdown",
   "id": "353dee0a",
   "metadata": {},
   "source": [
    "# values in dictionaries can be any type"
   ]
  },
  {
   "cell_type": "code",
   "execution_count": 31,
   "id": "6483588e",
   "metadata": {},
   "outputs": [],
   "source": [
    "planet_moons = {\n",
    "    \"Mercury\": [],\n",
    "    \"Venus\": [],\n",
    "    \"Earth\": [\"Moon\"],\n",
    "    \"Mars\": [\"Phobos\", \"Deimos\"],\n",
    "    \"Jupiter\": [\"Io\", \"Europe\", \"Ganymede\", \"Callisto\"]\n",
    "}"
   ]
  },
  {
   "cell_type": "code",
   "execution_count": 32,
   "id": "e052669a",
   "metadata": {},
   "outputs": [
    {
     "data": {
      "text/plain": [
       "list"
      ]
     },
     "execution_count": 32,
     "metadata": {},
     "output_type": "execute_result"
    }
   ],
   "source": [
    "type(planet_moons[\"Mercury\"])"
   ]
  },
  {
   "cell_type": "code",
   "execution_count": 35,
   "id": "dcfaa4fa",
   "metadata": {},
   "outputs": [
    {
     "data": {
      "text/plain": [
       "['Phobos', 'Deimos']"
      ]
     },
     "execution_count": 35,
     "metadata": {},
     "output_type": "execute_result"
    }
   ],
   "source": [
    "planet_moons[\"Mars\"]"
   ]
  },
  {
   "cell_type": "code",
   "execution_count": 37,
   "id": "788d5d64",
   "metadata": {},
   "outputs": [
    {
     "data": {
      "text/plain": [
       "'Ganymede'"
      ]
     },
     "execution_count": 37,
     "metadata": {},
     "output_type": "execute_result"
    }
   ],
   "source": [
    "planet_moons[\"Jupiter\"][2]"
   ]
  },
  {
   "cell_type": "code",
   "execution_count": 38,
   "id": "85be92c1",
   "metadata": {},
   "outputs": [],
   "source": [
    "planet_moons[\"Saturn\"] = [\"Titan\", \"Enceledus\"] #add to the dictionary"
   ]
  },
  {
   "cell_type": "code",
   "execution_count": 39,
   "id": "3cfadb1f",
   "metadata": {},
   "outputs": [
    {
     "data": {
      "text/plain": [
       "{'Mercury': [],\n",
       " 'Venus': [],\n",
       " 'Earth': ['Moon'],\n",
       " 'Mars': ['Phobos', 'Deimos'],\n",
       " 'Jupiter': ['Io', 'Europe', 'Ganymede', 'Callisto'],\n",
       " 'Saturn': ['Titan', 'Enceledus']}"
      ]
     },
     "execution_count": 39,
     "metadata": {},
     "output_type": "execute_result"
    }
   ],
   "source": [
    "planet_moons"
   ]
  },
  {
   "cell_type": "code",
   "execution_count": 52,
   "id": "48847f73",
   "metadata": {},
   "outputs": [],
   "source": [
    "x = [1, 1, 2, 3, 5]"
   ]
  },
  {
   "cell_type": "code",
   "execution_count": 53,
   "id": "7ac6c899",
   "metadata": {},
   "outputs": [],
   "source": [
    "x.append(8) # =push() in js"
   ]
  },
  {
   "cell_type": "code",
   "execution_count": 54,
   "id": "07a35ed3",
   "metadata": {},
   "outputs": [
    {
     "data": {
      "text/plain": [
       "[1, 1, 2, 3, 5, 8]"
      ]
     },
     "execution_count": 54,
     "metadata": {},
     "output_type": "execute_result"
    }
   ],
   "source": [
    "x"
   ]
  },
  {
   "cell_type": "code",
   "execution_count": 50,
   "id": "b104b8aa",
   "metadata": {},
   "outputs": [],
   "source": [
    "planet_moons[\"Earth\"].append(\"Allison\")"
   ]
  },
  {
   "cell_type": "code",
   "execution_count": 51,
   "id": "c526bda2",
   "metadata": {},
   "outputs": [
    {
     "data": {
      "text/plain": [
       "{'Mercury': [],\n",
       " 'Venus': [],\n",
       " 'Earth': ['Moon', 'Allison'],\n",
       " 'Mars': ['Phobos', 'Deimos'],\n",
       " 'Jupiter': ['Io', 'Europe', 'Ganymede', 'Callisto'],\n",
       " 'Saturn': ['Titan', 'Enceledus']}"
      ]
     },
     "execution_count": 51,
     "metadata": {},
     "output_type": "execute_result"
    }
   ],
   "source": [
    "planet_moons"
   ]
  },
  {
   "cell_type": "markdown",
   "id": "90f93c0c",
   "metadata": {},
   "source": [
    "source text -> dictionary: keys are letters, values list of words that start with that letter -> generate acrostic\n",
    "    \n",
    "    {\n",
    "        'a': [\"alligator\", \"apple\", \"angst\"]\n",
    "        'b': [\"ball\"]\n",
    "        …\n",
    "    }"
   ]
  },
  {
   "cell_type": "code",
   "execution_count": 65,
   "id": "b01f3fde",
   "metadata": {},
   "outputs": [],
   "source": [
    "text = open(\"frost.txt\").read()"
   ]
  },
  {
   "cell_type": "code",
   "execution_count": 66,
   "id": "f0f6d27b",
   "metadata": {},
   "outputs": [],
   "source": [
    "words = text.split()"
   ]
  },
  {
   "cell_type": "code",
   "execution_count": 74,
   "id": "f70d230f",
   "metadata": {},
   "outputs": [
    {
     "name": "stdout",
     "output_type": "stream",
     "text": [
      "T\n",
      "r\n",
      "d\n",
      "i\n",
      "a\n",
      "y\n",
      "w\n",
      "A\n",
      "s\n",
      "I\n",
      "c\n",
      "n\n",
      "t\n",
      "b\n",
      "A\n",
      "b\n",
      "o\n",
      "t\n",
      "l\n",
      "I\n",
      "s\n",
      "A\n",
      "l\n",
      "d\n",
      "o\n",
      "a\n",
      "f\n",
      "a\n",
      "I\n",
      "c\n",
      "T\n",
      "w\n",
      "i\n",
      "b\n",
      "i\n",
      "t\n",
      "u\n",
      "T\n",
      "t\n",
      "t\n",
      "o\n",
      "a\n",
      "j\n",
      "a\n",
      "f\n",
      "A\n",
      "h\n",
      "p\n",
      "t\n",
      "b\n",
      "c\n",
      "B\n",
      "i\n",
      "w\n",
      "g\n",
      "a\n",
      "w\n",
      "w\n",
      "T\n",
      "a\n",
      "f\n",
      "t\n",
      "t\n",
      "p\n",
      "t\n",
      "H\n",
      "w\n",
      "t\n",
      "r\n",
      "a\n",
      "t\n",
      "s\n",
      "A\n",
      "b\n",
      "t\n",
      "m\n",
      "e\n",
      "l\n",
      "I\n",
      "l\n",
      "n\n",
      "s\n",
      "h\n",
      "t\n",
      "b\n",
      "O\n",
      "I\n",
      "k\n",
      "t\n",
      "f\n",
      "f\n",
      "a\n",
      "d\n",
      "Y\n",
      "k\n",
      "h\n",
      "w\n",
      "l\n",
      "o\n",
      "t\n",
      "w\n",
      "I\n",
      "d\n",
      "i\n",
      "I\n",
      "s\n",
      "e\n",
      "c\n",
      "b\n",
      "I\n",
      "s\n",
      "b\n",
      "t\n",
      "t\n",
      "w\n",
      "a\n",
      "s\n",
      "S\n",
      "a\n",
      "a\n",
      "a\n",
      "h\n",
      "T\n",
      "r\n",
      "d\n",
      "i\n",
      "a\n",
      "w\n",
      "a\n",
      "I\n",
      "I\n",
      "t\n",
      "t\n",
      "o\n",
      "l\n",
      "t\n",
      "b\n",
      "A\n",
      "t\n",
      "h\n",
      "m\n",
      "a\n",
      "t\n",
      "d\n",
      "30\n"
     ]
    }
   ],
   "source": [
    "initials = {}\n",
    "for item in words:\n",
    "    print(item[0])\n",
    "    if item[0] in initials:\n",
    "        initials[item[0]].append(item)\n",
    "    else:\n",
    "            initials[item[0]] = [item]\n",
    "print(len(initials))"
   ]
  },
  {
   "cell_type": "code",
   "execution_count": 75,
   "id": "8ce41a8f",
   "metadata": {},
   "outputs": [
    {
     "data": {
      "text/plain": [
       "{'T': ['Two', 'To', 'Then', 'Though', 'Two'],\n",
       " 'r': ['roads', 'really', 'roads'],\n",
       " 'd': ['diverged', 'down', 'day!', 'doubted', 'diverged', 'difference.'],\n",
       " 'i': ['in', 'it', 'in', 'it', 'if', 'in'],\n",
       " 'a': ['a',\n",
       "  'as',\n",
       "  'as',\n",
       "  'as',\n",
       "  'as',\n",
       "  'and',\n",
       "  'as',\n",
       "  'about',\n",
       "  'another',\n",
       "  'a',\n",
       "  'ages',\n",
       "  'and',\n",
       "  'ages',\n",
       "  'a',\n",
       "  'and',\n",
       "  'all'],\n",
       " 'y': ['yellow'],\n",
       " 'w': ['wood,',\n",
       "  'where',\n",
       "  'was',\n",
       "  'wanted',\n",
       "  'wear;',\n",
       "  'worn',\n",
       "  'way',\n",
       "  'way,',\n",
       "  'with',\n",
       "  'wood,'],\n",
       " 'A': ['And', 'And', 'And', 'And', 'And', 'And'],\n",
       " 's': ['sorry', 'stood', 'same,', 'step', 'should', 'shall', 'sigh'],\n",
       " 'I': ['I', 'I', 'I', 'In', 'I', 'I', 'I', 'I', 'I—', 'I'],\n",
       " 'c': ['could', 'could', 'claim,', 'come'],\n",
       " 'n': ['not', 'no'],\n",
       " 't': ['travel',\n",
       "  'traveler,',\n",
       "  'the',\n",
       "  'took',\n",
       "  'the',\n",
       "  'the',\n",
       "  'that',\n",
       "  'the',\n",
       "  'there',\n",
       "  'them',\n",
       "  'the',\n",
       "  'that',\n",
       "  'trodden',\n",
       "  'the',\n",
       "  'to',\n",
       "  'telling',\n",
       "  'this',\n",
       "  'took',\n",
       "  'the',\n",
       "  'travelled',\n",
       "  'that',\n",
       "  'the'],\n",
       " 'b': ['both', 'be', 'bent', 'better', 'both', 'black.', 'back.', 'be', 'by,'],\n",
       " 'o': ['one', 'one', 'other,', 'on', 'one'],\n",
       " 'l': ['long', 'looked', 'lay', 'leaves', 'leads', 'less'],\n",
       " 'f': ['far', 'fair,', 'for', 'first', 'for'],\n",
       " 'u': ['undergrowth;'],\n",
       " 'j': ['just'],\n",
       " 'h': ['having', 'had', 'how', 'hence:', 'has'],\n",
       " 'p': ['perhaps', 'passing'],\n",
       " 'B': ['Because'],\n",
       " 'g': ['grassy'],\n",
       " 'H': ['Had'],\n",
       " 'm': ['morning', 'made'],\n",
       " 'e': ['equally', 'ever'],\n",
       " 'O': ['Oh,'],\n",
       " 'k': ['kept', 'knowing'],\n",
       " 'Y': ['Yet'],\n",
       " 'S': ['Somewhere']}"
      ]
     },
     "execution_count": 75,
     "metadata": {},
     "output_type": "execute_result"
    }
   ],
   "source": [
    "initials"
   ]
  },
  {
   "cell_type": "code",
   "execution_count": 86,
   "id": "406251d1",
   "metadata": {},
   "outputs": [
    {
     "name": "stdout",
     "output_type": "stream",
     "text": [
      "roads\n",
      "one\n",
      "bent\n",
      "equally\n",
      "roads\n",
      "to\n",
      "first\n",
      "roads\n",
      "other,\n",
      "same,\n",
      "the\n"
     ]
    }
   ],
   "source": [
    "import random\n",
    "seed = 'robertfrost'\n",
    "for item in seed:\n",
    "    print(random.choice(initials[item]))"
   ]
  },
  {
   "cell_type": "code",
   "execution_count": 87,
   "id": "1a6dea0a",
   "metadata": {},
   "outputs": [
    {
     "name": "stdout",
     "output_type": "stream",
     "text": [
      "passing\n",
      "it\n",
      "ACROSTIC ERROR: DANGER!!\n",
      "ACROSTIC ERROR: DANGER!!\n",
      "all\n"
     ]
    }
   ],
   "source": [
    "import random\n",
    "seed = 'pizza'\n",
    "for item in seed:\n",
    "    if item not in initials:\n",
    "        print(\"ACROSTIC ERROR: DANGER!!\")\n",
    "    else:\n",
    "        print(random.choice(initials[item]))"
   ]
  },
  {
   "cell_type": "markdown",
   "id": "6eb992af",
   "metadata": {},
   "source": [
    "# tracery!\n",
    "\n",
    "cool text generation library by Kate Compton"
   ]
  },
  {
   "cell_type": "code",
   "execution_count": 89,
   "id": "f198e2b9",
   "metadata": {},
   "outputs": [
    {
     "name": "stdout",
     "output_type": "stream",
     "text": [
      "Collecting tracery\n",
      "  Downloading tracery-0.1.1.tar.gz (8.1 kB)\n",
      "  Preparing metadata (setup.py) ... \u001b[?25ldone\n",
      "\u001b[?25hBuilding wheels for collected packages: tracery\n",
      "  Building wheel for tracery (setup.py) ... \u001b[?25ldone\n",
      "\u001b[?25h  Created wheel for tracery: filename=tracery-0.1.1-py3-none-any.whl size=7680 sha256=5fd809373768cacec8b14cb66a03b6ce72dd8f24f359a213f05b06b448f707e9\n",
      "  Stored in directory: /Users/pien/Library/Caches/pip/wheels/01/7e/b2/55c94c8ee93425fdc7a582c824ae57abd8e0b0d55a55c4ee9b\n",
      "Successfully built tracery\n",
      "Installing collected packages: tracery\n",
      "Successfully installed tracery-0.1.1\n"
     ]
    }
   ],
   "source": [
    "import sys\n",
    "!{sys.executable} -m pip install tracery"
   ]
  },
  {
   "cell_type": "code",
   "execution_count": 90,
   "id": "0ba6d92b",
   "metadata": {},
   "outputs": [],
   "source": [
    "import tracery"
   ]
  },
  {
   "cell_type": "code",
   "execution_count": 135,
   "id": "a1d636aa",
   "metadata": {
    "scrolled": true
   },
   "outputs": [
    {
     "data": {
      "text/plain": [
       "'Zoinks, galaxy!?'"
      ]
     },
     "execution_count": 135,
     "metadata": {},
     "output_type": "execute_result"
    }
   ],
   "source": [
    "rules = {\n",
    "    \"origin\": \"#greeting#, #noun##punct#\",\n",
    "    \"noun\": [\"galaxy\", \"world\", \"solar system\", \"universe\"],\n",
    "    \"greeting\": [\"Howdy\", \"Hello\", \"Yo\", \"Zoinks\"],\n",
    "    \"punct\": [\"?\", \"!\", \"…\", \"!?\"]\n",
    "}\n",
    "grammar = tracery.Grammar(rules)\n",
    "grammar.flatten('#origin#')"
   ]
  },
  {
   "cell_type": "code",
   "execution_count": 146,
   "id": "d4657342",
   "metadata": {},
   "outputs": [],
   "source": [
    "from tracery.modifiers import base_english"
   ]
  },
  {
   "cell_type": "code",
   "execution_count": 153,
   "id": "53ea6f54",
   "metadata": {},
   "outputs": [
    {
     "name": "stdout",
     "output_type": "stream",
     "text": [
      "Dammit Alice, I'm an accountant not a couple of accountants, eureka!\n",
      "Dammit Alice, I'm a doctor not a couple of cheesemongers, oh no!\n",
      "Dammit Jo, I'm a zoo keeper not a couple of accountants, oh no!\n",
      "Dammit Jo, I'm a doctor not a couple of doctors, hey!\n",
      "Dammit Jim, I'm a zoo keeper not a couple of cheesemongers, eureka!\n",
      "Dammit Alice, I'm a doctor not a couple of cheesemongers, eureka!\n"
     ]
    }
   ],
   "source": [
    "rules = {\n",
    "    \"origin\": \"Dammit #name#, I'm #profession.a# not a couple of #profession.s#, #interj#!\",\n",
    "    \"interj\": [\"dammit\", \"eureka\", \"oh no\", \"hey\"],\n",
    "    \"name\": [\"Jim\", \"Timothy\", \"Alice\", \"Jo\"],\n",
    "    \"profession\": [\"accountant\", \"doctor\", \"zoo keeper\", \"cheesemonger\"]\n",
    "}\n",
    "grammar = tracery.Grammar(rules)\n",
    "grammar.add_modifiers(base_english)\n",
    "for i in range(6):\n",
    "    print(grammar.flatten('#origin#'))"
   ]
  },
  {
   "cell_type": "code",
   "execution_count": null,
   "id": "e03760c8",
   "metadata": {},
   "outputs": [],
   "source": []
  }
 ],
 "metadata": {
  "kernelspec": {
   "display_name": "Python 3 (ipykernel)",
   "language": "python",
   "name": "python3"
  },
  "language_info": {
   "codemirror_mode": {
    "name": "ipython",
    "version": 3
   },
   "file_extension": ".py",
   "mimetype": "text/x-python",
   "name": "python",
   "nbconvert_exporter": "python",
   "pygments_lexer": "ipython3",
   "version": "3.11.5"
  }
 },
 "nbformat": 4,
 "nbformat_minor": 5
}
