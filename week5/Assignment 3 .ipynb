{
 "cells": [
  {
   "cell_type": "markdown",
   "id": "aa8f4881",
   "metadata": {},
   "source": [
    "Assignment #3\n",
    "\n",
    "Due at the beginning of session 06.\n",
    "\n",
    "The genre study: Choose a genre or form of writing. This can be anything from a literary genre to a meme format. Gather a small number of exemplars of the genre and make a list of the characteristics that are common to all of them. Write a program that produces texts that emulate a particular form or genre of language."
   ]
  },
  {
   "cell_type": "code",
   "execution_count": 5,
   "id": "ebd7aa13",
   "metadata": {},
   "outputs": [],
   "source": [
    "import tracery\n",
    "from tracery.modifiers import base_english"
   ]
  },
  {
   "cell_type": "markdown",
   "id": "aaf6a2cf",
   "metadata": {},
   "source": [
    "VERSION 1"
   ]
  },
  {
   "cell_type": "code",
   "execution_count": 230,
   "id": "bd4bc8a8",
   "metadata": {
    "scrolled": true
   },
   "outputs": [
    {
     "name": "stdout",
     "output_type": "stream",
     "text": [
      "by @jerry | 6 days ago\n",
      "- - - - - - - - - - - - - - - - - - - - - - - - - - - - -\n",
      ":)\n",
      "- - - - - - - - - - - - - - - - - - - - - - - - - - - - -\n",
      "365 likes | 7 comments\n",
      "Top comment -> @niceladyoverthere: Sounds Good.\n"
     ]
    }
   ],
   "source": [
    "rules = {\n",
    "    \"origin\": \"by @#username# | #time# ago\",\n",
    "    \"origin2\": \"#posts#\",\n",
    "    \"origin3\": \"#amount# likes | #amount# comments\",\n",
    "    \"origin4\": \"Top comment -> @#commentor#: #comment#\",   \n",
    "    #1\n",
    "        \"username\": [\"jerry\", \"goaway\", \"internetperson1\", \"chad\"],\n",
    "        \"time\": [\"4h\", \"45m\", \"2h32m\", \"6 days\"],\n",
    "    #2    \n",
    "        \"posts\": [\"Dear mom, I’m running away because you are making chicken for dinner AGAIN. Make something good and I will come home.\", \":)\", \"DO NOT EAT MY LUNCH! I HAVE 7 SHRIMP AND 4,639 RICE.\"],\n",
    "        \"amount\": [\"32\", \"12,345\", \"3,787\", \"645\", \"24\", \"365\", \"7\", \"56,400\"],\n",
    "    #3\n",
    "        \"commentor\": [\"chill\", \"niceladyoverthere\", \"anonymous\"],\n",
    "        \"comment\": [\"Slay.\", \"Sounds Good.\", \"wait what?\", \"🥺\"]\n",
    "}\n",
    "grammar = tracery.Grammar(rules)\n",
    "grammar.add_modifiers(base_english)\n",
    "print(grammar.flatten('#origin#'))\n",
    "print(\"- - - - - - - - - - - - - - - - - - - - - - - - - - - - -\")\n",
    "print(grammar.flatten('#origin2#'))\n",
    "print(\"- - - - - - - - - - - - - - - - - - - - - - - - - - - - -\")\n",
    "print(grammar.flatten('#origin3#'))\n",
    "print(grammar.flatten('#origin4#'))\n"
   ]
  },
  {
   "cell_type": "code",
   "execution_count": null,
   "id": "3a24afee",
   "metadata": {},
   "outputs": [],
   "source": []
  },
  {
   "cell_type": "markdown",
   "id": "f2b37d47",
   "metadata": {},
   "source": [
    "Ver2"
   ]
  },
  {
   "cell_type": "code",
   "execution_count": 371,
   "id": "da5cf55a",
   "metadata": {},
   "outputs": [],
   "source": [
    "import tracery\n",
    "from tracery.modifiers import base_english"
   ]
  },
  {
   "cell_type": "code",
   "execution_count": 392,
   "id": "1ca21951",
   "metadata": {},
   "outputs": [],
   "source": [
    "usernames = [\n",
    "    \"jerry\", \n",
    "    \"go_away\",\n",
    "    \"datingapp.io\"\n",
    "    \"internetperson1\", \n",
    "    \"chad\",\n",
    "    \"chillman\", \n",
    "    \"niceladyoverthere\", \n",
    "    \"anonymous\",\n",
    "    \"emotionalsheep\",\n",
    "    \"amywineapartment\",\n",
    "    \"certifiedcorpse\",\n",
    "    \"mark.himself\",\n",
    "    \"sadandbroke\",\n",
    "    \"nana_chan\",\n",
    "    \"bestchefnyc\",\n",
    "    \"chatgpt\",\n",
    "    \"lonelyboy\",\n",
    "    \"serenavanderwoodsen\",\n",
    "    \"taylorswift\",\n",
    "    \"nyutissue\",\n",
    "    \"water.pdf\",\n",
    "    \"itsmehihello\",\n",
    "    \"yukikoyamamoto\",\n",
    "    \"therealbenaffleck\",\n",
    "    \"keanu\",\n",
    "    \"notacoolkid\",\n",
    "    \"yourfavboyband\",\n",
    "    \"internetsushi\",\n",
    "    \"meeshfinsta\",\n",
    "    \"friedfish88\",\n",
    "    \"instagram\",\n",
    "    \"oceanjelly222\",\n",
    "    \"parishilton\"\n",
    "]"
   ]
  },
  {
   "cell_type": "code",
   "execution_count": 373,
   "id": "169fa8b0",
   "metadata": {},
   "outputs": [],
   "source": [
    "times = [\n",
    "    \"4h\", \n",
    "    \"45m\", \n",
    "    \"2h32m\", \n",
    "    \"6 days\",\n",
    "    \"16m\",\n",
    "    \"7h52m\",\n",
    "    \"just a few seconds\",\n",
    "    \"an eternity\",\n",
    "    \"forever\",\n",
    "    \"9y\",\n",
    "    \"2y\",\n",
    "    \"5m\",\n",
    "    \"ages\",\n",
    "    \"2 coffee breaks\",\n",
    "    \"90s\",\n",
    "    \"2s\",\n",
    "    \"45s\",\n",
    "    \"2 days\",\n",
    "    \"1h38m\",\n",
    "    \"not too long\"\n",
    "]"
   ]
  },
  {
   "cell_type": "code",
   "execution_count": 393,
   "id": "6f249958",
   "metadata": {},
   "outputs": [],
   "source": [
    "posts = [\n",
    "    \"Dear mom, I’m running away because you are making chicken for dinner AGAIN. \\nMake something good and I will come home.\",\n",
    "    \":)\",\n",
    "    \"DO NOT EAT MY LUNCH! I HAVE 7 SHRIMP AND 4,639 RICE.\",\n",
    "    \"what is 2 + 2 again?\",\n",
    "    \"Everything i want to do is illegal lol\",\n",
    "    \"I am so grateful to be alive oh my the sky is so blue and the cloud so fluffy!\",\n",
    "    \"i do not think \\ntherefore i do not am\",\n",
    "    \"I need a croissant. Now.\",\n",
    "    \"I pay my bills on time.\",\n",
    "    \"I want everything to be \\njust right.\",\n",
    "    \"HE TEXTED BACK\",\n",
    "    'We keep saying \"it is what it is\" \\nBut what is it',\n",
    "    \"That's hot\"\n",
    "    \"Roses are red \\nI am going to bed\",\n",
    "    \"I <3 aging and dying!\",\n",
    "    \"it's giving fuck this \\nit's giving bitch bye\",\n",
    "    \"It's officially March \\nIm a pisces of shit💩\",\n",
    "    \"1+2=3\"\n",
    "]"
   ]
  },
  {
   "cell_type": "code",
   "execution_count": 394,
   "id": "07a3453d",
   "metadata": {},
   "outputs": [],
   "source": [
    "amounts = [\n",
    "    \"32\", \n",
    "    \"12,345\", \n",
    "    \"3,787\", \n",
    "    \"645\",\n",
    "    \"24\", \n",
    "    \"365\", \n",
    "    \"7\", \n",
    "    \"56,400\",\n",
    "    \"777\",\n",
    "    \"89\",\n",
    "    \"640\",\n",
    "    \"420\",\n",
    "    \"2\",\n",
    "    \"784,808\",\n",
    "    \"64,203\",\n",
    "    \"934\"\n",
    "]"
   ]
  },
  {
   "cell_type": "code",
   "execution_count": 395,
   "id": "d0dcc23e",
   "metadata": {},
   "outputs": [],
   "source": [
    "comments = [\n",
    "    \"Slay.\", \n",
    "    \"Sounds Good.\", \n",
    "    \"wait what?\", \n",
    "    \"🥺\",\n",
    "    \"I love you\",\n",
    "    \"wtf\",\n",
    "    \"get off of the Internet, kid\",\n",
    "    \"click to win prize!\",\n",
    "    \"Can I pet your dog please\",\n",
    "    \"you look amazing\",\n",
    "    \"this is the funniest thing I've ever heard\",\n",
    "    \"legend\",\n",
    "    \"ohmigod\",\n",
    "    \"can you follow me back plz\",\n",
    "    \"lol you are the stupidiest person ever\",\n",
    "    \"MAke iT maKE SenSE\",\n",
    "    \"bye\",\n",
    "    \"ʕ•ᴥ•ʔ\",\n",
    "    \"我愛你\",\n",
    "    \"hello\",\n",
    "    \"text me\",\n",
    "    \"what else\",\n",
    "    \"take it off\",\n",
    "    \"💯\",\n",
    "    \"sent you a DM!\"\n",
    "]"
   ]
  },
  {
   "cell_type": "code",
   "execution_count": 413,
   "id": "f33bd5f8",
   "metadata": {
    "scrolled": true
   },
   "outputs": [
    {
     "name": "stdout",
     "output_type": "stream",
     "text": [
      "by @jerry | ages ago\n",
      "- - - - - - - - - - - - - - - - - - - - - - - - - - - - -\n",
      "DO NOT EAT MY LUNCH! I HAVE 7 SHRIMP AND 4,639 RICE.\n",
      "- - - - - - - - - - - - - - - - - - - - - - - - - - - - -\n",
      "7 likes | 645 comments\n",
      "Top comment -> @go_away: take it off\n",
      " \n",
      " \n",
      "by @yourfavboyband | ages ago\n",
      "- - - - - - - - - - - - - - - - - - - - - - - - - - - - -\n",
      "It's officially March \n",
      "Im a pisces of shit💩\n",
      "- - - - - - - - - - - - - - - - - - - - - - - - - - - - -\n",
      "365 likes | 7 comments\n",
      "Top comment -> @instagram: sent you a DM!\n",
      " \n",
      " \n",
      "by @notacoolkid | 2s ago\n",
      "- - - - - - - - - - - - - - - - - - - - - - - - - - - - -\n",
      "I need a croissant. Now.\n",
      "- - - - - - - - - - - - - - - - - - - - - - - - - - - - -\n",
      "640 likes | 645 comments\n",
      "Top comment -> @notacoolkid: you look amazing\n",
      " \n",
      " \n"
     ]
    }
   ],
   "source": [
    "rules = {\n",
    "    \"origin\": \"by @#username# | #time# ago\",\n",
    "    \"origin2\": \"#post#\",\n",
    "    \"origin3\": \"#amount# likes | #amount# comments\",\n",
    "    \"origin4\": \"Top comment -> @#commentor#: #comment#\",   \n",
    "    #1\n",
    "        \"username\": usernames,\n",
    "        \"time\": times,\n",
    "    #2    \n",
    "        \"post\": posts,\n",
    "        \"amount\": amounts,\n",
    "    #3\n",
    "        \"commentor\": usernames,\n",
    "        \"comment\": comments,\n",
    "}\n",
    "grammar = tracery.Grammar(rules)\n",
    "grammar.add_modifiers(base_english)\n",
    "\n",
    "for i in range(3):\n",
    "    print(grammar.flatten('#origin#'))\n",
    "    print(\"- - - - - - - - - - - - - - - - - - - - - - - - - - - - -\")\n",
    "    print(grammar.flatten('#origin2#'))\n",
    "    print(\"- - - - - - - - - - - - - - - - - - - - - - - - - - - - -\")\n",
    "    print(grammar.flatten('#origin3#'))\n",
    "    print(grammar.flatten('#origin4#'))\n",
    "    print(\" \" + \"\\n\" + \" \")"
   ]
  },
  {
   "cell_type": "code",
   "execution_count": null,
   "id": "264eae50",
   "metadata": {},
   "outputs": [],
   "source": []
  },
  {
   "cell_type": "code",
   "execution_count": null,
   "id": "db933242",
   "metadata": {},
   "outputs": [],
   "source": []
  },
  {
   "cell_type": "code",
   "execution_count": null,
   "id": "8350ea7a",
   "metadata": {},
   "outputs": [],
   "source": []
  },
  {
   "cell_type": "code",
   "execution_count": null,
   "id": "1dbcb622",
   "metadata": {},
   "outputs": [],
   "source": []
  },
  {
   "cell_type": "code",
   "execution_count": null,
   "id": "705a1f85",
   "metadata": {},
   "outputs": [],
   "source": []
  },
  {
   "cell_type": "code",
   "execution_count": null,
   "id": "a5af78b7",
   "metadata": {},
   "outputs": [],
   "source": []
  },
  {
   "cell_type": "code",
   "execution_count": null,
   "id": "7c7535ce",
   "metadata": {},
   "outputs": [],
   "source": []
  },
  {
   "cell_type": "code",
   "execution_count": null,
   "id": "b5212ea1",
   "metadata": {},
   "outputs": [],
   "source": []
  },
  {
   "cell_type": "code",
   "execution_count": null,
   "id": "b7cfca48",
   "metadata": {},
   "outputs": [],
   "source": []
  },
  {
   "cell_type": "code",
   "execution_count": null,
   "id": "8713ef68",
   "metadata": {},
   "outputs": [],
   "source": []
  },
  {
   "cell_type": "code",
   "execution_count": null,
   "id": "0142fd4f",
   "metadata": {},
   "outputs": [],
   "source": []
  },
  {
   "cell_type": "code",
   "execution_count": null,
   "id": "bb908885",
   "metadata": {},
   "outputs": [],
   "source": []
  },
  {
   "cell_type": "code",
   "execution_count": null,
   "id": "ffaa3923",
   "metadata": {},
   "outputs": [],
   "source": []
  },
  {
   "cell_type": "code",
   "execution_count": null,
   "id": "faa811cf",
   "metadata": {},
   "outputs": [],
   "source": []
  },
  {
   "cell_type": "code",
   "execution_count": null,
   "id": "8df4e386",
   "metadata": {},
   "outputs": [],
   "source": []
  },
  {
   "cell_type": "code",
   "execution_count": null,
   "id": "81cf222d",
   "metadata": {},
   "outputs": [],
   "source": []
  },
  {
   "cell_type": "code",
   "execution_count": null,
   "id": "407d5c46",
   "metadata": {},
   "outputs": [],
   "source": []
  },
  {
   "cell_type": "code",
   "execution_count": null,
   "id": "31b2b7c1",
   "metadata": {},
   "outputs": [],
   "source": []
  },
  {
   "cell_type": "code",
   "execution_count": null,
   "id": "64b5e382",
   "metadata": {},
   "outputs": [],
   "source": []
  },
  {
   "cell_type": "code",
   "execution_count": null,
   "id": "b5556bd6",
   "metadata": {},
   "outputs": [],
   "source": []
  },
  {
   "cell_type": "code",
   "execution_count": null,
   "id": "ae85e58d",
   "metadata": {},
   "outputs": [],
   "source": []
  },
  {
   "cell_type": "code",
   "execution_count": null,
   "id": "0edd878b",
   "metadata": {},
   "outputs": [],
   "source": []
  },
  {
   "cell_type": "code",
   "execution_count": null,
   "id": "2db98069",
   "metadata": {},
   "outputs": [],
   "source": []
  },
  {
   "cell_type": "code",
   "execution_count": null,
   "id": "84e1136b",
   "metadata": {},
   "outputs": [],
   "source": []
  },
  {
   "cell_type": "code",
   "execution_count": null,
   "id": "214a2bea",
   "metadata": {},
   "outputs": [],
   "source": []
  },
  {
   "cell_type": "code",
   "execution_count": null,
   "id": "45ec4548",
   "metadata": {},
   "outputs": [],
   "source": []
  },
  {
   "cell_type": "code",
   "execution_count": null,
   "id": "4b1e88ba",
   "metadata": {},
   "outputs": [],
   "source": []
  },
  {
   "cell_type": "code",
   "execution_count": null,
   "id": "887bbcd1",
   "metadata": {},
   "outputs": [],
   "source": []
  },
  {
   "cell_type": "code",
   "execution_count": null,
   "id": "76b36aad",
   "metadata": {},
   "outputs": [],
   "source": []
  },
  {
   "cell_type": "code",
   "execution_count": null,
   "id": "3a24e20f",
   "metadata": {},
   "outputs": [],
   "source": []
  },
  {
   "cell_type": "code",
   "execution_count": null,
   "id": "70d335a7",
   "metadata": {},
   "outputs": [],
   "source": []
  },
  {
   "cell_type": "code",
   "execution_count": null,
   "id": "e35339eb",
   "metadata": {},
   "outputs": [],
   "source": []
  },
  {
   "cell_type": "code",
   "execution_count": null,
   "id": "2aa2b534",
   "metadata": {},
   "outputs": [],
   "source": []
  },
  {
   "cell_type": "code",
   "execution_count": null,
   "id": "5420e052",
   "metadata": {},
   "outputs": [],
   "source": []
  },
  {
   "cell_type": "code",
   "execution_count": null,
   "id": "de6f50d8",
   "metadata": {},
   "outputs": [],
   "source": []
  },
  {
   "cell_type": "code",
   "execution_count": null,
   "id": "3b96d96c",
   "metadata": {},
   "outputs": [],
   "source": []
  },
  {
   "cell_type": "code",
   "execution_count": null,
   "id": "43a9c1d0",
   "metadata": {},
   "outputs": [],
   "source": []
  },
  {
   "cell_type": "code",
   "execution_count": null,
   "id": "9368e8d3",
   "metadata": {},
   "outputs": [],
   "source": []
  },
  {
   "cell_type": "code",
   "execution_count": null,
   "id": "a871c444",
   "metadata": {},
   "outputs": [],
   "source": []
  },
  {
   "cell_type": "code",
   "execution_count": null,
   "id": "6a064ec7",
   "metadata": {},
   "outputs": [],
   "source": []
  },
  {
   "cell_type": "code",
   "execution_count": null,
   "id": "cd6aba03",
   "metadata": {},
   "outputs": [],
   "source": []
  },
  {
   "cell_type": "code",
   "execution_count": null,
   "id": "87c1db25",
   "metadata": {},
   "outputs": [],
   "source": []
  },
  {
   "cell_type": "code",
   "execution_count": null,
   "id": "a280623a",
   "metadata": {},
   "outputs": [],
   "source": []
  },
  {
   "cell_type": "code",
   "execution_count": null,
   "id": "59273999",
   "metadata": {},
   "outputs": [],
   "source": []
  },
  {
   "cell_type": "code",
   "execution_count": null,
   "id": "665ec4a0",
   "metadata": {},
   "outputs": [],
   "source": []
  },
  {
   "cell_type": "code",
   "execution_count": null,
   "id": "052d4180",
   "metadata": {},
   "outputs": [],
   "source": []
  },
  {
   "cell_type": "code",
   "execution_count": null,
   "id": "c5494a2e",
   "metadata": {},
   "outputs": [],
   "source": []
  },
  {
   "cell_type": "code",
   "execution_count": null,
   "id": "945dfc3a",
   "metadata": {},
   "outputs": [],
   "source": []
  },
  {
   "cell_type": "code",
   "execution_count": null,
   "id": "368e5423",
   "metadata": {},
   "outputs": [],
   "source": []
  },
  {
   "cell_type": "code",
   "execution_count": null,
   "id": "97f1cf7b",
   "metadata": {},
   "outputs": [],
   "source": []
  },
  {
   "cell_type": "code",
   "execution_count": null,
   "id": "e34c9c85",
   "metadata": {},
   "outputs": [],
   "source": []
  },
  {
   "cell_type": "code",
   "execution_count": null,
   "id": "ae0bd3ed",
   "metadata": {},
   "outputs": [],
   "source": []
  }
 ],
 "metadata": {
  "kernelspec": {
   "display_name": "Python 3 (ipykernel)",
   "language": "python",
   "name": "python3"
  },
  "language_info": {
   "codemirror_mode": {
    "name": "ipython",
    "version": 3
   },
   "file_extension": ".py",
   "mimetype": "text/x-python",
   "name": "python",
   "nbconvert_exporter": "python",
   "pygments_lexer": "ipython3",
   "version": "3.11.8"
  }
 },
 "nbformat": 4,
 "nbformat_minor": 5
}
