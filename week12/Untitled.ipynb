{
 "cells": [
  {
   "cell_type": "code",
   "execution_count": 1,
   "id": "8d905fb3",
   "metadata": {},
   "outputs": [],
   "source": [
    "import tracery\n",
    "from tracery.modifiers import base_english"
   ]
  },
  {
   "cell_type": "code",
   "execution_count": 4,
   "id": "c60e98aa",
   "metadata": {},
   "outputs": [],
   "source": [
    "import json"
   ]
  },
  {
   "cell_type": "code",
   "execution_count": 13,
   "id": "ef394fc9",
   "metadata": {},
   "outputs": [],
   "source": [
    "color_data = json.load(open(\"crayola.json\"))"
   ]
  },
  {
   "cell_type": "code",
   "execution_count": 14,
   "id": "6a1198a9",
   "metadata": {},
   "outputs": [
    {
     "data": {
      "text/plain": [
       "{'description': 'List of Crayola crayon standard colors',\n",
       " 'colors': [{'color': 'Almond', 'hex': '#EFDECD'},\n",
       "  {'color': 'Antique Brass', 'hex': '#CD9575'},\n",
       "  {'color': 'Apricot', 'hex': '#FDD9B5'},\n",
       "  {'color': 'Aquamarine', 'hex': '#78DBE2'},\n",
       "  {'color': 'Asparagus', 'hex': '#87A96B'},\n",
       "  {'color': 'Atomic Tangerine', 'hex': '#FFA474'},\n",
       "  {'color': 'Banana Mania', 'hex': '#FAE7B5'},\n",
       "  {'color': 'Beaver', 'hex': '#9F8170'},\n",
       "  {'color': 'Bittersweet', 'hex': '#FD7C6E'},\n",
       "  {'color': 'Black', 'hex': '#000000'},\n",
       "  {'color': 'Blue', 'hex': '#1F75FE'},\n",
       "  {'color': 'Blue Bell', 'hex': '#A2A2D0'},\n",
       "  {'color': 'Blue Green', 'hex': '#0D98BA'},\n",
       "  {'color': 'Blue Violet', 'hex': '#7366BD'},\n",
       "  {'color': 'Blush', 'hex': '#DE5D83'},\n",
       "  {'color': 'Brick Red', 'hex': '#CB4154'},\n",
       "  {'color': 'Brown', 'hex': '#B4674D'},\n",
       "  {'color': 'Burnt Orange', 'hex': '#FF7F49'},\n",
       "  {'color': 'Burnt Sienna', 'hex': '#EA7E5D'},\n",
       "  {'color': 'Cadet Blue', 'hex': '#B0B7C6'},\n",
       "  {'color': 'Canary', 'hex': '#FFFF99'},\n",
       "  {'color': 'Caribbean Green', 'hex': '#00CC99'},\n",
       "  {'color': 'Carnation Pink', 'hex': '#FFAACC'},\n",
       "  {'color': 'Cerise', 'hex': '#DD4492'},\n",
       "  {'color': 'Cerulean', 'hex': '#1DACD6'},\n",
       "  {'color': 'Chestnut', 'hex': '#BC5D58'},\n",
       "  {'color': 'Copper', 'hex': '#DD9475'},\n",
       "  {'color': 'Cornflower', 'hex': '#9ACEEB'},\n",
       "  {'color': 'Cotton Candy', 'hex': '#FFBCD9'},\n",
       "  {'color': 'Dandelion', 'hex': '#FDDB6D'},\n",
       "  {'color': 'Denim', 'hex': '#2B6CC4'},\n",
       "  {'color': 'Desert Sand', 'hex': '#EFCDB8'},\n",
       "  {'color': 'Eggplant', 'hex': '#6E5160'},\n",
       "  {'color': 'Electric Lime', 'hex': '#CEFF1D'},\n",
       "  {'color': 'Fern', 'hex': '#71BC78'},\n",
       "  {'color': 'Forest Green', 'hex': '#6DAE81'},\n",
       "  {'color': 'Fuchsia', 'hex': '#C364C5'},\n",
       "  {'color': 'Fuzzy Wuzzy', 'hex': '#CC6666'},\n",
       "  {'color': 'Gold', 'hex': '#E7C697'},\n",
       "  {'color': 'Goldenrod', 'hex': '#FCD975'},\n",
       "  {'color': 'Granny Smith Apple', 'hex': '#A8E4A0'},\n",
       "  {'color': 'Gray', 'hex': '#95918C'},\n",
       "  {'color': 'Green', 'hex': '#1CAC78'},\n",
       "  {'color': 'Green Yellow', 'hex': '#F0E891'},\n",
       "  {'color': 'Hot Magenta', 'hex': '#FF1DCE'},\n",
       "  {'color': 'Inchworm', 'hex': '#B2EC5D'},\n",
       "  {'color': 'Indigo', 'hex': '#5D76CB'},\n",
       "  {'color': 'Jazzberry Jam', 'hex': '#CA3767'},\n",
       "  {'color': 'Jungle Green', 'hex': '#3BB08F'},\n",
       "  {'color': 'Laser Lemon', 'hex': '#FEFE22'},\n",
       "  {'color': 'Lavender', 'hex': '#FCB4D5'},\n",
       "  {'color': 'Macaroni and Cheese', 'hex': '#FFBD88'},\n",
       "  {'color': 'Magenta', 'hex': '#F664AF'},\n",
       "  {'color': 'Mahogany', 'hex': '#CD4A4C'},\n",
       "  {'color': 'Manatee', 'hex': '#979AAA'},\n",
       "  {'color': 'Mango Tango', 'hex': '#FF8243'},\n",
       "  {'color': 'Maroon', 'hex': '#C8385A'},\n",
       "  {'color': 'Mauvelous', 'hex': '#EF98AA'},\n",
       "  {'color': 'Melon', 'hex': '#FDBCB4'},\n",
       "  {'color': 'Midnight Blue', 'hex': '#1A4876'},\n",
       "  {'color': 'Mountain Meadow', 'hex': '#30BA8F'},\n",
       "  {'color': 'Navy Blue', 'hex': '#1974D2'},\n",
       "  {'color': 'Neon Carrot', 'hex': '#FFA343'},\n",
       "  {'color': 'Olive Green', 'hex': '#BAB86C'},\n",
       "  {'color': 'Orange', 'hex': '#FF7538'},\n",
       "  {'color': 'Orchid', 'hex': '#E6A8D7'},\n",
       "  {'color': 'Outer Space', 'hex': '#414A4C'},\n",
       "  {'color': 'Outrageous Orange', 'hex': '#FF6E4A'},\n",
       "  {'color': 'Pacific Blue', 'hex': '#1CA9C9'},\n",
       "  {'color': 'Peach', 'hex': '#FFCFAB'},\n",
       "  {'color': 'Periwinkle', 'hex': '#C5D0E6'},\n",
       "  {'color': 'Piggy Pink', 'hex': '#FDDDE6'},\n",
       "  {'color': 'Pine Green', 'hex': '#158078'},\n",
       "  {'color': 'Pink Flamingo', 'hex': '#FC74FD'},\n",
       "  {'color': 'Pink Sherbert', 'hex': '#F78FA7'},\n",
       "  {'color': 'Plum', 'hex': '#8E4585'},\n",
       "  {'color': 'Purple Heart', 'hex': '#7442C8'},\n",
       "  {'color': \"Purple Mountain's Majesty\", 'hex': '#9D81BA'},\n",
       "  {'color': 'Purple Pizzazz', 'hex': '#FE4EDA'},\n",
       "  {'color': 'Radical Red', 'hex': '#FF496C'},\n",
       "  {'color': 'Raw Sienna', 'hex': '#D68A59'},\n",
       "  {'color': 'Razzle Dazzle Rose', 'hex': '#FF48D0'},\n",
       "  {'color': 'Razzmatazz', 'hex': '#E3256B'},\n",
       "  {'color': 'Red', 'hex': '#EE204D'},\n",
       "  {'color': 'Red Orange', 'hex': '#FF5349'},\n",
       "  {'color': 'Red Violet', 'hex': '#C0448F'},\n",
       "  {'color': \"Robin's Egg Blue\", 'hex': '#1FCECB'},\n",
       "  {'color': 'Royal Purple', 'hex': '#7851A9'},\n",
       "  {'color': 'Salmon', 'hex': '#FF9BAA'},\n",
       "  {'color': 'Scarlet', 'hex': '#FC2847'},\n",
       "  {'color': \"Screamin' Green\", 'hex': '#76FF7A'},\n",
       "  {'color': 'Sea Green', 'hex': '#93DFB8'},\n",
       "  {'color': 'Sepia', 'hex': '#A5694F'},\n",
       "  {'color': 'Shadow', 'hex': '#8A795D'},\n",
       "  {'color': 'Shamrock', 'hex': '#45CEA2'},\n",
       "  {'color': 'Shocking Pink', 'hex': '#FB7EFD'},\n",
       "  {'color': 'Silver', 'hex': '#CDC5C2'},\n",
       "  {'color': 'Sky Blue', 'hex': '#80DAEB'},\n",
       "  {'color': 'Spring Green', 'hex': '#ECEABE'},\n",
       "  {'color': 'Sunglow', 'hex': '#FFCF48'},\n",
       "  {'color': 'Sunset Orange', 'hex': '#FD5E53'},\n",
       "  {'color': 'Tan', 'hex': '#FAA76C'},\n",
       "  {'color': 'Tickle Me Pink', 'hex': '#FC89AC'},\n",
       "  {'color': 'Timberwolf', 'hex': '#DBD7D2'},\n",
       "  {'color': 'Tropical Rain Forest', 'hex': '#17806D'},\n",
       "  {'color': 'Tumbleweed', 'hex': '#DEAA88'},\n",
       "  {'color': 'Turquoise Blue', 'hex': '#77DDE7'},\n",
       "  {'color': 'Unmellow Yellow', 'hex': '#FFFF66'},\n",
       "  {'color': 'Violet', 'hex': '#926EAE'},\n",
       "  {'color': 'Violet Red', 'hex': '#F75394'},\n",
       "  {'color': 'Vivid Tangerine', 'hex': '#FFA089'},\n",
       "  {'color': 'Vivid Violet', 'hex': '#8F509D'},\n",
       "  {'color': 'White', 'hex': '#FFFFFF'},\n",
       "  {'color': 'Wild Blue Yonder', 'hex': '#A2ADD0'},\n",
       "  {'color': 'Wild Strawberry', 'hex': '#FF43A4'},\n",
       "  {'color': 'Wild Watermelon', 'hex': '#FC6C85'},\n",
       "  {'color': 'Wisteria', 'hex': '#CDA4DE'},\n",
       "  {'color': 'Yellow', 'hex': '#FCE883'},\n",
       "  {'color': 'Yellow Green', 'hex': '#C5E384'},\n",
       "  {'color': 'Yellow Orange', 'hex': '#FFAE42'}]}"
      ]
     },
     "execution_count": 14,
     "metadata": {},
     "output_type": "execute_result"
    }
   ],
   "source": [
    "colors = color_data['colors']"
   ]
  },
  {
   "cell_type": "code",
   "execution_count": 18,
   "id": "bc8e7c9f",
   "metadata": {},
   "outputs": [
    {
     "name": "stderr",
     "output_type": "stream",
     "text": [
      "/Users/pien/anaconda3/lib/python3.11/site-packages/IPython/core/magics/basic.py:347: UserWarning: Error changing shell color schemes.\n",
      "The 'colors' trait of a ZMQInteractiveShell instance expected any of ['Neutral', 'NoColor', 'LightBG', 'Linux'] (case-insensitive), not the str '(0)'.\n",
      "  color_switch_err('shell')\n",
      "/Users/pien/anaconda3/lib/python3.11/site-packages/IPython/core/magics/basic.py:354: UserWarning: Error changing exception color schemes.\n",
      "Unrecognized color scheme: (0)\n",
      "Valid schemes: ['NoColor', 'Linux', 'LightBG', 'Neutral', '']\n",
      "  color_switch_err('exception')\n",
      "/Users/pien/anaconda3/lib/python3.11/site-packages/IPython/core/magics/basic.py:361: UserWarning: Error changing object inspector color schemes.\n",
      "Unrecognized color scheme: (0)\n",
      "Valid schemes: ['NoColor', 'Linux', 'LightBG', 'Neutral', '']\n",
      "  color_switch_err('object inspector')\n"
     ]
    }
   ],
   "source": [
    "colors(0)"
   ]
  },
  {
   "cell_type": "code",
   "execution_count": 17,
   "id": "51392bd6",
   "metadata": {},
   "outputs": [
    {
     "ename": "NameError",
     "evalue": "name 'color' is not defined",
     "output_type": "error",
     "traceback": [
      "\u001b[0;31m---------------------------------------------------------------------------\u001b[0m",
      "\u001b[0;31mNameError\u001b[0m                                 Traceback (most recent call last)",
      "Cell \u001b[0;32mIn[17], line 1\u001b[0m\n\u001b[0;32m----> 1\u001b[0m colors_strings \u001b[38;5;241m=\u001b[39m [item[\u001b[38;5;124m'\u001b[39m\u001b[38;5;124mcolor\u001b[39m\u001b[38;5;124m'\u001b[39m] \u001b[38;5;28;01mfor\u001b[39;00m item \u001b[38;5;129;01min\u001b[39;00m color]\n",
      "\u001b[0;31mNameError\u001b[0m: name 'color' is not defined"
     ]
    }
   ],
   "source": [
    "colors_strings = [item['color'] for item in colors]"
   ]
  },
  {
   "cell_type": "code",
   "execution_count": 5,
   "id": "d365c44b",
   "metadata": {},
   "outputs": [],
   "source": [
    "noun_data = json.load(open(\"nouns.json\"))"
   ]
  },
  {
   "cell_type": "code",
   "execution_count": 8,
   "id": "c4021dc5",
   "metadata": {},
   "outputs": [
    {
     "data": {
      "text/plain": [
       "dict"
      ]
     },
     "execution_count": 8,
     "metadata": {},
     "output_type": "execute_result"
    }
   ],
   "source": [
    "type(noun_data)"
   ]
  },
  {
   "cell_type": "code",
   "execution_count": 11,
   "id": "3b6979f6",
   "metadata": {},
   "outputs": [],
   "source": [
    "nouns = noun_data['nouns']"
   ]
  },
  {
   "cell_type": "code",
   "execution_count": 12,
   "id": "614b7b77",
   "metadata": {},
   "outputs": [
    {
     "ename": "SyntaxError",
     "evalue": "invalid syntax (3362731547.py, line 3)",
     "output_type": "error",
     "traceback": [
      "\u001b[0;36m  Cell \u001b[0;32mIn[12], line 3\u001b[0;36m\u001b[0m\n\u001b[0;31m    \"NP\": [\"the #noun#, the #adj# #noun#\"],\u001b[0m\n\u001b[0m        ^\u001b[0m\n\u001b[0;31mSyntaxError\u001b[0m\u001b[0;31m:\u001b[0m invalid syntax\n"
     ]
    }
   ],
   "source": [
    "rules = {\n",
    "    \"origin\": #NP# #VP#,\n",
    "    \"NP\": [\"the #noun#, the #adj# #noun#\", \"the #color# #noun#],\n",
    "    \"VP\": [\"#VERB#, #VERB# #NP#\"],\n",
    "    \"noun\": nouns,\n",
    "    \"adj\": [\"gorgeous\", \"insincere\", \"jealous\", \"solid\", \"incooperative\"],\n",
    "    \"verb\": [\"awakens\", \"expands\"],\n",
    "    \"color\": color_strings,\n",
    "    \n",
    "}\n",
    "grammar = tracer.Grammar(rules)\n",
    "grammar.add_modifiers(base_english)\n",
    "for i in range(10):\n",
    "    print(grammar.flatten(\"#origin#\"))"
   ]
  },
  {
   "cell_type": "code",
   "execution_count": null,
   "id": "7a99ded9",
   "metadata": {},
   "outputs": [],
   "source": []
  },
  {
   "cell_type": "code",
   "execution_count": null,
   "id": "be34e4a2",
   "metadata": {},
   "outputs": [],
   "source": []
  }
 ],
 "metadata": {
  "kernelspec": {
   "display_name": "Python 3 (ipykernel)",
   "language": "python",
   "name": "python3"
  },
  "language_info": {
   "codemirror_mode": {
    "name": "ipython",
    "version": 3
   },
   "file_extension": ".py",
   "mimetype": "text/x-python",
   "name": "python",
   "nbconvert_exporter": "python",
   "pygments_lexer": "ipython3",
   "version": "3.11.8"
  }
 },
 "nbformat": 4,
 "nbformat_minor": 5
}
