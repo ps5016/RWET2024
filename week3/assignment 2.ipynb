{
 "cells": [
  {
   "cell_type": "markdown",
   "id": "c5a8df06",
   "metadata": {},
   "source": [
    "The digital cut-up. \n",
    "Create a notebook program that reads in two or more texts and stores portions of them in Python data structures. \n",
    "The program should create textual output that creatively rearranges the contents of the text. \n",
    "Use functions from the random module as appropriate. \n",
    "You must use lists as part of your procedure. \n",
    "Choose one text that you created with your program to present in class."
   ]
  },
  {
   "cell_type": "code",
   "execution_count": 13,
   "id": "c4b39a3b",
   "metadata": {},
   "outputs": [
    {
     "name": "stdout",
     "output_type": "stream",
     "text": [
      "Rose, harsh rose, \n",
      "marred and with stint of petals, \n",
      "meagre flower, thin, \n",
      "spare of leaf,\n",
      "\n",
      "more precious \n",
      "than a wet rose \n",
      "single on a stem -- \n",
      "you are caught in the drift.\n",
      "\n",
      "Stunted, with small leaf, \n",
      "you are flung on the sand, \n",
      "you are lifted \n",
      "in the crisp sand \n",
      "that drives in the wind.\n",
      "\n",
      "Can the spice-rose \n",
      "drip such acrid fragrance \n",
      "hardened in a leaf?\n"
     ]
    }
   ],
   "source": [
    "  \n",
    "lines = text.splitlines()\n",
    "\n",
    "for line in lines:\n",
    "    print(line)"
   ]
  },
  {
   "cell_type": "code",
   "execution_count": 16,
   "id": "8a330f4b",
   "metadata": {},
   "outputs": [
    {
     "name": "stdout",
     "output_type": "stream",
     "text": [
      "Rose, harsh rose,\n",
      "marred and with stint of petals,\n",
      "meagre flower, thin,\n",
      "spare of leaf\n",
      " \n",
      "more precious\n",
      "than a wet rose\n",
      "single on a stem --\n",
      "you are caught in the drift.\n",
      " \n",
      "Stunted, with small leaf,\n",
      "you are flung on the sand,\n",
      "you are lifted\n",
      "in the crisp sand\n",
      "that drives in the wind.\n",
      " \n",
      "Can the spice-rose\n",
      "drip such acrid fragrance\n",
      "hardened in a leaf?\n"
     ]
    }
   ],
   "source": [
    "poem = [\n",
    "    \"Rose, harsh rose,\",\n",
    "    \"marred and with stint of petals,\",\n",
    "    \"meagre flower, thin,\",\n",
    "    \"spare of leaf\",\n",
    "    \" \",\n",
    "    \"more precious\",\n",
    "    \"than a wet rose\",\n",
    "    \"single on a stem --\",\n",
    "    \"you are caught in the drift.\",\n",
    "    \" \",\n",
    "    \"Stunted, with small leaf,\",\n",
    "    \"you are flung on the sand,\",\n",
    "    \"you are lifted\",\n",
    "    \"in the crisp sand\",\n",
    "    \"that drives in the wind.\",\n",
    "    \" \",\n",
    "    \"Can the spice-rose\",\n",
    "    \"drip such acrid fragrance\",\n",
    "    \"hardened in a leaf?\"\n",
    "]\n",
    "\n",
    "for line in poem:\n",
    "    print(line)"
   ]
  },
  {
   "cell_type": "code",
   "execution_count": 18,
   "id": "9212ca8b",
   "metadata": {},
   "outputs": [],
   "source": [
    "import random"
   ]
  },
  {
   "cell_type": "code",
   "execution_count": 21,
   "id": "8d8119e5",
   "metadata": {},
   "outputs": [
    {
     "name": "stdout",
     "output_type": "stream",
     "text": [
      "marred and with stint of petals,\n",
      "than a wet rose\n",
      "that drives in the wind.\n",
      "Stunted, with small leaf,\n",
      "you are flung on the sand,\n",
      "you are lifted\n",
      "spare of leaf\n",
      "more precious\n",
      " \n",
      " \n",
      "meagre flower, thin,\n",
      "Rose, harsh rose,\n",
      " \n",
      "in the crisp sand\n",
      "single on a stem --\n",
      "you are caught in the drift.\n",
      "Can the spice-rose\n",
      "drip such acrid fragrance\n",
      "hardened in a leaf?\n"
     ]
    }
   ],
   "source": [
    "random.shuffle(poem)\n",
    "new_poem = '\\n'.join(poem)\n",
    "print(new_poem)\n"
   ]
  },
  {
   "cell_type": "code",
   "execution_count": 22,
   "id": "f90bef50",
   "metadata": {
    "scrolled": true
   },
   "outputs": [
    {
     "name": "stdout",
     "output_type": "stream",
     "text": [
      " \n",
      "Rose, harsh rose,\n",
      "Stunted, with small leaf,\n",
      "in the crisp sand\n",
      "single on a stem --\n",
      "hardened in a leaf?\n",
      " \n",
      "Can the spice-rose\n",
      "you are lifted\n",
      "than a wet rose\n",
      "more precious\n",
      " \n",
      "that drives in the wind.\n",
      "marred and with stint of petals,\n",
      "you are caught in the drift.\n",
      "drip such acrid fragrance\n",
      "meagre flower, thin,\n",
      "you are flung on the sand,\n",
      "spare of leaf\n"
     ]
    }
   ],
   "source": [
    "random.shuffle(poem)\n",
    "new_poem = '\\n'.join(poem)\n",
    "print(new_poem)"
   ]
  },
  {
   "cell_type": "markdown",
   "id": "4813c232",
   "metadata": {},
   "source": [
    "## pick out the adjectives of the poem and swap them into different spots into the poem."
   ]
  },
  {
   "cell_type": "code",
   "execution_count": 23,
   "id": "2576866f",
   "metadata": {},
   "outputs": [
    {
     "name": "stdout",
     "output_type": "stream",
     "text": [
      "Rose, harsh rose,\n",
      "marred and with stint of petals,\n",
      "meagre flower, thin,\n",
      "spare of leaf\n",
      " \n",
      "more precious\n",
      "than a wet rose\n",
      "single on a stem --\n",
      "you are caught in the drift.\n",
      " \n",
      "Stunted, with small leaf,\n",
      "you are flung on the sand,\n",
      "you are lifted\n",
      "in the crisp sand\n",
      "that drives in the wind.\n",
      " \n",
      "Can the spice-rose\n",
      "drip such acrid fragrance\n",
      "hardened in a leaf?\n"
     ]
    }
   ],
   "source": [
    "poem = [\n",
    "    \"Rose, harsh rose,\",\n",
    "    \"marred and with stint of petals,\",\n",
    "    \"meagre flower, thin,\",\n",
    "    \"spare of leaf\",\n",
    "    \" \",\n",
    "    \"more precious\",\n",
    "    \"than a wet rose\",\n",
    "    \"single on a stem --\",\n",
    "    \"you are caught in the drift.\",\n",
    "    \" \",\n",
    "    \"Stunted, with small leaf,\",\n",
    "    \"you are flung on the sand,\",\n",
    "    \"you are lifted\",\n",
    "    \"in the crisp sand\",\n",
    "    \"that drives in the wind.\",\n",
    "    \" \",\n",
    "    \"Can the spice-rose\",\n",
    "    \"drip such acrid fragrance\",\n",
    "    \"hardened in a leaf?\"\n",
    "]\n",
    "\n",
    "for line in poem:\n",
    "    print(line)"
   ]
  },
  {
   "cell_type": "code",
   "execution_count": 26,
   "id": "746624f1",
   "metadata": {},
   "outputs": [
    {
     "name": "stdout",
     "output_type": "stream",
     "text": [
      "Rose, precious rose,\n",
      "meagre and with stint of petals,\n",
      "harsh flower, harsh,\n",
      "spare of leaf\n",
      " \n",
      "more precious\n",
      "than a small rose\n",
      "single on a stem --\n",
      "you are caught in the drift.\n",
      " \n",
      "small, with small leaf,\n",
      "you are flung on the sand,\n",
      "you are lifted\n",
      "in the marred sand\n",
      "that drives in the wind.\n",
      " \n",
      "Can the spice-rose\n",
      "drip such wet fragrance\n",
      "hardened in a leaf?\n"
     ]
    }
   ],
   "source": [
    "poem_with_slots = [\n",
    "    \"Rose, {adj} rose,\",\n",
    "    \"{adj} and with stint of petals,\",\n",
    "    \"{adj} flower, {adj},\",\n",
    "    \"spare of leaf\",\n",
    "    \" \",\n",
    "    \"more {adj}\",\n",
    "    \"than a {adj} rose\",\n",
    "    \"single on a stem --\",\n",
    "    \"you are caught in the drift.\",\n",
    "    \" \",\n",
    "    \"{adj}, with {adj} leaf,\",\n",
    "    \"you are flung on the sand,\",\n",
    "    \"you are lifted\",\n",
    "    \"in the {adj} sand\",\n",
    "    \"that drives in the wind.\",\n",
    "    \" \",\n",
    "    \"Can the spice-rose\",\n",
    "    \"drip such {adj} fragrance\",\n",
    "    \"hardened in a leaf?\"\n",
    "]\n",
    "\n",
    "# List of adjectives\n",
    "adjectives = [\n",
    "    \"harsh\", \"marred\", \"meagre\", \"thin\", \"precious\", \"wet\", \"Stunted\", \"small\", \"crisp\", \"acrid\" \n",
    "]\n",
    "\n",
    "# Shuffle the adjectives list\n",
    "random.shuffle(adjectives)\n",
    "\n",
    "# Assign adjectives randomly to slots in the poem\n",
    "filled_poem = [line.format(adj=random.choice(adjectives)) for line in poem_with_slots]\n",
    "\n",
    "# Print the filled poem\n",
    "for line in filled_poem:\n",
    "    print(line)"
   ]
  },
  {
   "cell_type": "code",
   "execution_count": null,
   "id": "fec28fea",
   "metadata": {},
   "outputs": [],
   "source": []
  },
  {
   "cell_type": "code",
   "execution_count": null,
   "id": "150ec153",
   "metadata": {},
   "outputs": [],
   "source": []
  },
  {
   "cell_type": "code",
   "execution_count": null,
   "id": "dfc3dd61",
   "metadata": {},
   "outputs": [],
   "source": []
  }
 ],
 "metadata": {
  "kernelspec": {
   "display_name": "Python 3 (ipykernel)",
   "language": "python",
   "name": "python3"
  },
  "language_info": {
   "codemirror_mode": {
    "name": "ipython",
    "version": 3
   },
   "file_extension": ".py",
   "mimetype": "text/x-python",
   "name": "python",
   "nbconvert_exporter": "python",
   "pygments_lexer": "ipython3",
   "version": "3.11.8"
  }
 },
 "nbformat": 4,
 "nbformat_minor": 5
}
