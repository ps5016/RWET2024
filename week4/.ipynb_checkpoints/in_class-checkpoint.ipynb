{
 "cells": [
  {
   "cell_type": "markdown",
   "id": "bfaf1312",
   "metadata": {},
   "source": [
    "# list comprehensions"
   ]
  },
  {
   "cell_type": "code",
   "execution_count": 2,
   "id": "14d31c6e",
   "metadata": {},
   "outputs": [],
   "source": [
    "numbers = [5, 10, 15, 20, 25]"
   ]
  },
  {
   "cell_type": "code",
   "execution_count": 3,
   "id": "907fb3c2",
   "metadata": {},
   "outputs": [
    {
     "data": {
      "text/plain": [
       "[5, 10, 15]"
      ]
     },
     "execution_count": 3,
     "metadata": {},
     "output_type": "execute_result"
    }
   ],
   "source": [
    "numbers[:3]"
   ]
  },
  {
   "cell_type": "code",
   "execution_count": 4,
   "id": "68e1e173",
   "metadata": {},
   "outputs": [
    {
     "data": {
      "text/plain": [
       "25"
      ]
     },
     "execution_count": 4,
     "metadata": {},
     "output_type": "execute_result"
    }
   ],
   "source": [
    "numbers[-1]"
   ]
  },
  {
   "cell_type": "markdown",
   "id": "517aeb73",
   "metadata": {},
   "source": [
    "* input (text)-> lines (units) -> process -> output (lines)\n",
    "* input (list) -> processing -> output (list)\n",
    "* processing: transforming each item in the list; filtering (only include a sublet of the lines in the output)"
   ]
  },
  {
   "cell_type": "code",
   "execution_count": 5,
   "id": "3177d6a8",
   "metadata": {},
   "outputs": [
    {
     "data": {
      "text/plain": [
       "[5, 10, 15, 20, 25]"
      ]
     },
     "execution_count": 5,
     "metadata": {},
     "output_type": "execute_result"
    }
   ],
   "source": [
    "numbers"
   ]
  },
  {
   "cell_type": "markdown",
   "id": "81650f78",
   "metadata": {},
   "source": [
    " [transform_expression for item in list_to_process if filter_expression2]"
   ]
  },
  {
   "cell_type": "code",
   "execution_count": 11,
   "id": "a441f9c4",
   "metadata": {},
   "outputs": [
    {
     "data": {
      "text/plain": [
       "[12, 17, 22, 27, 32]"
      ]
     },
     "execution_count": 11,
     "metadata": {},
     "output_type": "execute_result"
    }
   ],
   "source": [
    "[item + 7 for item in numbers]"
   ]
  },
  {
   "cell_type": "code",
   "execution_count": 12,
   "id": "733d4b7f",
   "metadata": {},
   "outputs": [
    {
     "data": {
      "text/plain": [
       "['hello', 'hello', 'hello', 'hello', 'hello']"
      ]
     },
     "execution_count": 12,
     "metadata": {},
     "output_type": "execute_result"
    }
   ],
   "source": [
    "[\"hello\" for item in numbers]"
   ]
  },
  {
   "cell_type": "code",
   "execution_count": 21,
   "id": "003ca7be",
   "metadata": {},
   "outputs": [
    {
     "data": {
      "text/plain": [
       "[25, 100, 225]"
      ]
     },
     "execution_count": 21,
     "metadata": {},
     "output_type": "execute_result"
    }
   ],
   "source": [
    "[item * item for item in numbers[:3]]"
   ]
  },
  {
   "cell_type": "code",
   "execution_count": 22,
   "id": "3b8445e3",
   "metadata": {},
   "outputs": [
    {
     "data": {
      "text/plain": [
       "[5, 10, 15, 20, 25]"
      ]
     },
     "execution_count": 22,
     "metadata": {},
     "output_type": "execute_result"
    }
   ],
   "source": [
    "numbers"
   ]
  },
  {
   "cell_type": "code",
   "execution_count": 23,
   "id": "81dc86af",
   "metadata": {},
   "outputs": [
    {
     "data": {
      "text/plain": [
       "[5, 15, 25]"
      ]
     },
     "execution_count": 23,
     "metadata": {},
     "output_type": "execute_result"
    }
   ],
   "source": [
    "[item for item in numbers if item % 2 == 1]"
   ]
  },
  {
   "cell_type": "code",
   "execution_count": 24,
   "id": "8d14110e",
   "metadata": {},
   "outputs": [
    {
     "data": {
      "text/plain": [
       "[15, 20, 25]"
      ]
     },
     "execution_count": 24,
     "metadata": {},
     "output_type": "execute_result"
    }
   ],
   "source": [
    "[item for item in numbers if item > 10]"
   ]
  },
  {
   "cell_type": "code",
   "execution_count": 25,
   "id": "a4a57cda",
   "metadata": {},
   "outputs": [
    {
     "data": {
      "text/plain": [
       "[5, 10, 15, 20, 25]"
      ]
     },
     "execution_count": 25,
     "metadata": {},
     "output_type": "execute_result"
    }
   ],
   "source": [
    "[item for item in numbers if True]"
   ]
  },
  {
   "cell_type": "code",
   "execution_count": 26,
   "id": "b7b42d19",
   "metadata": {},
   "outputs": [
    {
     "data": {
      "text/plain": [
       "[]"
      ]
     },
     "execution_count": 26,
     "metadata": {},
     "output_type": "execute_result"
    }
   ],
   "source": [
    "[item for item in numbers if False]"
   ]
  },
  {
   "cell_type": "code",
   "execution_count": 27,
   "id": "1ea5320b",
   "metadata": {},
   "outputs": [],
   "source": [
    "import random"
   ]
  },
  {
   "cell_type": "code",
   "execution_count": 28,
   "id": "6feba300",
   "metadata": {},
   "outputs": [
    {
     "data": {
      "text/plain": [
       "0.6311947533574803"
      ]
     },
     "execution_count": 28,
     "metadata": {},
     "output_type": "execute_result"
    }
   ],
   "source": [
    "random.random()"
   ]
  },
  {
   "cell_type": "code",
   "execution_count": 29,
   "id": "4f2454df",
   "metadata": {},
   "outputs": [
    {
     "data": {
      "text/plain": [
       "[15, 20, 25]"
      ]
     },
     "execution_count": 29,
     "metadata": {},
     "output_type": "execute_result"
    }
   ],
   "source": [
    "[item for item in numbers if random.random() > 0.5]"
   ]
  },
  {
   "cell_type": "code",
   "execution_count": 52,
   "id": "5593d0ba",
   "metadata": {},
   "outputs": [],
   "source": [
    "text = open(\"sea_rose.txt\").read()"
   ]
  },
  {
   "cell_type": "code",
   "execution_count": 53,
   "id": "c56bc5ba",
   "metadata": {},
   "outputs": [],
   "source": [
    "words = text.split()"
   ]
  },
  {
   "cell_type": "code",
   "execution_count": 55,
   "id": "a42ca088",
   "metadata": {},
   "outputs": [
    {
     "data": {
      "text/plain": [
       "['hello THIN,',\n",
       " 'hello THAN',\n",
       " 'hello THE',\n",
       " 'hello THE',\n",
       " 'hello THE',\n",
       " 'hello THAT',\n",
       " 'hello THE',\n",
       " 'hello THE']"
      ]
     },
     "execution_count": 55,
     "metadata": {},
     "output_type": "execute_result"
    }
   ],
   "source": [
    "[\"hello \" + item.upper() for item in words if item.startswith('t')]"
   ]
  },
  {
   "cell_type": "markdown",
   "id": "375f996a",
   "metadata": {},
   "source": [
    "# for loops"
   ]
  },
  {
   "cell_type": "markdown",
   "id": "b4758009",
   "metadata": {},
   "source": [
    "     //javascript\n",
    "    for (let i = 0; i < 10; i++){\n",
    "        console.log()\n",
    "    }"
   ]
  },
  {
   "cell_type": "code",
   "execution_count": 59,
   "id": "4029b765",
   "metadata": {},
   "outputs": [
    {
     "name": "stdout",
     "output_type": "stream",
     "text": [
      "5\n",
      "hey!\n",
      "10\n",
      "hey!\n",
      "15\n",
      "hey!\n",
      "20\n",
      "hey!\n",
      "25\n",
      "hey!\n",
      "done!\n"
     ]
    }
   ],
   "source": [
    "for item in numbers:\n",
    "    print(item) #indent needed (white space)\n",
    "    print(\"hey!\") #indent needed (white space)\n",
    "print(\"done!\")"
   ]
  },
  {
   "cell_type": "markdown",
   "id": "5390b319",
   "metadata": {},
   "source": [
    "input -> process -> output"
   ]
  },
  {
   "cell_type": "code",
   "execution_count": 66,
   "id": "5d3f7d6b",
   "metadata": {},
   "outputs": [
    {
     "data": {
      "text/plain": [
       "[5, 10, 15, 20, 25]"
      ]
     },
     "execution_count": 66,
     "metadata": {},
     "output_type": "execute_result"
    }
   ],
   "source": [
    "numbers"
   ]
  },
  {
   "cell_type": "code",
   "execution_count": 91,
   "id": "183018e0",
   "metadata": {},
   "outputs": [
    {
     "data": {
      "text/plain": [
       "[10, 20, 30, 40, 50]"
      ]
     },
     "execution_count": 91,
     "metadata": {},
     "output_type": "execute_result"
    }
   ],
   "source": [
    "new_numbers = []\n",
    "for item in numbers:\n",
    "    new_numbers.append(item * 2)\n",
    "new_numbers"
   ]
  },
  {
   "cell_type": "markdown",
   "id": "ee7cd428",
   "metadata": {},
   "source": [
    "# writing a program that generates acrostics\n",
    "\n",
    "\"robert\"\n",
    "\n",
    "roads\n",
    "other\n",
    "bent\n",
    "e\n",
    "r\n",
    "t"
   ]
  },
  {
   "cell_type": "code",
   "execution_count": 98,
   "id": "0e9979f1",
   "metadata": {},
   "outputs": [],
   "source": [
    "words = open(\"frost.txt\").read().split()"
   ]
  },
  {
   "cell_type": "code",
   "execution_count": 101,
   "id": "f3862236",
   "metadata": {},
   "outputs": [],
   "source": [
    "#lots of repetition\n",
    "#lots of variables? how to remember them?\n",
    "#inflexible?\n",
    "#what if the seed phrase comes from the user horatio\n",
    "#what if we're working with a different source text\n",
    "\n",
    "r_words = [item for item in words if item.startswith(\"r\")]\n",
    "o_words = [item for item in words if item.startswith(\"o\")]\n",
    "b_words = [item for item in words if item.startswith(\"b\")]"
   ]
  },
  {
   "cell_type": "code",
   "execution_count": 102,
   "id": "b95f2ea7",
   "metadata": {},
   "outputs": [
    {
     "name": "stdout",
     "output_type": "stream",
     "text": [
      "roads\n",
      "one\n",
      "be\n"
     ]
    }
   ],
   "source": [
    "print(random.choice(r_words))\n",
    "print(random.choice(o_words))\n",
    "print(random.choice(b_words))"
   ]
  },
  {
   "cell_type": "code",
   "execution_count": null,
   "id": "80379a5e",
   "metadata": {},
   "outputs": [],
   "source": [
    "what we need: data structure that allows us to create variables on the fly? dictionary!"
   ]
  }
 ],
 "metadata": {
  "kernelspec": {
   "display_name": "Python 3 (ipykernel)",
   "language": "python",
   "name": "python3"
  },
  "language_info": {
   "codemirror_mode": {
    "name": "ipython",
    "version": 3
   },
   "file_extension": ".py",
   "mimetype": "text/x-python",
   "name": "python",
   "nbconvert_exporter": "python",
   "pygments_lexer": "ipython3",
   "version": "3.11.8"
  }
 },
 "nbformat": 4,
 "nbformat_minor": 5
}
